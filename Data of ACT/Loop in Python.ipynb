{
 "cells": [
  {
   "cell_type": "markdown",
   "id": "2c6c898e",
   "metadata": {},
   "source": [
    "# While Loop"
   ]
  },
  {
   "cell_type": "code",
   "execution_count": 1,
   "id": "bf3fa230",
   "metadata": {},
   "outputs": [
    {
     "name": "stdout",
     "output_type": "stream",
     "text": [
      "Enter the number: 1\n",
      "Value is:  1\n",
      "Value is:  2\n",
      "Value is:  3\n",
      "Value is:  4\n",
      "Value is:  5\n",
      "Value is:  6\n",
      "Value is:  7\n",
      "Value is:  8\n",
      "Value is:  9\n",
      "Value is:  10\n"
     ]
    }
   ],
   "source": [
    "#print 1 to 10 using while loop\n",
    "\n",
    "a = int(input(\"Enter the number: \"))\n",
    "while(a <= 10):\n",
    "    print(\"Value is: \",a)\n",
    "    a += 1"
   ]
  },
  {
   "cell_type": "code",
   "execution_count": 2,
   "id": "8e5f4a47",
   "metadata": {},
   "outputs": [
    {
     "name": "stdout",
     "output_type": "stream",
     "text": [
      "Enter the number to find table of it: 2\n",
      "2 * 1 :  2\n",
      "2 * 2 :  4\n",
      "2 * 3 :  6\n",
      "2 * 4 :  8\n",
      "2 * 5 :  10\n",
      "2 * 6 :  12\n",
      "2 * 7 :  14\n",
      "2 * 8 :  16\n",
      "2 * 9 :  18\n",
      "2 * 10 :  20\n"
     ]
    }
   ],
   "source": [
    "#multiplication using while\n",
    "a = int(input(\"Enter the number to find table of it: \"))\n",
    "count = 1\n",
    "while(count <= 10):\n",
    "    a = a*1;\n",
    "    print(a,\"*\",count,\": \",a*count)\n",
    "    count += 1"
   ]
  },
  {
   "cell_type": "code",
   "execution_count": 3,
   "id": "d7a24133",
   "metadata": {},
   "outputs": [
    {
     "name": "stdout",
     "output_type": "stream",
     "text": [
      "Enter the number to find factorial: 5\n",
      "120\n"
     ]
    }
   ],
   "source": [
    "#factorial \n",
    "j = int(input(\"Enter the number to find factorial: \"))\n",
    "f = 1\n",
    "if(j<0):\n",
    "    print(\"Factorial of negative numbers is not possible\")\n",
    "elif(j==0):\n",
    "    print(\"Factorial of Zero is 1\")\n",
    "else:\n",
    "    while(j>0):\n",
    "        f =f * j\n",
    "        j =j -1\n",
    "print(f)"
   ]
  },
  {
   "cell_type": "code",
   "execution_count": 4,
   "id": "acf2e3d6",
   "metadata": {},
   "outputs": [
    {
     "name": "stdout",
     "output_type": "stream",
     "text": [
      "Enter the number to find factor of it: 12\n",
      "1\n",
      "2\n",
      "3\n",
      "4\n",
      "6\n",
      "12\n"
     ]
    }
   ],
   "source": [
    "#finding factors\n",
    "\n",
    "n = int(input(\"Enter the number to find factor of it: \"))\n",
    "v = 1\n",
    "while(v <= n):\n",
    "    if(n%v == 0):\n",
    "        print(v)\n",
    "    v = v + 1"
   ]
  },
  {
   "cell_type": "code",
   "execution_count": 5,
   "id": "e45d2b3b",
   "metadata": {},
   "outputs": [
    {
     "name": "stdout",
     "output_type": "stream",
     "text": [
      "Enter the total value you want to enter: 10\n",
      "Enter the value: 1\n",
      "Enter the value: 2\n",
      "Enter the value: 3\n",
      "Enter the value: 4\n",
      "Enter the value: 0\n",
      "Enter the value: 0\n",
      "Enter the value: 0\n",
      "Enter the value: -5\n",
      "Enter the value: -34\n",
      "Enter the value: -8\n",
      "Positive:  4\n",
      "Negative:  3\n",
      "Zeros:  3\n"
     ]
    }
   ],
   "source": [
    "#counting positive, negative and zero values\n",
    "\n",
    "p,n,z,c = 0,0,0,1\n",
    "a = int(input(\"Enter the total value you want to enter: \"))\n",
    "while(c<=a):\n",
    "    i = int(input(\"Enter the value: \"))\n",
    "    if(i == 0):\n",
    "        z += 1\n",
    "    elif(i < 0):\n",
    "        n += 1\n",
    "    elif(i > 0):\n",
    "        p += 1\n",
    "    c += 1\n",
    "print(\"Positive: \",p)\n",
    "print(\"Negative: \",n)\n",
    "print(\"Zeros: \",z)"
   ]
  },
  {
   "cell_type": "markdown",
   "id": "567e3dda",
   "metadata": {},
   "source": [
    "# For Loop"
   ]
  },
  {
   "cell_type": "code",
   "execution_count": 6,
   "id": "c6a75b73",
   "metadata": {},
   "outputs": [
    {
     "name": "stdout",
     "output_type": "stream",
     "text": [
      "0\n",
      "1\n",
      "2\n",
      "3\n",
      "4\n",
      "5\n",
      "6\n",
      "7\n",
      "8\n",
      "9\n",
      "10\n"
     ]
    }
   ],
   "source": [
    "# 1 to 10\n",
    "for x in range(11):\n",
    "    print(x)"
   ]
  },
  {
   "cell_type": "code",
   "execution_count": 7,
   "id": "270a8062",
   "metadata": {},
   "outputs": [
    {
     "name": "stdout",
     "output_type": "stream",
     "text": [
      "1 2 3 4 5 6 7 8 9 10 "
     ]
    }
   ],
   "source": [
    "for x in range(1,11):\n",
    "    print(x, end = \" \")"
   ]
  },
  {
   "cell_type": "code",
   "execution_count": 8,
   "id": "7a6a2e3f",
   "metadata": {},
   "outputs": [
    {
     "name": "stdout",
     "output_type": "stream",
     "text": [
      "55\n"
     ]
    }
   ],
   "source": [
    "# 1 to 10 sum\n",
    "sum = 0\n",
    "for x in range(1,11):\n",
    "    sum = sum+x\n",
    "print(sum)"
   ]
  },
  {
   "cell_type": "code",
   "execution_count": 9,
   "id": "521f0978",
   "metadata": {},
   "outputs": [
    {
     "name": "stdout",
     "output_type": "stream",
     "text": [
      "Enter the number to find table of it: 5\n",
      "5 * 1 :  5\n",
      "5 * 2 :  10\n",
      "5 * 3 :  15\n",
      "5 * 4 :  20\n",
      "5 * 5 :  25\n",
      "5 * 6 :  30\n",
      "5 * 7 :  35\n",
      "5 * 8 :  40\n",
      "5 * 9 :  45\n",
      "5 * 10 :  50\n"
     ]
    }
   ],
   "source": [
    "#multiplication table using for loop\n",
    "\n",
    "a = int(input(\"Enter the number to find table of it: \"))\n",
    "for count in range(1,11):\n",
    "    print(a,\"*\",count,\": \",a*count)"
   ]
  },
  {
   "cell_type": "code",
   "execution_count": 10,
   "id": "21def2d1",
   "metadata": {},
   "outputs": [
    {
     "name": "stdout",
     "output_type": "stream",
     "text": [
      "Even number is:  2\n",
      "Even number is:  4\n",
      "Even number is:  6\n",
      "Even number is:  8\n",
      "Even number is:  10\n",
      "Even number is:  12\n",
      "Even number is:  14\n",
      "Even number is:  16\n",
      "Even number is:  18\n",
      "Even number is:  20\n",
      "\n",
      "\n",
      "\n",
      "Sum is:  110\n"
     ]
    }
   ],
   "source": [
    "#printing even number from 1 to 20 and adding them\n",
    "sum = 0\n",
    "for a in range(1,21):\n",
    "    if(a%2 == 0):\n",
    "        print(\"Even number is: \",a)\n",
    "        sum = sum+a\n",
    "print(\"\\n\\n\")\n",
    "print(\"Sum is: \",sum)"
   ]
  },
  {
   "cell_type": "code",
   "execution_count": 11,
   "id": "d6e5b164",
   "metadata": {},
   "outputs": [
    {
     "name": "stdout",
     "output_type": "stream",
     "text": [
      "Enter the number: 5\n",
      "120\n"
     ]
    }
   ],
   "source": [
    "#factorial using math\n",
    "import math\n",
    "i = int(input(\"Enter the number: \"))\n",
    "print(math.factorial(i))"
   ]
  }
 ],
 "metadata": {
  "kernelspec": {
   "display_name": "Python 3",
   "language": "python",
   "name": "python3"
  },
  "language_info": {
   "codemirror_mode": {
    "name": "ipython",
    "version": 3
   },
   "file_extension": ".py",
   "mimetype": "text/x-python",
   "name": "python",
   "nbconvert_exporter": "python",
   "pygments_lexer": "ipython3",
   "version": "3.8.8"
  }
 },
 "nbformat": 4,
 "nbformat_minor": 5
}
