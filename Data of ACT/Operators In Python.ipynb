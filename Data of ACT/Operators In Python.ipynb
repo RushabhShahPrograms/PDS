{
 "cells": [
  {
   "cell_type": "markdown",
   "id": "a7c75c67",
   "metadata": {},
   "source": [
    "# Assigment Operator"
   ]
  },
  {
   "cell_type": "code",
   "execution_count": 23,
   "id": "56d24f2b",
   "metadata": {},
   "outputs": [],
   "source": [
    "a = 10\n",
    "b = 5"
   ]
  },
  {
   "cell_type": "code",
   "execution_count": 24,
   "id": "6d0810ca",
   "metadata": {},
   "outputs": [
    {
     "name": "stdout",
     "output_type": "stream",
     "text": [
      "Addition:  15\n"
     ]
    }
   ],
   "source": [
    "a+=b\n",
    "print(\"Addition: \",(a))"
   ]
  },
  {
   "cell_type": "code",
   "execution_count": 31,
   "id": "b7357e4f",
   "metadata": {},
   "outputs": [
    {
     "name": "stdout",
     "output_type": "stream",
     "text": [
      "Subtraction:  5\n"
     ]
    }
   ],
   "source": [
    "a = 10\n",
    "b = 5 \n",
    "a-=b\n",
    "print(\"Subtraction: \",(a))"
   ]
  },
  {
   "cell_type": "code",
   "execution_count": 32,
   "id": "52595347",
   "metadata": {},
   "outputs": [
    {
     "name": "stdout",
     "output_type": "stream",
     "text": [
      "Multiplication:  50\n"
     ]
    },
    {
     "data": {
      "text/plain": [
       "10.0"
      ]
     },
     "execution_count": 32,
     "metadata": {},
     "output_type": "execute_result"
    }
   ],
   "source": [
    "a = 10\n",
    "b = 5\n",
    "a*=b\n",
    "print(\"Multiplication: \",(a))\n",
    "a/b"
   ]
  },
  {
   "cell_type": "code",
   "execution_count": 33,
   "id": "cc6f721d",
   "metadata": {},
   "outputs": [
    {
     "name": "stdout",
     "output_type": "stream",
     "text": [
      "Division:  2.0\n"
     ]
    }
   ],
   "source": [
    "a =10\n",
    "b = 5\n",
    "a/=b\n",
    "print(\"Division: \",(a))"
   ]
  },
  {
   "cell_type": "code",
   "execution_count": 35,
   "id": "bcee4811",
   "metadata": {},
   "outputs": [
    {
     "name": "stdout",
     "output_type": "stream",
     "text": [
      "Modulo:  5\n"
     ]
    }
   ],
   "source": [
    "a = 5\n",
    "b = 10\n",
    "a%=b\n",
    "print(\"Modulo: \",(a))"
   ]
  },
  {
   "cell_type": "code",
   "execution_count": 36,
   "id": "33c2fc04",
   "metadata": {},
   "outputs": [
    {
     "name": "stdout",
     "output_type": "stream",
     "text": [
      "Floor Division:  2\n"
     ]
    }
   ],
   "source": [
    "a = 10\n",
    "b = 5\n",
    "a//=b\n",
    "print(\"Floor Division: \",(a))"
   ]
  },
  {
   "cell_type": "code",
   "execution_count": 37,
   "id": "8bd1c3a2",
   "metadata": {},
   "outputs": [
    {
     "name": "stdout",
     "output_type": "stream",
     "text": [
      "Exponention:  100000\n"
     ]
    }
   ],
   "source": [
    "a = 10\n",
    "b = 5\n",
    "a**=b\n",
    "print(\"Exponention: \",(a))"
   ]
  },
  {
   "cell_type": "markdown",
   "id": "02aa937c",
   "metadata": {},
   "source": [
    "# Comparison Operator"
   ]
  },
  {
   "cell_type": "code",
   "execution_count": 9,
   "id": "937edae2",
   "metadata": {},
   "outputs": [
    {
     "name": "stdout",
     "output_type": "stream",
     "text": [
      "Enter the number: 23\n",
      "Enter the number: 23\n",
      "Both are same\n"
     ]
    }
   ],
   "source": [
    "x = int(input(\"Enter the number: \"))\n",
    "y = int(input(\"Enter the number: \"))\n",
    "\n",
    "if(x>y):\n",
    "    print(\"x is big\")\n",
    "elif(x<y):\n",
    "    print(\"y is big\")\n",
    "elif(x==y):\n",
    "    print(\"Both are same\")\n",
    "else:\n",
    "    print(\"Null\")"
   ]
  },
  {
   "cell_type": "code",
   "execution_count": 12,
   "id": "b1626469",
   "metadata": {},
   "outputs": [
    {
     "name": "stdout",
     "output_type": "stream",
     "text": [
      "Enter the number: 23\n",
      "Enter the number: 54\n",
      "x is small\n"
     ]
    }
   ],
   "source": [
    "q = int(input(\"Enter the number: \"))\n",
    "w = int(input(\"Enter the number: \"))\n",
    "\n",
    "if(x != y):\n",
    "    print(\"Not same\")\n",
    "elif(x <= y):\n",
    "    print(\"x is small\")\n",
    "elif(x >= y):\n",
    "    print(\"y is small\")\n",
    "else:\n",
    "    print(\"Null\")"
   ]
  },
  {
   "cell_type": "markdown",
   "id": "01e3b583",
   "metadata": {},
   "source": [
    "# Logical Operator"
   ]
  },
  {
   "cell_type": "code",
   "execution_count": 16,
   "id": "0e998ded",
   "metadata": {},
   "outputs": [
    {
     "name": "stdout",
     "output_type": "stream",
     "text": [
      "x and y is:  0\n",
      "x or y is:  1\n",
      "not x is:  True\n"
     ]
    }
   ],
   "source": [
    "#And\n",
    "x = 1\n",
    "y = 0\n",
    "print(\"x and y is: \",x and y)\n",
    "\n",
    "#Or\n",
    "x = 0\n",
    "y = 1\n",
    "print(\"x or y is: \",x or y)\n",
    "\n",
    "#Not\n",
    "x = 0\n",
    "print(\"not x is: \",(not x))"
   ]
  },
  {
   "cell_type": "markdown",
   "id": "b8a2f97e",
   "metadata": {},
   "source": [
    "# Bitwise Operator"
   ]
  },
  {
   "cell_type": "code",
   "execution_count": 22,
   "id": "a86c350a",
   "metadata": {},
   "outputs": [
    {
     "name": "stdout",
     "output_type": "stream",
     "text": [
      "i & j:  0\n",
      "i | j:  14\n",
      " ~ i:  -11\n",
      "i^j:  14\n",
      "i>>2:  2\n",
      "i<<2 40\n"
     ]
    }
   ],
   "source": [
    "# & | ~ ^ >> <<\n",
    "\n",
    "i = 10\n",
    "j = 4\n",
    "\n",
    "print(\"i & j: \",i & j)\n",
    "print(\"i | j: \", i | j)\n",
    "print(\" ~ i: \", ~i)\n",
    "print(\"i^j: \", i^j)\n",
    "print(\"i>>2: \", i>>2)\n",
    "print(\"i<<2\", i<<2)"
   ]
  },
  {
   "cell_type": "code",
   "execution_count": null,
   "id": "7308140d",
   "metadata": {},
   "outputs": [],
   "source": []
  }
 ],
 "metadata": {
  "kernelspec": {
   "display_name": "Python 3",
   "language": "python",
   "name": "python3"
  },
  "language_info": {
   "codemirror_mode": {
    "name": "ipython",
    "version": 3
   },
   "file_extension": ".py",
   "mimetype": "text/x-python",
   "name": "python",
   "nbconvert_exporter": "python",
   "pygments_lexer": "ipython3",
   "version": "3.8.8"
  }
 },
 "nbformat": 4,
 "nbformat_minor": 5
}
