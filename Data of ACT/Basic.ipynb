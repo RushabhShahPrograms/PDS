{
 "cells": [
  {
   "cell_type": "markdown",
   "id": "a6719f59",
   "metadata": {},
   "source": [
    "# Using print() function"
   ]
  },
  {
   "cell_type": "code",
   "execution_count": 1,
   "id": "b3d2c8ab",
   "metadata": {},
   "outputs": [
    {
     "name": "stdout",
     "output_type": "stream",
     "text": [
      "Hello\n"
     ]
    }
   ],
   "source": [
    "print(\"Hello\")"
   ]
  },
  {
   "cell_type": "markdown",
   "id": "1a858876",
   "metadata": {},
   "source": [
    "# Assigning values to variables"
   ]
  },
  {
   "cell_type": "code",
   "execution_count": 2,
   "id": "325a8fda",
   "metadata": {},
   "outputs": [
    {
     "name": "stdout",
     "output_type": "stream",
     "text": [
      "50\n",
      "50\n",
      "50\n"
     ]
    }
   ],
   "source": [
    "x=y=z=50\n",
    "print(x)\n",
    "print(y)\n",
    "print(z)"
   ]
  },
  {
   "cell_type": "code",
   "execution_count": 3,
   "id": "9cd3d5b1",
   "metadata": {},
   "outputs": [
    {
     "name": "stdout",
     "output_type": "stream",
     "text": [
      "5\n",
      "10\n",
      "15\n"
     ]
    }
   ],
   "source": [
    "a,b,c= 5,10,15\n",
    "print(a)\n",
    "print(b)\n",
    "print(c)"
   ]
  },
  {
   "cell_type": "code",
   "execution_count": 4,
   "id": "81d5414b",
   "metadata": {},
   "outputs": [
    {
     "name": "stdout",
     "output_type": "stream",
     "text": [
      "type is:  <class 'int'>\n"
     ]
    }
   ],
   "source": [
    "#type() function\n",
    "\n",
    "x=10\n",
    "print(\"type is: \",type(x))"
   ]
  },
  {
   "cell_type": "code",
   "execution_count": 5,
   "id": "9b097d77",
   "metadata": {},
   "outputs": [
    {
     "name": "stdout",
     "output_type": "stream",
     "text": [
      "<class 'float'>\n"
     ]
    }
   ],
   "source": [
    "x=10.67\n",
    "print(type(x))"
   ]
  },
  {
   "cell_type": "code",
   "execution_count": 6,
   "id": "f168e8e2",
   "metadata": {},
   "outputs": [
    {
     "name": "stdout",
     "output_type": "stream",
     "text": [
      "<class 'str'>\n"
     ]
    }
   ],
   "source": [
    "x=\"python\"\n",
    "print(type(x))"
   ]
  },
  {
   "cell_type": "code",
   "execution_count": 7,
   "id": "61f8ad59",
   "metadata": {},
   "outputs": [
    {
     "name": "stdout",
     "output_type": "stream",
     "text": [
      "hello\n"
     ]
    }
   ],
   "source": [
    "a=\"hello\"\n",
    "print(a)"
   ]
  },
  {
   "cell_type": "code",
   "execution_count": 8,
   "id": "40f07b47",
   "metadata": {},
   "outputs": [
    {
     "name": "stdout",
     "output_type": "stream",
     "text": [
      "20\n"
     ]
    }
   ],
   "source": [
    "a=b=10\n",
    "print(a+b)"
   ]
  },
  {
   "cell_type": "code",
   "execution_count": 9,
   "id": "4d5df3bd",
   "metadata": {},
   "outputs": [
    {
     "name": "stdout",
     "output_type": "stream",
     "text": [
      "12\n"
     ]
    }
   ],
   "source": [
    "a,b=5,7\n",
    "print(a+b)"
   ]
  },
  {
   "cell_type": "code",
   "execution_count": 10,
   "id": "9b94eb14",
   "metadata": {},
   "outputs": [
    {
     "name": "stdout",
     "output_type": "stream",
     "text": [
      "12\n"
     ]
    }
   ],
   "source": [
    "a=5\n",
    "b=7\n",
    "print(a+b)"
   ]
  },
  {
   "cell_type": "code",
   "execution_count": 11,
   "id": "faf3f84b",
   "metadata": {},
   "outputs": [
    {
     "name": "stdout",
     "output_type": "stream",
     "text": [
      "9\n"
     ]
    }
   ],
   "source": [
    "print(5+4)"
   ]
  },
  {
   "cell_type": "code",
   "execution_count": 12,
   "id": "d3fb8b55",
   "metadata": {},
   "outputs": [
    {
     "name": "stdout",
     "output_type": "stream",
     "text": [
      "15 5 20 0.5\n"
     ]
    }
   ],
   "source": [
    "#without variable declaration\n",
    "print(10+5,10-5,10*2,10/20)"
   ]
  },
  {
   "cell_type": "code",
   "execution_count": 13,
   "id": "62cd693d",
   "metadata": {},
   "outputs": [
    {
     "name": "stdout",
     "output_type": "stream",
     "text": [
      "15\n",
      "5\n",
      "50\n",
      "2.0\n"
     ]
    }
   ],
   "source": [
    "#with variable declaration\n",
    "a=10\n",
    "b=5\n",
    "print(a+b)\n",
    "print(a-b)\n",
    "print(a*b)\n",
    "print(a/b)"
   ]
  },
  {
   "cell_type": "markdown",
   "id": "4c2cb2e7",
   "metadata": {},
   "source": [
    "# Addition"
   ]
  },
  {
   "cell_type": "code",
   "execution_count": 14,
   "id": "f4b71d00",
   "metadata": {},
   "outputs": [
    {
     "name": "stdout",
     "output_type": "stream",
     "text": [
      "15\n",
      "20\n",
      "20\n",
      "10\n"
     ]
    }
   ],
   "source": [
    "#by declaring variable\n",
    "a=10\n",
    "b=5\n",
    "print(a+b)\n",
    "\n",
    "#without declaring variables\n",
    "print(12+8)\n",
    "\n",
    "#two variable with same values\n",
    "a=b=10\n",
    "print(a+b)\n",
    "\n",
    "#two variable with different values\n",
    "a,b=7,3\n",
    "print(a+b)"
   ]
  },
  {
   "cell_type": "markdown",
   "id": "70039438",
   "metadata": {},
   "source": [
    "# Subtraction"
   ]
  },
  {
   "cell_type": "code",
   "execution_count": 15,
   "id": "35667d73",
   "metadata": {},
   "outputs": [
    {
     "name": "stdout",
     "output_type": "stream",
     "text": [
      "5\n",
      "4\n",
      "0\n",
      "4\n"
     ]
    }
   ],
   "source": [
    "#by declaring variable\n",
    "a=10\n",
    "b=5\n",
    "print(a-b)\n",
    "\n",
    "#without declaring variables\n",
    "print(12-8)\n",
    "\n",
    "#two variable with same values\n",
    "a=b=10\n",
    "print(a-b)\n",
    "\n",
    "#two variable with different values\n",
    "a,b=7,3\n",
    "print(a-b)"
   ]
  },
  {
   "cell_type": "markdown",
   "id": "00b9ee8d",
   "metadata": {},
   "source": [
    "# Multiplication"
   ]
  },
  {
   "cell_type": "code",
   "execution_count": 16,
   "id": "b9264281",
   "metadata": {},
   "outputs": [
    {
     "name": "stdout",
     "output_type": "stream",
     "text": [
      "50\n",
      "96\n",
      "100\n",
      "21\n"
     ]
    }
   ],
   "source": [
    "#by declaring variable\n",
    "a=10\n",
    "b=5\n",
    "print(a*b)\n",
    "\n",
    "#without declaring variables\n",
    "print(12*8)\n",
    "\n",
    "#two variable with same values\n",
    "a=b=10\n",
    "print(a*b)\n",
    "\n",
    "#two variable with different values\n",
    "a,b=7,3\n",
    "print(a*b)"
   ]
  },
  {
   "cell_type": "markdown",
   "id": "026724d3",
   "metadata": {},
   "source": [
    "# Division"
   ]
  },
  {
   "cell_type": "code",
   "execution_count": 17,
   "id": "881ed109",
   "metadata": {},
   "outputs": [
    {
     "name": "stdout",
     "output_type": "stream",
     "text": [
      "2.0\n",
      "1.5\n",
      "1.0\n",
      "2.3333333333333335\n"
     ]
    }
   ],
   "source": [
    "#by declaring variable\n",
    "a=10\n",
    "b=5\n",
    "print(a/b)\n",
    "\n",
    "#without declaring variables\n",
    "print(12/8)\n",
    "\n",
    "#two variable with same values\n",
    "a=b=10\n",
    "print(a/b)\n",
    "\n",
    "#two variable with different values\n",
    "a,b=7,3\n",
    "print(a/b)"
   ]
  },
  {
   "cell_type": "markdown",
   "id": "6e4661c4",
   "metadata": {},
   "source": [
    "# Doing Arithmetic operation in one"
   ]
  },
  {
   "cell_type": "code",
   "execution_count": 18,
   "id": "1418c0ff",
   "metadata": {},
   "outputs": [
    {
     "name": "stdout",
     "output_type": "stream",
     "text": [
      "Addition:  50\n",
      "Subtraction:  40\n",
      "Multiplication:  225\n",
      "Division:  9.0\n"
     ]
    }
   ],
   "source": [
    "#two variables with different values and printing them differently\n",
    "x=45\n",
    "y=5\n",
    "print(\"Addition: \",x+y)\n",
    "print(\"Subtraction: \",x-y)\n",
    "print(\"Multiplication: \",x*y)\n",
    "print(\"Division: \",x/y)"
   ]
  },
  {
   "cell_type": "code",
   "execution_count": 19,
   "id": "2cfbfbc5",
   "metadata": {},
   "outputs": [
    {
     "name": "stdout",
     "output_type": "stream",
     "text": [
      "Addition:  25 \n",
      "Subtraction:  15 \n",
      "Multiplication:  100 \n",
      "Division:  4.0\n"
     ]
    }
   ],
   "source": [
    "#calculating and printing arithmetic operator directly without any variables in print() function\n",
    "\n",
    "print(\"Addition: \",20+5,\"\\nSubtraction: \",20-5,\"\\nMultiplication: \",20*5,\"\\nDivision: \",20/5)"
   ]
  },
  {
   "cell_type": "markdown",
   "id": "19ee54e3",
   "metadata": {},
   "source": [
    "## Average of Two Numbers"
   ]
  },
  {
   "cell_type": "code",
   "execution_count": 20,
   "id": "98c386af",
   "metadata": {},
   "outputs": [
    {
     "name": "stdout",
     "output_type": "stream",
     "text": [
      "Average of Two Numbers:  55.0\n",
      "Average of Two Numbers:  10.0\n"
     ]
    }
   ],
   "source": [
    "#using variables\n",
    "\n",
    "a,b=10,100\n",
    "print(\"Average of Two Numbers: \",(a+b)/2)\n",
    "\n",
    "#directly using print()\n",
    "print(\"Average of Two Numbers: \",(10+10)/2)"
   ]
  },
  {
   "cell_type": "markdown",
   "id": "10399e20",
   "metadata": {},
   "source": [
    "## 3 Subjects marks and finding total and percentage"
   ]
  },
  {
   "cell_type": "code",
   "execution_count": 21,
   "id": "1e6b5b7e",
   "metadata": {},
   "outputs": [
    {
     "name": "stdout",
     "output_type": "stream",
     "text": [
      "Total:  229\n",
      "Percentage of 3 Subjects:  16222.333333333332\n"
     ]
    }
   ],
   "source": [
    "#marks are out of 100\n",
    "sub1,sub2,sub3 = 74,88,67\n",
    "\n",
    "print(\"Total: \",sub1+sub2+sub3)\n",
    "\n",
    "print(\"Percentage of 3 Subjects: \",(sub1+sub2+sub3/300)*100)"
   ]
  },
  {
   "cell_type": "markdown",
   "id": "ac880472",
   "metadata": {},
   "source": [
    "# Input() Functions"
   ]
  },
  {
   "cell_type": "code",
   "execution_count": 29,
   "id": "9b88a27f",
   "metadata": {},
   "outputs": [
    {
     "name": "stdout",
     "output_type": "stream",
     "text": [
      "Enter the value of a: 23\n",
      "Enter the value of b: 23\n",
      "Addition is:  46\n",
      "Enter float value of w: 56.9\n",
      "Enter float value of q: 34.7\n",
      "Addition is:  91.6\n",
      "Enter the 1st character: rter\n",
      "Enter the 2nd character: fdfd\n",
      "Concatenation is:  rf\n",
      "Enter the 1st string: Rushabh\n",
      "Enter the 2nd string:  Shah\n",
      "Concatenate is:  Rushabh Shah\n"
     ]
    }
   ],
   "source": [
    "#input() function using int\n",
    "\n",
    "a = int(input(\"Enter the value of a: \"))\n",
    "b = int(input(\"Enter the value of b: \"))\n",
    "c=a+b\n",
    "print(\"Addition is: \",c)\n",
    "\n",
    "#input() function using float\n",
    "\n",
    "w = float(input(\"Enter float value of w: \"))\n",
    "q = float(input(\"Enter float value of q: \"))\n",
    "print(\"Addition is: \",(w+q))\n",
    "\n",
    "#input() function using char\n",
    "\n",
    "y = (input(\"Enter the 1st character: \"))[0]\n",
    "e = (input(\"Enter the 2nd character: \"))[0]\n",
    "print(\"Concatenation is: \",(y+e))\n",
    "\n",
    "#input() function using string\n",
    "\n",
    "g = input(\"Enter the 1st string: \")\n",
    "j = input(\"Enter the 2nd string: \")\n",
    "print(\"Concatenate is: \",(g+j))"
   ]
  },
  {
   "cell_type": "markdown",
   "id": "b1994bdb",
   "metadata": {},
   "source": [
    "### Using Math Function"
   ]
  },
  {
   "cell_type": "code",
   "execution_count": 23,
   "id": "ee50a638",
   "metadata": {},
   "outputs": [
    {
     "name": "stdout",
     "output_type": "stream",
     "text": [
      "Enter the value of r: 5\n",
      "Area of circle:  78.53981633974483\n"
     ]
    }
   ],
   "source": [
    "#using math function\n",
    "\n",
    "import math\n",
    "r = float(input(\"Enter the value of r: \"))\n",
    "print(\"Area of circle: \",math.pi*r*r)"
   ]
  },
  {
   "cell_type": "code",
   "execution_count": 24,
   "id": "1a430dbd",
   "metadata": {},
   "outputs": [
    {
     "name": "stdout",
     "output_type": "stream",
     "text": [
      "Enter value of PI: 3.14\n",
      "Enter the value of r: 5\n",
      "Without using math function:  78.5\n"
     ]
    }
   ],
   "source": [
    "#run time value\n",
    "\n",
    "pi = float(input(\"Enter value of PI: \"))\n",
    "r  = float(input(\"Enter the value of r: \"))\n",
    "print(\"Without using math function: \",pi*r*r)"
   ]
  },
  {
   "cell_type": "code",
   "execution_count": 25,
   "id": "259dddab",
   "metadata": {},
   "outputs": [
    {
     "name": "stdout",
     "output_type": "stream",
     "text": [
      "Enter the value of r: 5\n",
      "Are of Circle directly:  78.5\n"
     ]
    }
   ],
   "source": [
    "#direct value\n",
    "\n",
    "pi = 3.14\n",
    "r = float(input(\"Enter the value of r: \"))\n",
    "print(\"Are of Circle directly: \",pi*r*r)"
   ]
  },
  {
   "cell_type": "code",
   "execution_count": 26,
   "id": "3adc020b",
   "metadata": {},
   "outputs": [
    {
     "name": "stdout",
     "output_type": "stream",
     "text": [
      "Enter the radius l: 5\n",
      "Cicrumference of circle is:  31.41592653589793\n",
      "Enter the value of square: 4\n",
      "Area of Square is:  16.0\n"
     ]
    }
   ],
   "source": [
    "#Finding circumference of circle\n",
    "\n",
    "import math\n",
    "l = float(input(\"Enter the radius l: \"))\n",
    "print(\"Cicrumference of circle is: \",(math.pi*l*2))\n",
    "\n",
    "\n",
    "#Area of Square\n",
    "\n",
    "a = float(input(\"Enter the value of square: \"))\n",
    "print(\"Area of Square is: \",(a*a))"
   ]
  },
  {
   "cell_type": "markdown",
   "id": "7c0e86e7",
   "metadata": {},
   "source": [
    "# If-Else"
   ]
  },
  {
   "cell_type": "code",
   "execution_count": 1,
   "id": "ef953811",
   "metadata": {},
   "outputs": [
    {
     "name": "stdout",
     "output_type": "stream",
     "text": [
      "Enter the marks: 37\n",
      "Pass\n"
     ]
    }
   ],
   "source": [
    "#if statement \n",
    "\n",
    "m = int(input(\"Enter the marks: \"))\n",
    "if(m>35):\n",
    "    print(\"Pass\")"
   ]
  },
  {
   "cell_type": "code",
   "execution_count": 3,
   "id": "d4aac3a2",
   "metadata": {},
   "outputs": [
    {
     "name": "stdout",
     "output_type": "stream",
     "text": [
      "Enter the marks: 23\n",
      "Fail\n"
     ]
    }
   ],
   "source": [
    "#if-else statement\n",
    "\n",
    "a = int(input(\"Enter the marks: \"))\n",
    "if(a>35):\n",
    "    print(\"Pass\")\n",
    "else:\n",
    "    print(\"Fail\")"
   ]
  },
  {
   "cell_type": "code",
   "execution_count": 9,
   "id": "a5f28bfe",
   "metadata": {},
   "outputs": [
    {
     "name": "stdout",
     "output_type": "stream",
     "text": [
      "Enter the year: 2018\n",
      "Not Leap Year\n"
     ]
    }
   ],
   "source": [
    "#leap year\n",
    "\n",
    "j = int(input(\"Enter the year: \"))\n",
    "if(j%4 == 0):\n",
    "    print(\"Leap Year\")\n",
    "else:\n",
    "    print(\"Not Leap Year\")"
   ]
  },
  {
   "cell_type": "code",
   "execution_count": 13,
   "id": "49e419ed",
   "metadata": {},
   "outputs": [
    {
     "name": "stdout",
     "output_type": "stream",
     "text": [
      "Enter the number to find odd or even: 77\n",
      "Odd\n"
     ]
    }
   ],
   "source": [
    "#odd even\n",
    "\n",
    "y = int(input(\"Enter the number to find odd or even: \"))\n",
    "if(y%2 == 0):\n",
    "    print(\"Even\")\n",
    "else:\n",
    "    print(\"Odd\")"
   ]
  },
  {
   "cell_type": "code",
   "execution_count": 22,
   "id": "5868eab2",
   "metadata": {},
   "outputs": [
    {
     "name": "stdout",
     "output_type": "stream",
     "text": [
      "Enter the alphabet: e\n",
      "Vowel\n"
     ]
    }
   ],
   "source": [
    "#vowel\n",
    "\n",
    "t = input(\"Enter the alphabet: \")[0]\n",
    "if(t == 'a' or t == 'e' or t == 'i' or t == 'o' or t == 'u'):\n",
    "    print(\"Vowel\")\n",
    "else:\n",
    "    print(\"Consonent\")"
   ]
  },
  {
   "cell_type": "code",
   "execution_count": 25,
   "id": "287b5871",
   "metadata": {},
   "outputs": [
    {
     "name": "stdout",
     "output_type": "stream",
     "text": [
      "Enter the value of a: 4\n",
      "Enter the value of b: 4\n",
      "Both are equals\n"
     ]
    }
   ],
   "source": [
    "# finding number is greater than/ smaller than or equal\n",
    "\n",
    "a = int(input(\"Enter the value of a: \"))\n",
    "b = int(input(\"Enter the value of b: \"))\n",
    "\n",
    "if(a == b):\n",
    "    print(\"Both are equals\")\n",
    "elif(a>b):\n",
    "    print(\"A is greater\")\n",
    "else:\n",
    "    print(\"B is Greater\")"
   ]
  },
  {
   "cell_type": "code",
   "execution_count": 30,
   "id": "db0fb170",
   "metadata": {},
   "outputs": [
    {
     "name": "stdout",
     "output_type": "stream",
     "text": [
      "Enter the character: T\n",
      "Consonent\n"
     ]
    }
   ],
   "source": [
    "#finding vowels using elif\n",
    "\n",
    "d = input(\"Enter the character: \")[0]\n",
    "\n",
    "if(d == 'a' or d == 'A'):\n",
    "    print(\"Vowel\")\n",
    "elif(d == 'e' or d == 'E'):\n",
    "    print(\"Vowel\")\n",
    "elif(d == 'i' or d == 'I'):\n",
    "    print(\"Vowel\")\n",
    "elif(d == 'o' or d == 'O'):\n",
    "    print(\"Vowel\")\n",
    "elif(d == 'u' or d == 'U'):\n",
    "    print(\"Vowel\")\n",
    "else:\n",
    "    print(\"Consonent\")"
   ]
  },
  {
   "cell_type": "code",
   "execution_count": 35,
   "id": "2182e5ac",
   "metadata": {},
   "outputs": [
    {
     "name": "stdout",
     "output_type": "stream",
     "text": [
      "Choose any of this:  +  -  *  /  %\n",
      "Enter your choice: %\n",
      "Enter first integer: 10\n",
      "Enter second integer: 5\n",
      "Modulo:  0\n"
     ]
    }
   ],
   "source": [
    "#calculator\n",
    "\n",
    "print(\"Choose any of this:  +  -  *  /  %\")\n",
    "t = input(\"Enter your choice: \")\n",
    "w = int(input(\"Enter first integer: \"))\n",
    "e = int(input(\"Enter second integer: \"))\n",
    "if(t == '+'):\n",
    "    print(\"Addition: \",(w+e))\n",
    "elif(t == '-'):\n",
    "    print(\"Subtraction: \",(w-e))\n",
    "elif(t == '*'):\n",
    "    print(\"Multiplication: \",(w*e))\n",
    "elif(t == '/'):\n",
    "    print(\"Division: \",(w/e))\n",
    "elif(t == '%'):\n",
    "    print(\"Modulo: \",(w%e))\n",
    "else:\n",
    "    print(\"Incorrect sign\")"
   ]
  },
  {
   "cell_type": "code",
   "execution_count": null,
   "id": "2d249559",
   "metadata": {},
   "outputs": [],
   "source": []
  }
 ],
 "metadata": {
  "kernelspec": {
   "display_name": "Python 3",
   "language": "python",
   "name": "python3"
  },
  "language_info": {
   "codemirror_mode": {
    "name": "ipython",
    "version": 3
   },
   "file_extension": ".py",
   "mimetype": "text/x-python",
   "name": "python",
   "nbconvert_exporter": "python",
   "pygments_lexer": "ipython3",
   "version": "3.8.8"
  }
 },
 "nbformat": 4,
 "nbformat_minor": 5
}
