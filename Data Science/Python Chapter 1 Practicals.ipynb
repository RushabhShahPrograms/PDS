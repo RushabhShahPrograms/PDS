{
 "cells": [
  {
   "cell_type": "code",
   "execution_count": 1,
   "id": "8f5e8be9",
   "metadata": {},
   "outputs": [
    {
     "name": "stdout",
     "output_type": "stream",
     "text": [
      "Hello\n"
     ]
    }
   ],
   "source": [
    "print(\"Hello\")"
   ]
  },
  {
   "cell_type": "code",
   "execution_count": 2,
   "id": "56caaf60",
   "metadata": {},
   "outputs": [
    {
     "name": "stdout",
     "output_type": "stream",
     "text": [
      "Hello\n"
     ]
    }
   ],
   "source": [
    "print('Hello')"
   ]
  },
  {
   "cell_type": "code",
   "execution_count": 4,
   "id": "74e079d0",
   "metadata": {},
   "outputs": [],
   "source": [
    "var1=5\n",
    "var2=4+3j\n",
    "var3=\"Hello\"\n",
    "var4=True\n",
    "tup=(1,2,3,4,5)\n",
    "mylist=[1,\"Hello\",2.25,3+4j]\n",
    "mydictionary={'sem':5,'sub':'Python'}\n",
    "myset={1,2,3,4,5}"
   ]
  },
  {
   "cell_type": "code",
   "execution_count": 6,
   "id": "e6bad23c",
   "metadata": {},
   "outputs": [
    {
     "name": "stdout",
     "output_type": "stream",
     "text": [
      "[1, 'Hello', 2.25, (3+4j)]\n"
     ]
    }
   ],
   "source": [
    "print(mylist)"
   ]
  },
  {
   "cell_type": "code",
   "execution_count": 11,
   "id": "236bc073",
   "metadata": {},
   "outputs": [
    {
     "ename": "TypeError",
     "evalue": "'str' object does not support item assignment",
     "output_type": "error",
     "traceback": [
      "\u001b[0;31m---------------------------------------------------------------------------\u001b[0m",
      "\u001b[0;31mTypeError\u001b[0m                                 Traceback (most recent call last)",
      "\u001b[0;32m<ipython-input-11-15ea60da106f>\u001b[0m in \u001b[0;36m<module>\u001b[0;34m\u001b[0m\n\u001b[0;32m----> 1\u001b[0;31m \u001b[0mvar3\u001b[0m\u001b[0;34m[\u001b[0m\u001b[0;36m0\u001b[0m\u001b[0;34m]\u001b[0m\u001b[0;34m=\u001b[0m\u001b[0;34m\"H\"\u001b[0m\u001b[0;34m\u001b[0m\u001b[0;34m\u001b[0m\u001b[0m\n\u001b[0m\u001b[1;32m      2\u001b[0m \u001b[0mprint\u001b[0m\u001b[0;34m(\u001b[0m\u001b[0mvar3\u001b[0m\u001b[0;34m)\u001b[0m\u001b[0;34m\u001b[0m\u001b[0;34m\u001b[0m\u001b[0m\n",
      "\u001b[0;31mTypeError\u001b[0m: 'str' object does not support item assignment"
     ]
    }
   ],
   "source": [
    "var3[0]=\"H\"\n",
    "print(var3)"
   ]
  },
  {
   "cell_type": "code",
   "execution_count": 12,
   "id": "e5bf83b1",
   "metadata": {},
   "outputs": [
    {
     "name": "stdout",
     "output_type": "stream",
     "text": [
      "[1, 'hi', 2.25, (3+4j)]\n"
     ]
    }
   ],
   "source": [
    "mylist[1]='hi'\n",
    "print(mylist)"
   ]
  },
  {
   "cell_type": "code",
   "execution_count": 14,
   "id": "41db30ab",
   "metadata": {},
   "outputs": [
    {
     "name": "stdout",
     "output_type": "stream",
     "text": [
      "Enter semester: 6\n",
      "Enter subject: rty\n",
      "Your semester: 6 Your subject: rty\n"
     ]
    }
   ],
   "source": [
    "sem=input(\"Enter semester: \")\n",
    "sub=input(\"Enter subject: \")\n",
    "print(\"Your semester: \"+sem+\" Your subject: \"+sub)"
   ]
  },
  {
   "cell_type": "code",
   "execution_count": 6,
   "id": "0cf19e91",
   "metadata": {},
   "outputs": [
    {
     "name": "stdout",
     "output_type": "stream",
     "text": [
      "Enter 1st number: 5\n",
      "Enter 2nd number: 5\n",
      "Addition: 55\n"
     ]
    }
   ],
   "source": [
    "num1=(input(\"Enter 1st number: \"))\n",
    "num2=(input(\"Enter 2nd number: \"))\n",
    "print(\"Addition: \"+(num1+num2))"
   ]
  },
  {
   "cell_type": "code",
   "execution_count": 7,
   "id": "f8353eff",
   "metadata": {},
   "outputs": [
    {
     "name": "stdout",
     "output_type": "stream",
     "text": [
      "Enter operation to perform: 3*6\n",
      "18\n"
     ]
    }
   ],
   "source": [
    "ans=eval(input(\"Enter operation to perform: \"))\n",
    "print(ans)"
   ]
  },
  {
   "cell_type": "code",
   "execution_count": 9,
   "id": "279a3aa6",
   "metadata": {},
   "outputs": [
    {
     "name": "stdout",
     "output_type": "stream",
     "text": [
      "Hello world\n"
     ]
    }
   ],
   "source": [
    "#function declaration\n",
    "def printdetails():\n",
    "    print(\"Hello world\")\n",
    "    return\n",
    "printdetails()"
   ]
  },
  {
   "cell_type": "code",
   "execution_count": 10,
   "id": "8491d2d6",
   "metadata": {},
   "outputs": [
    {
     "name": "stdout",
     "output_type": "stream",
     "text": [
      "Subject is:  Python for Data Science \n",
      "Semester is:  5\n"
     ]
    }
   ],
   "source": [
    "#required arguments\n",
    "def printdetails(sub,sem):\n",
    "    print(\"Subject is: \",sub,\"\\nSemester is: \",sem)\n",
    "    return\n",
    "printdetails(\"Python for Data Science\",5)"
   ]
  },
  {
   "cell_type": "code",
   "execution_count": 11,
   "id": "f4056c2d",
   "metadata": {},
   "outputs": [
    {
     "name": "stdout",
     "output_type": "stream",
     "text": [
      "Subject is:  python \n",
      "Semester is:  5 \n",
      "Branch is:  computer\n"
     ]
    }
   ],
   "source": [
    "#keyword arguments\n",
    "def printdetails(sub,sem,branch):\n",
    "    print(\"Subject is: \",sub,\"\\nSemester is: \",sem,\"\\nBranch is: \",branch)\n",
    "    return\n",
    "printdetails(branch=\"computer\",sub=\"python\",sem=5)"
   ]
  },
  {
   "cell_type": "code",
   "execution_count": 16,
   "id": "beb67834",
   "metadata": {},
   "outputs": [
    {
     "name": "stdout",
     "output_type": "stream",
     "text": [
      "Subject is:  PDS \n",
      "Semester is:  5 \n",
      "Branch is:  ICT\n",
      "\n",
      "\n",
      "Subject is:  PDF \n",
      "Semester is:  5 \n",
      "Branch is:  IT\n"
     ]
    }
   ],
   "source": [
    "#default arguments\n",
    "def printdetails(sub=\"PDS\",sem=5,branch=\"ICT\"):\n",
    "    print(\"Subject is: \",sub,\"\\nSemester is: \",sem,\"\\nBranch is: \",branch)\n",
    "    return\n",
    "printdetails()\n",
    "print(\"\\n\")\n",
    "printdetails(\"PDF\",5,\"IT\")"
   ]
  },
  {
   "cell_type": "code",
   "execution_count": 17,
   "id": "2aebb7f7",
   "metadata": {},
   "outputs": [
    {
     "name": "stdout",
     "output_type": "stream",
     "text": [
      "Python\n",
      "Java\n",
      "AI\n",
      "ML\n",
      "C++\n"
     ]
    }
   ],
   "source": [
    "#variable-length arguments\n",
    "def printdetails(*values):\n",
    "    for val in values:\n",
    "        print(val)\n",
    "    return\n",
    "printdetails(\"Python\",\"Java\",\"AI\",\"ML\",\"C++\")"
   ]
  },
  {
   "cell_type": "markdown",
   "id": "a4c422fd",
   "metadata": {},
   "source": [
    "# String"
   ]
  },
  {
   "cell_type": "code",
   "execution_count": 18,
   "id": "ea3cbe89",
   "metadata": {},
   "outputs": [
    {
     "name": "stdout",
     "output_type": "stream",
     "text": [
      "Conatinated string:  Hello World\n"
     ]
    }
   ],
   "source": [
    "#concatination operator(+)\n",
    "s1=\"Hello\"\n",
    "s2=\" World\"\n",
    "print(\"Conatinated string: \",s1+s2)"
   ]
  },
  {
   "cell_type": "code",
   "execution_count": 19,
   "id": "0bfc1bad",
   "metadata": {},
   "outputs": [
    {
     "name": "stdout",
     "output_type": "stream",
     "text": [
      "Repeated string:  Hello Hello Hello Hello Hello \n"
     ]
    }
   ],
   "source": [
    "#repetition operator(*)\n",
    "var=\"Hello \"\n",
    "print(\"Repeated string: \",var*5)"
   ]
  },
  {
   "cell_type": "code",
   "execution_count": 20,
   "id": "a48f2a02",
   "metadata": {},
   "outputs": [
    {
     "name": "stdout",
     "output_type": "stream",
     "text": [
      "Element at first position:  h\n",
      "ELement at last position:  o\n"
     ]
    }
   ],
   "source": [
    "#slice operator([])\n",
    "var=\"hello\"\n",
    "print(\"Element at first position: \",var[0])\n",
    "print(\"ELement at last position: \",var[-1])"
   ]
  },
  {
   "cell_type": "code",
   "execution_count": 21,
   "id": "7c4783f8",
   "metadata": {},
   "outputs": [
    {
     "name": "stdout",
     "output_type": "stream",
     "text": [
      "After slicing:  This is Py\n",
      "After slicing:  Tssy\n"
     ]
    }
   ],
   "source": [
    "#range slice operator ([start:end:stepsize])\n",
    "var=\"This is Python for Data Science\"\n",
    "print(\"After slicing: \",var[0:10])\n",
    "print(\"After slicing: \",var[0:10:3])"
   ]
  },
  {
   "cell_type": "code",
   "execution_count": 25,
   "id": "c2f4aa1b",
   "metadata": {},
   "outputs": [
    {
     "name": "stdout",
     "output_type": "stream",
     "text": [
      "True\n",
      "True\n"
     ]
    }
   ],
   "source": [
    "#in not in operator\n",
    "var=\"hello\"\n",
    "print(\"h\" in var)\n",
    "print(\"Q\" not in var)"
   ]
  },
  {
   "cell_type": "code",
   "execution_count": 27,
   "id": "94f5dbf6",
   "metadata": {},
   "outputs": [
    {
     "ename": "TypeError",
     "evalue": "'str' object does not support item assignment",
     "output_type": "error",
     "traceback": [
      "\u001b[0;31m---------------------------------------------------------------------------\u001b[0m",
      "\u001b[0;31mTypeError\u001b[0m                                 Traceback (most recent call last)",
      "\u001b[0;32m<ipython-input-27-ecb22706ebd6>\u001b[0m in \u001b[0;36m<module>\u001b[0;34m\u001b[0m\n\u001b[1;32m      1\u001b[0m \u001b[0;31m#checking immutability\u001b[0m\u001b[0;34m\u001b[0m\u001b[0;34m\u001b[0m\u001b[0;34m\u001b[0m\u001b[0m\n\u001b[1;32m      2\u001b[0m \u001b[0mvar\u001b[0m\u001b[0;34m=\u001b[0m\u001b[0;34m\"Hello World\"\u001b[0m\u001b[0;34m\u001b[0m\u001b[0;34m\u001b[0m\u001b[0m\n\u001b[0;32m----> 3\u001b[0;31m \u001b[0mvar\u001b[0m\u001b[0;34m[\u001b[0m\u001b[0;36m0\u001b[0m\u001b[0;34m]\u001b[0m\u001b[0;34m=\u001b[0m\u001b[0;34m\"H\"\u001b[0m\u001b[0;34m\u001b[0m\u001b[0;34m\u001b[0m\u001b[0m\n\u001b[0m",
      "\u001b[0;31mTypeError\u001b[0m: 'str' object does not support item assignment"
     ]
    }
   ],
   "source": [
    "#checking immutability\n",
    "var=\"Hello World\"\n",
    "var[0]=\"H\""
   ]
  },
  {
   "cell_type": "code",
   "execution_count": 28,
   "id": "f858ebd0",
   "metadata": {},
   "outputs": [
    {
     "name": "stdout",
     "output_type": "stream",
     "text": [
      "Capitalized String :  Hello world\n"
     ]
    }
   ],
   "source": [
    "strvar=\"hello world\"\n",
    "#capitalize(): Capitalize first letter of the string\n",
    "strcap=strvar.capitalize()\n",
    "print(\"Capitalized String : \",strcap)"
   ]
  },
  {
   "cell_type": "code",
   "execution_count": 33,
   "id": "6e1c7798",
   "metadata": {},
   "outputs": [
    {
     "name": "stdout",
     "output_type": "stream",
     "text": [
      "Is alphabet:  False\n",
      "IS alphabet:  True\n"
     ]
    }
   ],
   "source": [
    "\"\"\"isalpha(): Returns true if string has at least 1 character and all characters are alphanumeric and false otherwise.\"\"\"\n",
    "var2=\"\"\n",
    "var3=\"Hello\"\n",
    "print(\"Is alphabet: \",var2.isalpha())\n",
    "print(\"IS alphabet: \",var3.isalpha())"
   ]
  },
  {
   "cell_type": "code",
   "execution_count": 34,
   "id": "8d11062c",
   "metadata": {},
   "outputs": [
    {
     "name": "stdout",
     "output_type": "stream",
     "text": [
      "IS digit:  False\n",
      "IS digit:  True\n"
     ]
    }
   ],
   "source": [
    "\"\"\"isdigit(): Returns true if string contains only digits and false otherwise.\"\"\"\n",
    "var4=\"1234abc\"\n",
    "var5=\"23456\"\n",
    "print(\"IS digit: \",var4.isdigit())\n",
    "print(\"IS digit: \",var5.isdigit())"
   ]
  },
  {
   "cell_type": "code",
   "execution_count": 41,
   "id": "e999b130",
   "metadata": {},
   "outputs": [
    {
     "name": "stdout",
     "output_type": "stream",
     "text": [
      "Is alphanumeric:  True\n",
      "Is alphanumeric:  False\n"
     ]
    }
   ],
   "source": [
    "var6=\"1245abc\"   #isalnum()\n",
    "print(\"Is alphanumeric: \",var6.isalnum())\n",
    "var7=\"$%^\"\n",
    "print(\"Is alphanumeric: \",var7.isalnum())"
   ]
  },
  {
   "cell_type": "code",
   "execution_count": 44,
   "id": "56ca726b",
   "metadata": {},
   "outputs": [
    {
     "name": "stdout",
     "output_type": "stream",
     "text": [
      "Contains space:  True\n"
     ]
    }
   ],
   "source": [
    "var8=\"      \"    #isspace()\n",
    "print(\"Contains space: \",var8.isspace())"
   ]
  },
  {
   "cell_type": "code",
   "execution_count": 46,
   "id": "72421dd2",
   "metadata": {},
   "outputs": [
    {
     "name": "stdout",
     "output_type": "stream",
     "text": [
      "Is lower:  True\n",
      "Is upper:  True\n",
      "Is title:  True\n"
     ]
    }
   ],
   "source": [
    "var9=\"hello\"  #islower() & isupper() & istitle()\n",
    "print(\"Is lower: \",var9.islower())\n",
    "var10=\"HELLO\"\n",
    "print(\"Is upper: \",var10.isupper())\n",
    "var11=\"Hello World\"\n",
    "print(\"Is title: \",var11.istitle())"
   ]
  },
  {
   "cell_type": "code",
   "execution_count": 49,
   "id": "b1cd48c0",
   "metadata": {},
   "outputs": [
    {
     "name": "stdout",
     "output_type": "stream",
     "text": [
      "Length of string:  17\n",
      "Lower string:  i am rushabh shah\n",
      "Upper string:  I AM RUSHABH SHAH\n",
      "After swapping case:  i AM rUSHABH sHAH\n"
     ]
    }
   ],
   "source": [
    "var12=\"I am Rushabh Shah\" #len(), lower(), upper(), swapcase()\n",
    "print(\"Length of string: \",len(var12))\n",
    "print(\"Lower string: \",var12.lower())\n",
    "print(\"Upper string: \",var12.upper())\n",
    "print(\"After swapping case: \",var12.swapcase())"
   ]
  },
  {
   "cell_type": "code",
   "execution_count": 55,
   "id": "c20354f0",
   "metadata": {},
   "outputs": [
    {
     "name": "stdout",
     "output_type": "stream",
     "text": [
      "After removing leading whitespace: sickmuscman      \n",
      "After removing trailing whitespace:       sickmuscman\n",
      "After removing leading and trailing whitespace: sickmuscman\n"
     ]
    }
   ],
   "source": [
    "var13=\"      sickmuscman      \" #lstrip(), rstrip() & strip()\n",
    "print(\"After removing leading whitespace:\",var13.lstrip())\n",
    "print(\"After removing trailing whitespace:\",var13.rstrip())\n",
    "print(\"After removing leading and trailing whitespace:\",var13.strip())"
   ]
  },
  {
   "cell_type": "code",
   "execution_count": 62,
   "id": "ea5f7899",
   "metadata": {},
   "outputs": [
    {
     "name": "stdout",
     "output_type": "stream",
     "text": [
      "this is jupyter notebook\n",
      "\n",
      "\n",
      "Titled case string:  This Is Jupyter Notebook\n",
      "Is strating with 't':  True\n",
      "Is ending with 'k':  True\n",
      "After replace:  it is jupyter notebook\n",
      "After spliting:  ['this', 'is', 'jupyter', 'notebook']\n"
     ]
    }
   ],
   "source": [
    "#title(), #startswith(), #endswith(), replace(), #split()\n",
    "var14=\"this is jupyter notebook\"\n",
    "print(var14)\n",
    "print(\"\\n\")\n",
    "print(\"Titled case string: \",var14.title())\n",
    "print(\"Is strating with 't': \",var14.startswith(\"t\"))\n",
    "print(\"Is ending with 'k': \",var14.endswith(\"k\"))\n",
    "print(\"After replace: \",var14.replace(\"this\",\"it\"))\n",
    "print(\"After spliting: \",var14.split())"
   ]
  },
  {
   "cell_type": "markdown",
   "id": "7c5fc5d0",
   "metadata": {},
   "source": [
    "# List"
   ]
  },
  {
   "cell_type": "code",
   "execution_count": 74,
   "id": "bf845214",
   "metadata": {},
   "outputs": [
    {
     "name": "stdout",
     "output_type": "stream",
     "text": [
      "List 1:  [1, 2, 3, 4, 5] \n",
      "List 2:  [6, 7, 8, 9, 10]\n",
      "After concatination:  [1, 2, 3, 4, 5, 6, 7, 8, 9, 10]\n",
      "\n",
      "\n",
      "List 1:  [1, 2, 3, 4, 5, 1, 2, 3, 4, 5, 1, 2, 3, 4, 5]\n",
      "\n",
      "\n",
      "Elements at zero index:  Python\n",
      "Elements at last index:  AI\n",
      "\n",
      "\n",
      "After range slice ['Python', 'C++', 'Django', 'AI']\n"
     ]
    }
   ],
   "source": [
    "#conatination operator[+]\n",
    "mylist1=[1,2,3,4,5]\n",
    "mylist2=[6,7,8,9,10]\n",
    "print(\"List 1: \",mylist1,\"\\nList 2: \",mylist2)\n",
    "print(\"After concatination: \",mylist1+mylist2)\n",
    "print(\"\\n\")\n",
    "\n",
    "#repetition[*]\n",
    "print(\"List 1: \",(mylist1*3))\n",
    "print(\"\\n\")\n",
    "\n",
    "#slice([])\n",
    "mylist3=[\"Python\",\"Java\",\"C\",\"C++\",\"ALgorithms\",\"Ruby\",\"Django\",\"Data Structure\",\"ML\",\"AI\"]\n",
    "print(\"Elements at zero index: \",mylist3[0])\n",
    "print(\"Elements at last index: \",mylist3[-1])\n",
    "print(\"\\n\")\n",
    "\n",
    "#range slice([start:end:stepsize])\n",
    "print(\"After range slice\",mylist3[0:10:3])"
   ]
  },
  {
   "cell_type": "code",
   "execution_count": 79,
   "id": "2cd8bc16",
   "metadata": {},
   "outputs": [
    {
     "name": "stdout",
     "output_type": "stream",
     "text": [
      "False\n",
      "True\n",
      "True\n",
      "\n",
      "\n",
      "List Before updating:  ['PDS', 'Java', 'C', 'C++', 'Django', 'Data Structure', 'ML', 'AI']\n",
      "List After updating:  ['PDS', 'Java', 'C', 'C++', 'Django', 'Data Structure', 'ML', 'AI']\n",
      "\n",
      "\n",
      "After deletion:  ['PDS', 'Java', 'C', 'C++', 'Data Structure', 'ML', 'AI']\n",
      "\n",
      "\n",
      "Even number list:  [2, 4, 6, 8, 10]\n",
      "Odd number list:  [1, 3, 5, 7, 9]\n"
     ]
    }
   ],
   "source": [
    "#in not in operator\n",
    "print(\"Python\" in mylist3)\n",
    "print(\"DS\" not in mylist3)\n",
    "print(\"Data Structure\" in mylist3)\n",
    "print(\"\\n\")\n",
    "\n",
    "#updating list\n",
    "print(\"List Before updating: \",mylist3)\n",
    "mylist3[0]=\"PDS\"\n",
    "print(\"List After updating: \",mylist3)\n",
    "print(\"\\n\")\n",
    "\n",
    "#deleting list element\n",
    "del mylist3[4]\n",
    "print(\"After deletion: \",mylist3)\n",
    "print(\"\\n\")\n",
    "\n",
    "#list comprehension\n",
    "mylist4=[1,2,3,4,5,6,7,8,9,10]\n",
    "evenlist = [i for i in mylist4 if i%2==0]\n",
    "print(\"Even number list: \",evenlist)\n",
    "oddlist = [j for j in mylist4 if j%2!=0]\n",
    "print(\"Odd number list: \",oddlist)"
   ]
  },
  {
   "cell_type": "code",
   "execution_count": 87,
   "id": "b1dfbd1b",
   "metadata": {
    "scrolled": true
   },
   "outputs": [
    {
     "name": "stdout",
     "output_type": "stream",
     "text": [
      "\n",
      "Length of list:  10\n",
      "\n",
      "MAx from list:  10\n",
      "\n",
      "Min from list:  1\n",
      "\n",
      "List after updation:  [1, 2, 3, 4, 5, 6, 7, 8, 9, 10, 100]\n",
      "\n",
      "List after extending:  [1, 2, 3, 4, 5, 6, 7, 8, 9, 10, 100, 4.5, 8.9, 14, 90]\n",
      "\n",
      "After insertion:  [1, 2, 3, 99, 4, 5, 6, 7, 8, 9, 10, 100, 4.5, 8.9, 14, 90]\n",
      "\n",
      "After removing element:  [1, 2, 99, 4, 5, 6, 7, 8, 9, 10, 100, 4.5, 8.9, 14, 90]\n",
      "\n",
      "After reversing list:  None\n",
      "\n",
      "Sorted List:  [100, 99, 90, 14, 10, 9, 8.9, 8, 7, 6, 5, 4.5, 4, 2, 1]\n",
      "\n",
      "Element poped:  1\n",
      "\n",
      "Original List:  [45, 78, 23, 90, 123, 7, 234, 576, 23, 95, 34, 80]\n",
      "\n",
      "Sorted ascending:  [7, 23, 23, 34, 45, 78, 80, 90, 95, 123, 234, 576]\n"
     ]
    }
   ],
   "source": [
    "#len(list), #max(list), #append(obj), extend(sequence), #insert(index,obj)\n",
    "#pop(), #remove(obj), #reverse(), #sort(), #sorted()\n",
    "\n",
    "mylist5=[1,2,3,4,5,6,7,8,9,10]\n",
    "print(\"\\nLength of list: \",len(mylist5))\n",
    "print(\"\\nMAx from list: \",max(mylist5))\n",
    "print(\"\\nMin from list: \",min(mylist5))\n",
    "mylist5.append(100)\n",
    "print(\"\\nList after updation: \",mylist5)\n",
    "newlist=[4.5,8.9,14,90]\n",
    "mylist5.extend(newlist)\n",
    "print(\"\\nList after extending: \",mylist5)\n",
    "mylist5.insert(-12,99)\n",
    "print(\"\\nAfter insertion: \",mylist5)\n",
    "mylist5.remove(3)\n",
    "print(\"\\nAfter removing element: \",mylist5)\n",
    "print(\"\\nAfter reversing list: \",mylist5.reverse())\n",
    "mylist5.sort(reverse=True)\n",
    "print(\"\\nSorted List: \",mylist5)\n",
    "print(\"\\nElement poped: \",mylist5.pop())\n",
    "mylist6=[45,78,23,90,123,7,234,576,23,95,34,80]\n",
    "sortedlist=sorted(mylist6)\n",
    "sortedreverse=sorted(mylist6,reverse=False)\n",
    "print(\"\\nOriginal List: \",mylist6)\n",
    "print(\"\\nSorted ascending: \",sortedreverse)"
   ]
  },
  {
   "cell_type": "markdown",
   "id": "1fce41f9",
   "metadata": {},
   "source": [
    "# Tuple"
   ]
  },
  {
   "cell_type": "code",
   "execution_count": 89,
   "id": "4a0e4c9d",
   "metadata": {},
   "outputs": [
    {
     "name": "stdout",
     "output_type": "stream",
     "text": [
      "Tuple 1 :  (1, 2, 3, 4, 5)\n",
      "Tuple 2 :  (6, 7, 8, 9, 10)\n",
      "After concatination :  (1, 2, 3, 4, 5, 6, 7, 8, 9, 10)\n",
      "Tuple :  (1, 2, 3, 4, 5)\n",
      "Repeated Tuple :  (1, 2, 3, 4, 5, 1, 2, 3, 4, 5)\n",
      "Element at zero index :  Python\n",
      "Element at last index :  AI\n",
      "After slicing ('P', 'y', 't', 'h')\n",
      "True\n",
      "False\n",
      "True\n"
     ]
    },
    {
     "ename": "TypeError",
     "evalue": "'tuple' object doesn't support item deletion",
     "output_type": "error",
     "traceback": [
      "\u001b[0;31m---------------------------------------------------------------------------\u001b[0m",
      "\u001b[0;31mTypeError\u001b[0m                                 Traceback (most recent call last)",
      "\u001b[0;32m<ipython-input-89-450eeea0028f>\u001b[0m in \u001b[0;36m<module>\u001b[0;34m\u001b[0m\n\u001b[1;32m     27\u001b[0m \u001b[0;31m#Deleting tuple element using del keyword\u001b[0m\u001b[0;34m\u001b[0m\u001b[0;34m\u001b[0m\u001b[0;34m\u001b[0m\u001b[0m\n\u001b[1;32m     28\u001b[0m \u001b[0mtup\u001b[0m\u001b[0;34m=\u001b[0m\u001b[0;34m(\u001b[0m\u001b[0;34m\"Python\"\u001b[0m\u001b[0;34m,\u001b[0m\u001b[0;34m\"Java\"\u001b[0m\u001b[0;34m,\u001b[0m\u001b[0;34m\"ML\"\u001b[0m\u001b[0;34m,\u001b[0m\u001b[0;34m\"AI\"\u001b[0m\u001b[0;34m)\u001b[0m\u001b[0;34m\u001b[0m\u001b[0;34m\u001b[0m\u001b[0m\n\u001b[0;32m---> 29\u001b[0;31m \u001b[0;32mdel\u001b[0m \u001b[0mtup\u001b[0m\u001b[0;34m[\u001b[0m\u001b[0;36m3\u001b[0m\u001b[0;34m]\u001b[0m\u001b[0;34m\u001b[0m\u001b[0;34m\u001b[0m\u001b[0m\n\u001b[0m\u001b[1;32m     30\u001b[0m \u001b[0mprint\u001b[0m\u001b[0;34m(\u001b[0m\u001b[0;34m\"After deletion : \"\u001b[0m\u001b[0;34m,\u001b[0m\u001b[0mtup\u001b[0m\u001b[0;34m)\u001b[0m\u001b[0;34m\u001b[0m\u001b[0;34m\u001b[0m\u001b[0m\n\u001b[1;32m     31\u001b[0m \u001b[0;34m\u001b[0m\u001b[0m\n",
      "\u001b[0;31mTypeError\u001b[0m: 'tuple' object doesn't support item deletion"
     ]
    }
   ],
   "source": [
    "tup1=(1,2,3,4,5)\n",
    "tup2=(6,7,8,9,10)\n",
    "print(\"Tuple 1 : \",tup1)\n",
    "print(\"Tuple 2 : \",tup2)\n",
    "print(\"After concatination : \",tup1+tup2)\n",
    "\n",
    "#Repetition operator (*)\n",
    "tup1=(1,2,3,4,5)\n",
    "print(\"Tuple : \",tup1)\n",
    "print(\"Repeated Tuple : \",(tup1*2))\n",
    "\n",
    "#Slice Operator ([])\n",
    "tup=(\"Python\",\"Java\",\"ML\",\"AI\")\n",
    "print(\"Element at zero index : \",tup[0])\n",
    "print(\"Element at last index : \",tup[-1])\n",
    "\n",
    "#Range slice Operator([start:end:stepsize])\n",
    "tup=('P','y','t','h','o','n')\n",
    "print(\"After slicing\",tup[0:4])\n",
    "\n",
    "#in not in Operator\n",
    "tup=(\"Python\",\"Java\",\"ML\",\"AI\")\n",
    "print(\"Python\" in tup)\n",
    "print(\"DS\" in tup)\n",
    "print(\"DS\" not in tup)\n",
    "\n",
    "#Deleting tuple element using del keyword\n",
    "tup=(\"Python\",\"Java\",\"ML\",\"AI\")\n",
    "del tup[3]\n",
    "print(\"After deletion : \",tup)\n",
    "\n",
    "#Deleting entire tuple using del keyword\n",
    "tup=(\"Python\",\"Java\",\"ML\",\"AI\")\n",
    "print(\"Before deletion : \",tup)\n",
    "del tup\n",
    "print(\"After deletion : \",tup)\n",
    "\n",
    "#Updating tuple elements\n",
    "tup=(\"Python\",\"Java\",\"ML\",\"AI\")\n",
    "print(\"Tuple before updating : \",tup)\n",
    "tup[0]=\"Python for Data Science\" #Not possible\n",
    "print(\"Tuple after updating : \",tup)"
   ]
  },
  {
   "cell_type": "code",
   "execution_count": 90,
   "id": "22150cc8",
   "metadata": {},
   "outputs": [
    {
     "name": "stdout",
     "output_type": "stream",
     "text": [
      "Length of tuple 4\n",
      "Maximum from tuple :  3\n",
      "Minimum from tuple :  1\n",
      "Occured :  0 times\n",
      "Found at index :  11\n",
      "(1, 2, 3, 4, 5)\n"
     ]
    }
   ],
   "source": [
    "#len(tuple) : Gives the total length of the tuple.\n",
    "t1=(1,2,3,2.50)\n",
    "print(\"Length of tuple\",len(t1))\n",
    "\n",
    "#max(list) : Returns item from the tuple with max value.\n",
    "t1=(1,2,3,2.50)\n",
    "print(\"Maximum from tuple : \",max(t1))\n",
    "\n",
    "#min(list) : Returns item from the tuple with min value.\n",
    "t1=(1,2,3,2.50)\n",
    "print(\"Minimum from tuple : \",min(t1))\n",
    "\n",
    "#count() :Return the number of times the particular value appears in the tuple.\n",
    "t1=(1,2,3,4,2,3,4,2,2,1,5,6,2)\n",
    "print(\"Occured : \",t1.count(0),\"times\")\n",
    "\n",
    "#index() : Finds the first occurrence of the specified value.\n",
    "t1=(1,2,3,4,2,3,4,2,2,1,5,6,2)\n",
    "print(\"Found at index : \",t1.index(6))\n",
    "\n",
    "#tuple() : Converts a list into tuple.\n",
    "mylist=[1,2,3,4,5]\n",
    "t1=tuple(mylist)\n",
    "print(t1)"
   ]
  },
  {
   "cell_type": "markdown",
   "id": "51c8292f",
   "metadata": {},
   "source": [
    "# Dictionary"
   ]
  },
  {
   "cell_type": "code",
   "execution_count": 93,
   "id": "61f12f26",
   "metadata": {},
   "outputs": [
    {
     "name": "stdout",
     "output_type": "stream",
     "text": [
      "Length of dictionary :  2\n",
      "Updated Dictionary :  None\n",
      "Copied dictionary :  {'sem': 5, 'sub': 'Python for Data Science'}\n",
      "Value is  5\n",
      "Key Value pairs :  dict_items([('sem', 5), ('sub', 'Python for Data Science')])\n",
      "Keys :  dict_keys(['sem', 'sub'])\n",
      "Values :  dict_values([5, 'Python for Data Science'])\n",
      "Updated Dictionary :  {'sem': 5, 'sub': 'Python for Data Science', 'dept': 'Computer'}\n",
      "Dictionary from list :  {'sem': 5, 'sub': 'Python'}\n",
      "Dictionary from tuple:  {'sem': 5, 'sub': 'Python'}\n"
     ]
    }
   ],
   "source": [
    "#len(dictionary) : Gives the total length of the dictionary\n",
    "d1={'sem':5,'sub':\"Python for Data Science\"}\n",
    "print(\"Length of dictionary : \",len(d1))\n",
    "\n",
    "#clear() : Removes all elements of dictionary\n",
    "d1={'sem':5,'sub':\"Python for Data Science\"}\n",
    "print(\"Updated Dictionary : \",d1.clear())\n",
    "\n",
    "#copy() :Returns a shallow copy of dictionary\n",
    "d1={'sem':5,'sub':\"Python for Data Science\"}\n",
    "newd=d1.copy()\n",
    "print(\"Copied dictionary : \",newd)\n",
    "\n",
    "#get(key) : For key key, returns value or default if key not in dictionary.\n",
    "d1={'sem':5,'sub':\"Python for Data Science\"}\n",
    "print(\"Value is \",d1.get('sem'))\n",
    "\n",
    "#items() :Returns a list of dict's (key, value) tuple pairs.\n",
    "d1={'sem':5,'sub':\"Python for Data Science\"}\n",
    "print(\"Key Value pairs : \",d1.items())\n",
    "\n",
    "#keys() : Returns list of dictionary dict's keys.\n",
    "d1={'sem':5,'sub':\"Python for Data Science\"}\n",
    "print(\"Keys : \",d1.keys())\n",
    "\n",
    "#values() : Returns list of dictionary dict's values.\n",
    "d1={'sem':5,'sub':\"Python for Data Science\"}\n",
    "print(\"Values : \",d1.values())\n",
    "\n",
    "#d1.update(d2) : Adds dictionary d2's key-values pairs to d1.\n",
    "d1={'sem':5,'sub':\"Python for Data Science\"}\n",
    "d2={'dept':\"Computer\"}\n",
    "d1.update(d2)\n",
    "print(\"Updated Dictionary : \",d1)\n",
    "\n",
    "#dict() :\n",
    "\n",
    "#Converting list into dictionary.\n",
    "mylist=['sem',5,'sub','Python']\n",
    "i=iter(mylist)\n",
    "d1=dict(zip(i,i))\n",
    "print(\"Dictionary from list : \",d1)\n",
    "\n",
    "#Converting tuple into dictionary.\n",
    "tup=(('sem',5),('sub','Python'))\n",
    "d2=dict(tup)\n",
    "print(\"Dictionary from tuple: \",d2)"
   ]
  },
  {
   "cell_type": "code",
   "execution_count": 100,
   "id": "ccf7ddc2",
   "metadata": {},
   "outputs": [
    {
     "name": "stdout",
     "output_type": "stream",
     "text": [
      "Dictionary 1 :  {'sem': 5, 'sub': 'Python for Data Science'}\n",
      "Semester :  5\n",
      "Semester :  5\n",
      "True\n",
      "True\n",
      "Dictionary 1 :  {'sem': 5, 'sub': 'Python for Data Science'}\n",
      "Updated Dictionary :  {'sem': '5th', 'sub': 'Python for Data Science'}\n",
      "Dictionary 1 :  {'sem': 5, 'sub': 'Python for Data Science'}\n",
      "After deletion :  {'sem': 5}\n",
      "Dictionary 1 :  {'sem': 5, 'sub': 'Python for Data Science'}\n",
      "Dictionary 2 :  {'dept': 'Computer'}\n"
     ]
    },
    {
     "ename": "TypeError",
     "evalue": "unsupported operand type(s) for +: 'dict' and 'dict'",
     "output_type": "error",
     "traceback": [
      "\u001b[0;31m---------------------------------------------------------------------------\u001b[0m",
      "\u001b[0;31mTypeError\u001b[0m                                 Traceback (most recent call last)",
      "\u001b[0;32m<ipython-input-100-ce6e312412ab>\u001b[0m in \u001b[0;36m<module>\u001b[0;34m\u001b[0m\n\u001b[1;32m     30\u001b[0m \u001b[0mprint\u001b[0m\u001b[0;34m(\u001b[0m\u001b[0;34m\"Dictionary 1 : \"\u001b[0m\u001b[0;34m,\u001b[0m\u001b[0md1\u001b[0m\u001b[0;34m)\u001b[0m\u001b[0;34m\u001b[0m\u001b[0;34m\u001b[0m\u001b[0m\n\u001b[1;32m     31\u001b[0m \u001b[0mprint\u001b[0m\u001b[0;34m(\u001b[0m\u001b[0;34m\"Dictionary 2 : \"\u001b[0m\u001b[0;34m,\u001b[0m\u001b[0md2\u001b[0m\u001b[0;34m)\u001b[0m\u001b[0;34m\u001b[0m\u001b[0;34m\u001b[0m\u001b[0m\n\u001b[0;32m---> 32\u001b[0;31m \u001b[0mprint\u001b[0m\u001b[0;34m(\u001b[0m\u001b[0;34m\"After concatination : \"\u001b[0m\u001b[0;34m,\u001b[0m\u001b[0md1\u001b[0m\u001b[0;34m+\u001b[0m\u001b[0md2\u001b[0m\u001b[0;34m)\u001b[0m\u001b[0;34m\u001b[0m\u001b[0;34m\u001b[0m\u001b[0m\n\u001b[0m\u001b[1;32m     33\u001b[0m \u001b[0;34m\u001b[0m\u001b[0m\n\u001b[1;32m     34\u001b[0m \u001b[0;34m\u001b[0m\u001b[0m\n",
      "\u001b[0;31mTypeError\u001b[0m: unsupported operand type(s) for +: 'dict' and 'dict'"
     ]
    }
   ],
   "source": [
    "#Slice Operator ([])\n",
    "d1={'sem':5,'sub':\"Python for Data Science\"}\n",
    "print(\"Dictionary 1 : \",d1)\n",
    "print(\"Semester : \",d1['sem'])\n",
    "print(\"Semester : \",d1[\"sem\"])\n",
    "\n",
    "\n",
    "#in not in Operator\n",
    "d1={'sem':5,'sub':\"Python for Data Science\"}\n",
    "print('sub' in d1)\n",
    "print('subject' not in d1)\n",
    "\n",
    "\n",
    "#Updating dictionary elements\n",
    "d1={'sem':5,'sub':\"Python for Data Science\"}\n",
    "print(\"Dictionary 1 : \",d1)\n",
    "d1['sem']=\"5th\"\n",
    "print(\"Updated Dictionary : \",d1)\n",
    "\n",
    "\n",
    "#Deleting dictionary element using del keyword\n",
    "d1={'sem':5,'sub':\"Python for Data Science\"}\n",
    "print(\"Dictionary 1 : \",d1)\n",
    "del d1['sub']\n",
    "print(\"After deletion : \",d1)\n",
    "\n",
    "#Concatination operator (+)\n",
    "d1={'sem':5,'sub':\"Python for Data Science\"}\n",
    "d2={'dept':\"Computer\"}\n",
    "print(\"Dictionary 1 : \",d1)\n",
    "print(\"Dictionary 2 : \",d2)\n",
    "print(\"After concatination : \",d1+d2)\n",
    "\n",
    "\n",
    "#Repetition operator (*)\n",
    "d1={'sem':5,'sub':\"Python for Data Science\"}\n",
    "print(\"Dictionary 1 : \",d1)\n",
    "print(\"After repetition : \",d1*2)"
   ]
  },
  {
   "cell_type": "markdown",
   "id": "aa8e105a",
   "metadata": {},
   "source": [
    "# Set Functions"
   ]
  },
  {
   "cell_type": "code",
   "execution_count": 106,
   "id": "d74db18b",
   "metadata": {},
   "outputs": [
    {
     "name": "stdout",
     "output_type": "stream",
     "text": [
      "Set 1 :  {1, 2, 3, 4, 5}\n",
      "Set 2 :  {'World', 'Hello'}\n"
     ]
    },
    {
     "ename": "TypeError",
     "evalue": "unsupported operand type(s) for +: 'set' and 'set'",
     "output_type": "error",
     "traceback": [
      "\u001b[0;31m---------------------------------------------------------------------------\u001b[0m",
      "\u001b[0;31mTypeError\u001b[0m                                 Traceback (most recent call last)",
      "\u001b[0;32m<ipython-input-106-e11163dad6f5>\u001b[0m in \u001b[0;36m<module>\u001b[0;34m\u001b[0m\n\u001b[1;32m      4\u001b[0m \u001b[0mprint\u001b[0m\u001b[0;34m(\u001b[0m\u001b[0;34m\"Set 1 : \"\u001b[0m\u001b[0;34m,\u001b[0m\u001b[0ms1\u001b[0m\u001b[0;34m)\u001b[0m\u001b[0;34m\u001b[0m\u001b[0;34m\u001b[0m\u001b[0m\n\u001b[1;32m      5\u001b[0m \u001b[0mprint\u001b[0m\u001b[0;34m(\u001b[0m\u001b[0;34m\"Set 2 : \"\u001b[0m\u001b[0;34m,\u001b[0m\u001b[0ms2\u001b[0m\u001b[0;34m)\u001b[0m\u001b[0;34m\u001b[0m\u001b[0;34m\u001b[0m\u001b[0m\n\u001b[0;32m----> 6\u001b[0;31m \u001b[0mprint\u001b[0m\u001b[0;34m(\u001b[0m\u001b[0;34m\"After concatination : \"\u001b[0m\u001b[0;34m,\u001b[0m\u001b[0ms1\u001b[0m\u001b[0;34m+\u001b[0m\u001b[0ms2\u001b[0m\u001b[0;34m)\u001b[0m\u001b[0;34m\u001b[0m\u001b[0;34m\u001b[0m\u001b[0m\n\u001b[0m\u001b[1;32m      7\u001b[0m \u001b[0;34m\u001b[0m\u001b[0m\n\u001b[1;32m      8\u001b[0m \u001b[0;31m#Repetition operator (*)\u001b[0m\u001b[0;34m\u001b[0m\u001b[0;34m\u001b[0m\u001b[0;34m\u001b[0m\u001b[0m\n",
      "\u001b[0;31mTypeError\u001b[0m: unsupported operand type(s) for +: 'set' and 'set'"
     ]
    }
   ],
   "source": [
    "#Concatination operator (+)\n",
    "s1={1,2,3,4,5}\n",
    "s2={\"Hello\",\"World\"}\n",
    "print(\"Set 1 : \",s1)\n",
    "print(\"Set 2 : \",s2)\n",
    "print(\"After concatination : \",s1+s2)\n",
    "\n",
    "#Repetition operator (*)\n",
    "s1={1,2,3,4,5}\n",
    "print(\"Set 1 : \",s1)\n",
    "print(\"After repetition : \",s1*2)\n",
    "\n",
    "#Slice Operator ([])\n",
    "s1={1,2,3,4,5}\n",
    "print(\"Set 1 : \",s1)\n",
    "print(\"After slicing : \",s1[0])\n",
    "\n",
    "#in not in Operator\n",
    "s1={1,2,3,4,5}\n",
    "print(1 in s1)\n",
    "s1={1,2,3,4,5}\n",
    "print(10 not in s1)\n",
    "\n",
    "#Updating set elements\n",
    "s1={1,2,3,4,5}\n",
    "print(\"Set 1 : \",s1)\n",
    "#s1[0]=500 #Once a set is created, you cannot change its items, but you can add new items.\n",
    "print(\"Updated Set : \",s1)\n",
    "s1.add(6) #Only one element can be added using this method.\n",
    "print(\"New set : \",s1)\n",
    "s2={\"BMW\",\"Mercedez\",\"Aston Martin\"}\n",
    "s2.update([\"Audi\",\"Ferrari\",\"Porsche\"])\n",
    "print(\"Updated set : \",s2)\n",
    "\n",
    "#Accessing set items\n",
    "x={1,2,3,4,5}\n",
    "for i in x:\n",
    "    print(\"Item : \",i)\n",
    "\n",
    "\n",
    "#frozenset()\n",
    "mylist=[1,2,3,4,5]\n",
    "fset=frozenset(mylist)\n",
    "print(\"Frozen set : \",fset)\n",
    "\n",
    "#Operations on frozen set\n",
    "\n",
    "#Concatination operator (+)\n",
    "mylist2=[6,7,8,9,10]\n",
    "fset2=frozenset(mylist2)\n",
    "#print(\"Concatination of two frozen set : \",fset+fset2)\n",
    "\n",
    "#Repetation operator (*)\n",
    "mylist2=[6,7,8,9,10]\n",
    "fset2=frozenset(mylist2)\n",
    "print(\"Repetation of frozen set : \",fset2*2)\n",
    "\n",
    "\n",
    "#Slice Operator ([])\n",
    "mylist2=[6,7,8,9,10]\n",
    "fset2=frozenset(mylist2)\n",
    "print(\"Slicing of frozen set : \",fset2[0])\n",
    "\n",
    "\n",
    "#in not in Operator\n",
    "mylist2=[6,7,8,9,10]\n",
    "fset2=frozenset(mylist2)\n",
    "print(1 in fset2)\n",
    "print(11 not in fset2)\n",
    "\n",
    "#Accessing set items\n",
    "fset2=frozenset(mylist2)\n",
    "for i in fset2:\n",
    "    print(\"Item : \",i)\n",
    "\n",
    "\n",
    "tup=(1,2,3,4,5)\n",
    "fset=frozenset(tup)\n",
    "print(fset)\n",
    "\n",
    "#clear() : Removes all elements of set.\n",
    "x={1,2,3,4,5}\n",
    "print(\"Updated Set : \",x.clear())\n",
    "\n",
    "#copy() :Returns a copy of set.\n",
    "x={1,2,3,4,5}\n",
    "newset=x.copy()\n",
    "print(\"Copied set : \",newset)\n",
    "\n",
    "#difference() : Returns a set containing the difference between two or more sets.\n",
    "#The returned set contains items that exist only in the first set, and not in both sets.\n",
    "#This function will return a new set without unwanted elements.\n",
    "x={1,2,3,4,5}\n",
    "y={1,3,5}\n",
    "print(\"Difference between two sets : \",x.difference(y))\n",
    "\n",
    "#difference_update() : Remove the items that exist in both sets.\n",
    "x={1,2,3,4,5}\n",
    "y={1,3,5}\n",
    "x.difference_update(y)\n",
    "print(x)\n",
    "\n",
    "#discard() : Removes the specified item from the set.\n",
    "x={1,2,3,4,5}\n",
    "x.discard(5)\n",
    "print(\"Updated Set : \",x)\n",
    "\n",
    "#intersection() : Returns a set, that is the intersection of two other\n",
    "sets.x={1,2,3,4,5}\n",
    "y={1,3,5}\n",
    "print(\"Intersection between two sets : \",x.intersection(y))\n",
    "\n",
    "#issubset() : Returns whether another set contains this set or not.\n",
    "#Returns True if items of x are present in y else False.\n",
    "x={1,2,3,4,5}\n",
    "y={1,3,5}\n",
    "print(\"Subset : \",x.issubset(y))\n",
    "\n",
    "#issuperset() : Returns whether another set contains this set or not.\n",
    "#Return True if all items set y are present in set x else False.\n",
    "x={1,2,3,4,5}\n",
    "y={1,3,5}\n",
    "print(\"Superset : \",x.issuperset(y))\n",
    "\n",
    "#pop() : Removes item from the set and returns the removed item.\n",
    "x={0,2,3,4,5}\n",
    "print(\"Removed item : \",x.pop())\n",
    "\n",
    "#union() : Return a set containing the union of sets.\n",
    "x={1,3,5,7}\n",
    "y={2,4,6,8}\n",
    "print(\"Union between two sets : \",x.union(y))\n",
    "\n",
    "#len() : Returns number of elements present in the set.\n",
    "x={1,3,5,7}\n",
    "print(\"Length of set : \",len(x))"
   ]
  },
  {
   "cell_type": "code",
   "execution_count": 6,
   "id": "665c6c39",
   "metadata": {},
   "outputs": [],
   "source": [
    "var=3\n",
    "var1=0\n",
    "var2=var1+1\n",
    "while(var<7):\n",
    "    var2=var2+var1\n",
    "    if(var1%2==0):\n",
    "        var=var+1\n",
    "        var1=var1+1\n",
    "    else:\n",
    "        var2=var2*var1\n",
    "        var1=var1+3"
   ]
  },
  {
   "cell_type": "code",
   "execution_count": null,
   "id": "d30600f1",
   "metadata": {},
   "outputs": [],
   "source": []
  }
 ],
 "metadata": {
  "kernelspec": {
   "display_name": "Python 3",
   "language": "python",
   "name": "python3"
  },
  "language_info": {
   "codemirror_mode": {
    "name": "ipython",
    "version": 3
   },
   "file_extension": ".py",
   "mimetype": "text/x-python",
   "name": "python",
   "nbconvert_exporter": "python",
   "pygments_lexer": "ipython3",
   "version": "3.8.8"
  }
 },
 "nbformat": 4,
 "nbformat_minor": 5
}
