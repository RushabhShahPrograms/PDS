{
 "cells": [
  {
   "cell_type": "code",
   "execution_count": 1,
   "id": "81bc1fec",
   "metadata": {},
   "outputs": [
    {
     "name": "stdout",
     "output_type": "stream",
     "text": [
      "Hello\n"
     ]
    }
   ],
   "source": [
    "print(\"Hello\")"
   ]
  },
  {
   "cell_type": "code",
   "execution_count": 2,
   "id": "6260516d",
   "metadata": {},
   "outputs": [
    {
     "name": "stdout",
     "output_type": "stream",
     "text": [
      "9\n"
     ]
    }
   ],
   "source": [
    "a=b=3\n",
    "c=a*b\n",
    "print(c)"
   ]
  },
  {
   "cell_type": "code",
   "execution_count": 3,
   "id": "814f0f1d",
   "metadata": {},
   "outputs": [
    {
     "data": {
      "text/plain": [
       "64"
      ]
     },
     "execution_count": 3,
     "metadata": {},
     "output_type": "execute_result"
    }
   ],
   "source": [
    "2**6"
   ]
  },
  {
   "cell_type": "code",
   "execution_count": 4,
   "id": "8c3c1769",
   "metadata": {},
   "outputs": [
    {
     "data": {
      "text/plain": [
       "'RushabhShah'"
      ]
     },
     "execution_count": 4,
     "metadata": {},
     "output_type": "execute_result"
    }
   ],
   "source": [
    "s1 = \"Rushabh\"\n",
    "s2 = \"Shah\"\n",
    "s1 + s2"
   ]
  },
  {
   "cell_type": "code",
   "execution_count": 5,
   "id": "02ded7d9",
   "metadata": {},
   "outputs": [
    {
     "data": {
      "text/plain": [
       "'RushabhRushabh'"
      ]
     },
     "execution_count": 5,
     "metadata": {},
     "output_type": "execute_result"
    }
   ],
   "source": [
    "s1 = \"Rushabh\"\n",
    "s2 = \"Shah\"\n",
    "s1 * 2"
   ]
  },
  {
   "cell_type": "code",
   "execution_count": 3,
   "id": "848a751f",
   "metadata": {},
   "outputs": [
    {
     "name": "stdout",
     "output_type": "stream",
     "text": [
      "<class 'NoneType'>\n"
     ]
    }
   ],
   "source": [
    "z = None\n",
    "print(type(z))"
   ]
  },
  {
   "cell_type": "code",
   "execution_count": 2,
   "id": "d48310ee",
   "metadata": {},
   "outputs": [
    {
     "name": "stdout",
     "output_type": "stream",
     "text": [
      "B is big\n"
     ]
    }
   ],
   "source": [
    "a=4\n",
    "b=5\n",
    "if a>b:\n",
    "    print(\"A is big\")\n",
    "else:\n",
    "    print(\"B is big\")"
   ]
  },
  {
   "cell_type": "code",
   "execution_count": 1,
   "id": "22b8732a",
   "metadata": {},
   "outputs": [
    {
     "name": "stdout",
     "output_type": "stream",
     "text": [
      "A is smaller\n"
     ]
    }
   ],
   "source": [
    "a = -5\n",
    "if a>0:\n",
    "    print(\"A is larger\")\n",
    "elif a==0:\n",
    "    print(\"A is zero\")\n",
    "else:\n",
    "    print(\"A is smaller\")"
   ]
  },
  {
   "cell_type": "code",
   "execution_count": null,
   "id": "435297a1",
   "metadata": {},
   "outputs": [],
   "source": []
  }
 ],
 "metadata": {
  "kernelspec": {
   "display_name": "Python 3",
   "language": "python",
   "name": "python3"
  },
  "language_info": {
   "codemirror_mode": {
    "name": "ipython",
    "version": 3
   },
   "file_extension": ".py",
   "mimetype": "text/x-python",
   "name": "python",
   "nbconvert_exporter": "python",
   "pygments_lexer": "ipython3",
   "version": "3.8.8"
  }
 },
 "nbformat": 4,
 "nbformat_minor": 5
}
