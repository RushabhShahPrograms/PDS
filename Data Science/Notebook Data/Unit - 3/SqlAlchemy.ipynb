{
 "cells": [
  {
   "cell_type": "markdown",
   "metadata": {},
   "source": [
    "# Managing Data from Relational Databases"
   ]
  },
  {
   "cell_type": "code",
   "execution_count": 1,
   "metadata": {},
   "outputs": [
    {
     "name": "stdout",
     "output_type": "stream",
     "text": [
      "Requirement already satisfied: SQLAlchemy in c:\\programdata\\anaconda3\\lib\\site-packages (1.3.20)\n",
      "Note: you may need to restart the kernel to use updated packages.\n"
     ]
    }
   ],
   "source": [
    "pip install SQLAlchemy"
   ]
  },
  {
   "cell_type": "code",
   "execution_count": 4,
   "metadata": {},
   "outputs": [],
   "source": [
    "import sqlalchemy"
   ]
  },
  {
   "cell_type": "code",
   "execution_count": 3,
   "metadata": {},
   "outputs": [
    {
     "data": {
      "text/plain": [
       "'1.3.20'"
      ]
     },
     "execution_count": 3,
     "metadata": {},
     "output_type": "execute_result"
    }
   ],
   "source": [
    "sqlalchemy.__version__ "
   ]
  },
  {
   "cell_type": "code",
   "execution_count": 6,
   "metadata": {},
   "outputs": [],
   "source": [
    "from sqlalchemy import *"
   ]
  },
  {
   "cell_type": "markdown",
   "metadata": {},
   "source": [
    "The create_engine() function takes the database as one argument. Using the code given below, we can create a database."
   ]
  },
  {
   "cell_type": "code",
   "execution_count": 11,
   "metadata": {},
   "outputs": [],
   "source": [
    "#from sqlalchemy import create_engine\n",
    "engine = create_engine('sqlite:///college.db', echo = True)"
   ]
  },
  {
   "cell_type": "markdown",
   "metadata": {},
   "source": [
    "An object of MetaData class from SQLAlchemy Metadata is a collection of Table objects and their associated schema constructs. It holds a collection of Table objects as well as an optional binding to an Engine or Connection."
   ]
  },
  {
   "cell_type": "code",
   "execution_count": 12,
   "metadata": {},
   "outputs": [],
   "source": [
    "#from sqlalchemy import MetaData\n",
    "meta = MetaData()"
   ]
  },
  {
   "cell_type": "markdown",
   "metadata": {},
   "source": [
    "## Creating a Table"
   ]
  },
  {
   "cell_type": "code",
   "execution_count": 16,
   "metadata": {},
   "outputs": [],
   "source": [
    "#from sqlalchemy import Table, Column, Integer, String, MetaData\n",
    "students = Table(\n",
    "   'student', meta, \n",
    "   Column('id', Integer, primary_key = True), \n",
    "   Column('name', String), \n",
    "   Column('lastname', String), \n",
    "   Column('contact',Integer)\n",
    ")"
   ]
  },
  {
   "cell_type": "code",
   "execution_count": 17,
   "metadata": {
    "scrolled": true
   },
   "outputs": [
    {
     "name": "stdout",
     "output_type": "stream",
     "text": [
      "2021-08-19 10:20:59,954 INFO sqlalchemy.engine.base.Engine PRAGMA main.table_info(\"students\")\n",
      "2021-08-19 10:20:59,955 INFO sqlalchemy.engine.base.Engine ()\n",
      "2021-08-19 10:20:59,958 INFO sqlalchemy.engine.base.Engine PRAGMA main.table_info(\"student\")\n",
      "2021-08-19 10:20:59,962 INFO sqlalchemy.engine.base.Engine ()\n",
      "2021-08-19 10:20:59,964 INFO sqlalchemy.engine.base.Engine PRAGMA temp.table_info(\"student\")\n",
      "2021-08-19 10:20:59,964 INFO sqlalchemy.engine.base.Engine ()\n",
      "2021-08-19 10:20:59,964 INFO sqlalchemy.engine.base.Engine \n",
      "CREATE TABLE student (\n",
      "\tid INTEGER NOT NULL, \n",
      "\tname VARCHAR, \n",
      "\tlastname VARCHAR, \n",
      "\tcontact INTEGER, \n",
      "\tPRIMARY KEY (id)\n",
      ")\n",
      "\n",
      "\n",
      "2021-08-19 10:20:59,972 INFO sqlalchemy.engine.base.Engine ()\n",
      "2021-08-19 10:21:00,382 INFO sqlalchemy.engine.base.Engine COMMIT\n"
     ]
    }
   ],
   "source": [
    "meta.create_all(engine)"
   ]
  },
  {
   "cell_type": "markdown",
   "metadata": {},
   "source": [
    "## Inserting a row in Database Table"
   ]
  },
  {
   "cell_type": "code",
   "execution_count": 19,
   "metadata": {},
   "outputs": [],
   "source": [
    "ins = students.insert()"
   ]
  },
  {
   "cell_type": "code",
   "execution_count": 20,
   "metadata": {},
   "outputs": [
    {
     "data": {
      "text/plain": [
       "'INSERT INTO student (id, name, lastname, contact) VALUES (:id, :name, :lastname, :contact)'"
      ]
     },
     "execution_count": 20,
     "metadata": {},
     "output_type": "execute_result"
    }
   ],
   "source": [
    "str(ins)"
   ]
  },
  {
   "cell_type": "code",
   "execution_count": 21,
   "metadata": {},
   "outputs": [],
   "source": [
    "ins = students.insert().values(name = 'Zarana',lastname='Gajjar',contact=1234567893)"
   ]
  },
  {
   "cell_type": "code",
   "execution_count": 23,
   "metadata": {},
   "outputs": [
    {
     "name": "stdout",
     "output_type": "stream",
     "text": [
      "2021-08-19 10:28:06,241 INFO sqlalchemy.engine.base.Engine INSERT INTO student (name, lastname, contact) VALUES (?, ?, ?)\n",
      "2021-08-19 10:28:06,241 INFO sqlalchemy.engine.base.Engine ('Zarana', 'Gajjar', 1234567893)\n",
      "2021-08-19 10:28:06,292 INFO sqlalchemy.engine.base.Engine COMMIT\n"
     ]
    }
   ],
   "source": [
    "conn = engine.connect()\n",
    "result = conn.execute(ins)"
   ]
  },
  {
   "cell_type": "code",
   "execution_count": 24,
   "metadata": {},
   "outputs": [
    {
     "name": "stdout",
     "output_type": "stream",
     "text": [
      "2021-08-19 10:28:49,138 INFO sqlalchemy.engine.base.Engine INSERT INTO student (name, lastname) VALUES (?, ?)\n",
      "2021-08-19 10:28:49,147 INFO sqlalchemy.engine.base.Engine ('Ankita', 'Tiwari')\n",
      "2021-08-19 10:28:49,237 INFO sqlalchemy.engine.base.Engine COMMIT\n"
     ]
    }
   ],
   "source": [
    "ins = students.insert().values(name = 'Ankita', lastname = 'Tiwari')\n",
    "result = conn.execute(ins)"
   ]
  },
  {
   "cell_type": "code",
   "execution_count": 25,
   "metadata": {},
   "outputs": [
    {
     "name": "stdout",
     "output_type": "stream",
     "text": [
      "2021-08-19 10:29:59,975 INFO sqlalchemy.engine.base.Engine INSERT INTO student (name, lastname) VALUES (?, ?)\n",
      "2021-08-19 10:29:59,982 INFO sqlalchemy.engine.base.Engine (('Pooja', 'Joshi'), ('Rupal', 'Kapoor'), ('Nilam', 'Shah'), ('Anjana', 'Mehta'))\n",
      "2021-08-19 10:29:59,984 INFO sqlalchemy.engine.base.Engine COMMIT\n"
     ]
    },
    {
     "data": {
      "text/plain": [
       "<sqlalchemy.engine.result.ResultProxy at 0x292ed3e3d00>"
      ]
     },
     "execution_count": 25,
     "metadata": {},
     "output_type": "execute_result"
    }
   ],
   "source": [
    "conn.execute(students.insert(), [\n",
    "   {'name':'Pooja', 'lastname' : 'Joshi'},\n",
    "   {'name':'Rupal','lastname' : 'Kapoor'},\n",
    "   {'name':'Nilam','lastname' : 'Shah'},\n",
    "   {'name':'Anjana','lastname' : 'Mehta'},\n",
    "])"
   ]
  },
  {
   "cell_type": "markdown",
   "metadata": {},
   "source": [
    "## Select Query"
   ]
  },
  {
   "cell_type": "code",
   "execution_count": 26,
   "metadata": {},
   "outputs": [
    {
     "name": "stdout",
     "output_type": "stream",
     "text": [
      "2021-08-19 10:31:17,624 INFO sqlalchemy.engine.base.Engine SELECT student.id, student.name, student.lastname, student.contact \n",
      "FROM student\n",
      "2021-08-19 10:31:17,624 INFO sqlalchemy.engine.base.Engine ()\n",
      "(1, 'Zarana', 'Gajjar', 1234567893)\n",
      "(2, 'Ankita', 'Tiwari', None)\n",
      "(3, 'Pooja', 'Joshi', None)\n",
      "(4, 'Rupal', 'Kapoor', None)\n",
      "(5, 'Nilam', 'Shah', None)\n",
      "(6, 'Anjana', 'Mehta', None)\n"
     ]
    }
   ],
   "source": [
    "s = students.select()\n",
    "conn = engine.connect()\n",
    "result = conn.execute(s)\n",
    "\n",
    "for row in result:\n",
    "    print(row)"
   ]
  },
  {
   "cell_type": "code",
   "execution_count": 30,
   "metadata": {},
   "outputs": [
    {
     "name": "stdout",
     "output_type": "stream",
     "text": [
      "2021-08-19 10:33:39,713 INFO sqlalchemy.engine.base.Engine SELECT student.id, student.name, student.lastname, student.contact \n",
      "FROM student \n",
      "WHERE student.name = ?\n",
      "2021-08-19 10:33:39,717 INFO sqlalchemy.engine.base.Engine ('zarana',)\n"
     ]
    }
   ],
   "source": [
    "# Where clause\n",
    "s = students.select().where(students.c.id>3)\n",
    "result = conn.execute(s)\n",
    "\n",
    "for row in result:\n",
    "    print (row)"
   ]
  },
  {
   "cell_type": "markdown",
   "metadata": {},
   "source": [
    "## Update Expression"
   ]
  },
  {
   "cell_type": "markdown",
   "metadata": {},
   "source": [
    "stmt=students.update().where(students.c.lastname=='Kapoor').values(lastname='Kapur')"
   ]
  },
  {
   "cell_type": "code",
   "execution_count": 31,
   "metadata": {},
   "outputs": [
    {
     "name": "stdout",
     "output_type": "stream",
     "text": [
      "2021-08-19 10:35:01,201 INFO sqlalchemy.engine.base.Engine UPDATE student SET lastname=? WHERE student.lastname = ?\n",
      "2021-08-19 10:35:01,202 INFO sqlalchemy.engine.base.Engine ('Patel', 'Kapoor')\n",
      "2021-08-19 10:35:01,246 INFO sqlalchemy.engine.base.Engine COMMIT\n",
      "2021-08-19 10:35:01,320 INFO sqlalchemy.engine.base.Engine SELECT student.id, student.name, student.lastname, student.contact \n",
      "FROM student\n",
      "2021-08-19 10:35:01,320 INFO sqlalchemy.engine.base.Engine ()\n"
     ]
    },
    {
     "data": {
      "text/plain": [
       "[(1, 'Zarana', 'Gajjar', 1234567893),\n",
       " (2, 'Ankita', 'Tiwari', None),\n",
       " (3, 'Pooja', 'Joshi', None),\n",
       " (4, 'Rupal', 'Patel', None),\n",
       " (5, 'Nilam', 'Shah', None),\n",
       " (6, 'Anjana', 'Mehta', None)]"
      ]
     },
     "execution_count": 31,
     "metadata": {},
     "output_type": "execute_result"
    }
   ],
   "source": [
    "conn = engine.connect()\n",
    "stmt=students.update().where(students.c.lastname=='Kapoor').values(lastname='Patel')\n",
    "conn.execute(stmt)\n",
    "\n",
    "s = students.select()\n",
    "conn.execute(s).fetchall()"
   ]
  },
  {
   "cell_type": "markdown",
   "metadata": {},
   "source": [
    "## Delete Expression"
   ]
  },
  {
   "cell_type": "markdown",
   "metadata": {},
   "source": [
    "stmt = students.delete().where(students.c.id > 2)"
   ]
  },
  {
   "cell_type": "code",
   "execution_count": 34,
   "metadata": {},
   "outputs": [
    {
     "name": "stdout",
     "output_type": "stream",
     "text": [
      "2021-08-19 11:15:17,573 INFO sqlalchemy.engine.base.Engine DELETE FROM student WHERE student.name = ?\n",
      "2021-08-19 11:15:17,574 INFO sqlalchemy.engine.base.Engine ('Nilam',)\n",
      "2021-08-19 11:15:17,577 INFO sqlalchemy.engine.base.Engine COMMIT\n"
     ]
    },
    {
     "data": {
      "text/plain": [
       "<sqlalchemy.engine.result.ResultProxy at 0x292ed567af0>"
      ]
     },
     "execution_count": 34,
     "metadata": {},
     "output_type": "execute_result"
    }
   ],
   "source": [
    "conn = engine.connect()\n",
    "stmt = students.delete().where(students.c.name == 'Nilam')\n",
    "conn.execute(stmt)\n",
    "#s = students.select()\n",
    "#conn.execute(s).fetchall()"
   ]
  },
  {
   "cell_type": "code",
   "execution_count": null,
   "metadata": {},
   "outputs": [],
   "source": []
  }
 ],
 "metadata": {
  "kernelspec": {
   "display_name": "Python 3",
   "language": "python",
   "name": "python3"
  },
  "language_info": {
   "codemirror_mode": {
    "name": "ipython",
    "version": 3
   },
   "file_extension": ".py",
   "mimetype": "text/x-python",
   "name": "python",
   "nbconvert_exporter": "python",
   "pygments_lexer": "ipython3",
   "version": "3.8.8"
  }
 },
 "nbformat": 4,
 "nbformat_minor": 4
}
