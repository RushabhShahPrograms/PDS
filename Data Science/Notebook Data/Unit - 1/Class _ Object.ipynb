{
 "cells": [
  {
   "cell_type": "code",
   "execution_count": 5,
   "metadata": {},
   "outputs": [
    {
     "name": "stdout",
     "output_type": "stream",
     "text": [
      "Enrollment number is 1 & name is Zarana\n",
      "Enrollment number is 1 & name is Zarana\n"
     ]
    }
   ],
   "source": [
    "class Student:\n",
    "    def stude_details(self):\n",
    "        print(\"Enrollment number is 1 & name is Zarana\")\n",
    "        \n",
    "s1=Student() #creating object\n",
    "s2=Student()\n",
    "\n",
    "s1.stude_details()\n",
    "s2.stude_details()"
   ]
  },
  {
   "cell_type": "code",
   "execution_count": 9,
   "metadata": {},
   "outputs": [
    {
     "name": "stdout",
     "output_type": "stream",
     "text": [
      "You are in init\n",
      "You are in init\n",
      "Enrollement number is 1 & name is Zarana\n",
      "Enrollement number is 1 & name is Zarana\n"
     ]
    }
   ],
   "source": [
    "class student:\n",
    "    def __init__(self):\n",
    "        print(\"You are in init\")\n",
    "        \n",
    "    def stude_details(self):\n",
    "        print(\"Enrollement number is 1 & name is Zarana\")\n",
    "        \n",
    "s1=student()\n",
    "s2=student()\n",
    "\n",
    "s1.stude_details()\n",
    "s2.stude_details()"
   ]
  },
  {
   "cell_type": "code",
   "execution_count": 13,
   "metadata": {},
   "outputs": [
    {
     "name": "stdout",
     "output_type": "stream",
     "text": [
      "Enrollment number is 1 & name is Zarana\n",
      "Enrollment number is 2 & name is Mona\n"
     ]
    }
   ],
   "source": [
    "class student:\n",
    "    \n",
    "    def __init__(self, enroll,name):\n",
    "        self.enroll = enroll\n",
    "        self.name = name\n",
    "        \n",
    "    def stude_details(self):\n",
    "        print(\"Enrollment number is\", self.enroll,\"& name is\", self.name)\n",
    "        \n",
    "s1=student(1,\"Zarana\")\n",
    "s2=student(2,\"Mona\")\n",
    "\n",
    "s1.stude_details()\n",
    "s2.stude_details()"
   ]
  },
  {
   "cell_type": "code",
   "execution_count": 6,
   "metadata": {},
   "outputs": [
    {
     "name": "stdout",
     "output_type": "stream",
     "text": [
      "Address of self is  2294904903520\n",
      "Address of class object is  2294904903520\n"
     ]
    }
   ],
   "source": [
    "class demo:\n",
    "    def __init__(self):\n",
    "        print(\"Address of self is \", id(self))\n",
    "        \n",
    "obj = demo()\n",
    "\n",
    "print(\"Address of class object is \",id(obj))"
   ]
  },
  {
   "cell_type": "code",
   "execution_count": 23,
   "metadata": {},
   "outputs": [
    {
     "name": "stdout",
     "output_type": "stream",
     "text": [
      "hello\n",
      "hello\n",
      "hello\n",
      "hello\n",
      "hello\n",
      "hello\n",
      "hello\n",
      "hello\n"
     ]
    }
   ],
   "source": [
    "def demo(n):\n",
    "    for a in range(0,n):        #for(i=0;i<10:i++)\n",
    "        print(\"hello\")\n",
    "        #return(\"hello\")\n",
    "demo(8) "
   ]
  },
  {
   "cell_type": "code",
   "execution_count": 28,
   "metadata": {},
   "outputs": [
    {
     "name": "stdout",
     "output_type": "stream",
     "text": [
      "6\n",
      "7\n"
     ]
    },
    {
     "data": {
      "text/plain": [
       "7"
      ]
     },
     "execution_count": 28,
     "metadata": {},
     "output_type": "execute_result"
    }
   ],
   "source": [
    "a=6\n",
    "print(a)\n",
    "b=7\n",
    "print(b)\n",
    "a\n",
    "b"
   ]
  },
  {
   "cell_type": "code",
   "execution_count": null,
   "metadata": {},
   "outputs": [],
   "source": []
  }
 ],
 "metadata": {
  "kernelspec": {
   "display_name": "Python 3",
   "language": "python",
   "name": "python3"
  },
  "language_info": {
   "codemirror_mode": {
    "name": "ipython",
    "version": 3
   },
   "file_extension": ".py",
   "mimetype": "text/x-python",
   "name": "python",
   "nbconvert_exporter": "python",
   "pygments_lexer": "ipython3",
   "version": "3.8.8"
  }
 },
 "nbformat": 4,
 "nbformat_minor": 4
}
