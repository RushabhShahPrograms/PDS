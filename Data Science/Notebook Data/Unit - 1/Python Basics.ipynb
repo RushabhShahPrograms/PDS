{
 "cells": [
  {
   "cell_type": "code",
   "execution_count": null,
   "metadata": {
    "colab": {
     "base_uri": "https://localhost:8080/"
    },
    "executionInfo": {
     "elapsed": 4,
     "status": "ok",
     "timestamp": 1623993848836,
     "user": {
      "displayName": "ZARANA GAJJAR",
      "photoUrl": "https://lh3.googleusercontent.com/a-/AOh14Gj9U-e9c_c2omtamZF3KKC2e_zku2C3ahbiQlGE=s64",
      "userId": "15850879148317959434"
     },
     "user_tz": -330
    },
    "id": "rNxD7Bh1VG2B",
    "outputId": "a6835be3-8211-410e-84d0-88eb7e482417"
   },
   "outputs": [
    {
     "name": "stdout",
     "output_type": "stream",
     "text": [
      "hello\n"
     ]
    }
   ],
   "source": [
    "print(\"hello\")"
   ]
  },
  {
   "cell_type": "code",
   "execution_count": null,
   "metadata": {
    "id": "9Nbd2hc6kz1i"
   },
   "outputs": [],
   "source": [
    "a=4.67"
   ]
  },
  {
   "cell_type": "code",
   "execution_count": null,
   "metadata": {
    "colab": {
     "base_uri": "https://localhost:8080/"
    },
    "executionInfo": {
     "elapsed": 569,
     "status": "ok",
     "timestamp": 1624598269020,
     "user": {
      "displayName": "ZARANA GAJJAR",
      "photoUrl": "https://lh3.googleusercontent.com/a-/AOh14Gj9U-e9c_c2omtamZF3KKC2e_zku2C3ahbiQlGE=s64",
      "userId": "15850879148317959434"
     },
     "user_tz": -330
    },
    "id": "WrwfUdNhmdrA",
    "outputId": "d8ece002-215d-4246-f277-7219a5cbb5b3"
   },
   "outputs": [
    {
     "name": "stdout",
     "output_type": "stream",
     "text": [
      "4\n"
     ]
    }
   ],
   "source": [
    "print(a)"
   ]
  },
  {
   "cell_type": "code",
   "execution_count": null,
   "metadata": {
    "id": "pyCr4n-NmkfE"
   },
   "outputs": [],
   "source": [
    "a = \"Hello\""
   ]
  },
  {
   "cell_type": "code",
   "execution_count": null,
   "metadata": {
    "colab": {
     "base_uri": "https://localhost:8080/"
    },
    "executionInfo": {
     "elapsed": 4,
     "status": "ok",
     "timestamp": 1624598378719,
     "user": {
      "displayName": "ZARANA GAJJAR",
      "photoUrl": "https://lh3.googleusercontent.com/a-/AOh14Gj9U-e9c_c2omtamZF3KKC2e_zku2C3ahbiQlGE=s64",
      "userId": "15850879148317959434"
     },
     "user_tz": -330
    },
    "id": "6geMNfZemwxT",
    "outputId": "6d0d7f03-e475-4991-c506-5815494e54f7"
   },
   "outputs": [
    {
     "data": {
      "text/plain": [
       "float"
      ]
     },
     "execution_count": 8,
     "metadata": {
      "tags": []
     },
     "output_type": "execute_result"
    }
   ],
   "source": [
    "type(a)"
   ]
  },
  {
   "cell_type": "code",
   "execution_count": null,
   "metadata": {
    "id": "dYqOzYhlmyFc"
   },
   "outputs": [],
   "source": [
    "\n",
    "a=b=c=1"
   ]
  },
  {
   "cell_type": "code",
   "execution_count": null,
   "metadata": {
    "colab": {
     "base_uri": "https://localhost:8080/"
    },
    "executionInfo": {
     "elapsed": 536,
     "status": "ok",
     "timestamp": 1624598445414,
     "user": {
      "displayName": "ZARANA GAJJAR",
      "photoUrl": "https://lh3.googleusercontent.com/a-/AOh14Gj9U-e9c_c2omtamZF3KKC2e_zku2C3ahbiQlGE=s64",
      "userId": "15850879148317959434"
     },
     "user_tz": -330
    },
    "id": "InM0L2DVnJtI",
    "outputId": "4aa822c2-7984-42ec-ac5f-124182f8d674"
   },
   "outputs": [
    {
     "name": "stdout",
     "output_type": "stream",
     "text": [
      "1\n",
      "1\n"
     ]
    }
   ],
   "source": [
    "print(a)\n",
    "print(b)\n"
   ]
  },
  {
   "cell_type": "code",
   "execution_count": 35,
   "metadata": {
    "executionInfo": {
     "elapsed": 340,
     "status": "ok",
     "timestamp": 1624686319102,
     "user": {
      "displayName": "ZARANA GAJJAR",
      "photoUrl": "https://lh3.googleusercontent.com/a-/AOh14Gj9U-e9c_c2omtamZF3KKC2e_zku2C3ahbiQlGE=s64",
      "userId": "15850879148317959434"
     },
     "user_tz": -330
    },
    "id": "c_3Ra9tznPi2"
   },
   "outputs": [],
   "source": [
    "sem,roll_no,subject=5,1,\"PDS\""
   ]
  },
  {
   "cell_type": "code",
   "execution_count": 36,
   "metadata": {
    "colab": {
     "base_uri": "https://localhost:8080/"
    },
    "executionInfo": {
     "elapsed": 506,
     "status": "ok",
     "timestamp": 1624686371671,
     "user": {
      "displayName": "ZARANA GAJJAR",
      "photoUrl": "https://lh3.googleusercontent.com/a-/AOh14Gj9U-e9c_c2omtamZF3KKC2e_zku2C3ahbiQlGE=s64",
      "userId": "15850879148317959434"
     },
     "user_tz": -330
    },
    "id": "t5ihlCKL2lU8",
    "outputId": "3dc32e12-a87f-4435-bdd8-a29ba51be711"
   },
   "outputs": [
    {
     "name": "stdout",
     "output_type": "stream",
     "text": [
      "5 PDS\n"
     ]
    }
   ],
   "source": [
    "print(sem,subject)"
   ]
  },
  {
   "cell_type": "code",
   "execution_count": null,
   "metadata": {
    "colab": {
     "base_uri": "https://localhost:8080/"
    },
    "executionInfo": {
     "elapsed": 4895,
     "status": "ok",
     "timestamp": 1624598745142,
     "user": {
      "displayName": "ZARANA GAJJAR",
      "photoUrl": "https://lh3.googleusercontent.com/a-/AOh14Gj9U-e9c_c2omtamZF3KKC2e_zku2C3ahbiQlGE=s64",
      "userId": "15850879148317959434"
     },
     "user_tz": -330
    },
    "id": "Rcqr-_umnfA2",
    "outputId": "19c77d0f-3d24-4ace-d5be-d7ca3e0b6505"
   },
   "outputs": [
    {
     "name": "stdout",
     "output_type": "stream",
     "text": [
      "Write your enrollment number63475479824\n"
     ]
    }
   ],
   "source": [
    "var1=input(\"Write your enrollment number\")"
   ]
  },
  {
   "cell_type": "code",
   "execution_count": null,
   "metadata": {
    "colab": {
     "base_uri": "https://localhost:8080/"
    },
    "executionInfo": {
     "elapsed": 357,
     "status": "ok",
     "timestamp": 1624598751595,
     "user": {
      "displayName": "ZARANA GAJJAR",
      "photoUrl": "https://lh3.googleusercontent.com/a-/AOh14Gj9U-e9c_c2omtamZF3KKC2e_zku2C3ahbiQlGE=s64",
      "userId": "15850879148317959434"
     },
     "user_tz": -330
    },
    "id": "BYTr9ZDLn6v8",
    "outputId": "6446e3db-1021-467a-8852-2e7f588e9292"
   },
   "outputs": [
    {
     "name": "stdout",
     "output_type": "stream",
     "text": [
      "63475479824\n"
     ]
    }
   ],
   "source": [
    "print(var1)"
   ]
  },
  {
   "cell_type": "code",
   "execution_count": null,
   "metadata": {
    "colab": {
     "base_uri": "https://localhost:8080/"
    },
    "executionInfo": {
     "elapsed": 353,
     "status": "ok",
     "timestamp": 1624598759966,
     "user": {
      "displayName": "ZARANA GAJJAR",
      "photoUrl": "https://lh3.googleusercontent.com/a-/AOh14Gj9U-e9c_c2omtamZF3KKC2e_zku2C3ahbiQlGE=s64",
      "userId": "15850879148317959434"
     },
     "user_tz": -330
    },
    "id": "rwhPoM-ZoaWJ",
    "outputId": "f51ea8b9-8a92-44e1-f93f-4db9154b5bf6"
   },
   "outputs": [
    {
     "data": {
      "text/plain": [
       "str"
      ]
     },
     "execution_count": 19,
     "metadata": {
      "tags": []
     },
     "output_type": "execute_result"
    }
   ],
   "source": [
    "type(var1)"
   ]
  },
  {
   "cell_type": "code",
   "execution_count": null,
   "metadata": {
    "colab": {
     "base_uri": "https://localhost:8080/"
    },
    "executionInfo": {
     "elapsed": 9414,
     "status": "ok",
     "timestamp": 1624598925843,
     "user": {
      "displayName": "ZARANA GAJJAR",
      "photoUrl": "https://lh3.googleusercontent.com/a-/AOh14Gj9U-e9c_c2omtamZF3KKC2e_zku2C3ahbiQlGE=s64",
      "userId": "15850879148317959434"
     },
     "user_tz": -330
    },
    "id": "eivbew1oocZM",
    "outputId": "fdbbb2ab-3819-4938-bcb6-9c8a73065d7b"
   },
   "outputs": [
    {
     "name": "stdout",
     "output_type": "stream",
     "text": [
      "write any number9**3\n"
     ]
    }
   ],
   "source": [
    "a=eval(input(\"write any number\"))"
   ]
  },
  {
   "cell_type": "code",
   "execution_count": null,
   "metadata": {
    "colab": {
     "base_uri": "https://localhost:8080/"
    },
    "executionInfo": {
     "elapsed": 436,
     "status": "ok",
     "timestamp": 1624598940832,
     "user": {
      "displayName": "ZARANA GAJJAR",
      "photoUrl": "https://lh3.googleusercontent.com/a-/AOh14Gj9U-e9c_c2omtamZF3KKC2e_zku2C3ahbiQlGE=s64",
      "userId": "15850879148317959434"
     },
     "user_tz": -330
    },
    "id": "dPA05BQ4ouET",
    "outputId": "0209c3de-a2bc-4d8d-8f48-b493069128a5"
   },
   "outputs": [
    {
     "name": "stdout",
     "output_type": "stream",
     "text": [
      "729\n"
     ]
    }
   ],
   "source": [
    "print(a)"
   ]
  },
  {
   "cell_type": "code",
   "execution_count": null,
   "metadata": {
    "colab": {
     "base_uri": "https://localhost:8080/"
    },
    "executionInfo": {
     "elapsed": 369,
     "status": "ok",
     "timestamp": 1624599040248,
     "user": {
      "displayName": "ZARANA GAJJAR",
      "photoUrl": "https://lh3.googleusercontent.com/a-/AOh14Gj9U-e9c_c2omtamZF3KKC2e_zku2C3ahbiQlGE=s64",
      "userId": "15850879148317959434"
     },
     "user_tz": -330
    },
    "id": "Sg9a179hpBMo",
    "outputId": "52215262-d283-45f7-9c7c-02f6a814196c"
   },
   "outputs": [
    {
     "data": {
      "text/plain": [
       "1.5"
      ]
     },
     "execution_count": 26,
     "metadata": {
      "tags": []
     },
     "output_type": "execute_result"
    }
   ],
   "source": [
    "3/2"
   ]
  },
  {
   "cell_type": "code",
   "execution_count": null,
   "metadata": {
    "id": "ysRDcZ2QqDEF"
   },
   "outputs": [],
   "source": []
  },
  {
   "cell_type": "markdown",
   "metadata": {
    "id": "jvNrnDHbqPwL"
   },
   "source": [
    "Hello This is My 3rd Lecture"
   ]
  },
  {
   "cell_type": "code",
   "execution_count": null,
   "metadata": {
    "colab": {
     "base_uri": "https://localhost:8080/"
    },
    "executionInfo": {
     "elapsed": 366,
     "status": "ok",
     "timestamp": 1624599266594,
     "user": {
      "displayName": "ZARANA GAJJAR",
      "photoUrl": "https://lh3.googleusercontent.com/a-/AOh14Gj9U-e9c_c2omtamZF3KKC2e_zku2C3ahbiQlGE=s64",
      "userId": "15850879148317959434"
     },
     "user_tz": -330
    },
    "id": "7CzV8zT8qWgZ",
    "outputId": "a3258e32-5a59-46d3-b20c-a5c3d51451ee"
   },
   "outputs": [
    {
     "data": {
      "text/plain": [
       "8"
      ]
     },
     "execution_count": 27,
     "metadata": {
      "tags": []
     },
     "output_type": "execute_result"
    }
   ],
   "source": [
    "5+3"
   ]
  },
  {
   "cell_type": "code",
   "execution_count": null,
   "metadata": {
    "id": "INe-bDSnqDfm"
   },
   "outputs": [],
   "source": []
  },
  {
   "cell_type": "markdown",
   "metadata": {
    "id": "9KMJ5iGrqZja"
   },
   "source": [
    "##### 5+3"
   ]
  },
  {
   "cell_type": "code",
   "execution_count": 6,
   "metadata": {
    "colab": {
     "base_uri": "https://localhost:8080/"
    },
    "executionInfo": {
     "elapsed": 326,
     "status": "ok",
     "timestamp": 1624682422937,
     "user": {
      "displayName": "ZARANA GAJJAR",
      "photoUrl": "https://lh3.googleusercontent.com/a-/AOh14Gj9U-e9c_c2omtamZF3KKC2e_zku2C3ahbiQlGE=s64",
      "userId": "15850879148317959434"
     },
     "user_tz": -330
    },
    "id": "y8kWtsmLqag3",
    "outputId": "9bdd2b86-62ab-47ec-ab13-ce5ca92ffca1"
   },
   "outputs": [
    {
     "name": "stdout",
     "output_type": "stream",
     "text": [
      "-7 is less than 0\n"
     ]
    }
   ],
   "source": [
    "n = -7\n",
    "if n>0:\n",
    "  print(n, \"is greater than 0\")\n",
    "else:\n",
    "  print(n, \"is less than 0\")"
   ]
  },
  {
   "cell_type": "code",
   "execution_count": 12,
   "metadata": {
    "colab": {
     "base_uri": "https://localhost:8080/"
    },
    "executionInfo": {
     "elapsed": 346,
     "status": "ok",
     "timestamp": 1624682751708,
     "user": {
      "displayName": "ZARANA GAJJAR",
      "photoUrl": "https://lh3.googleusercontent.com/a-/AOh14Gj9U-e9c_c2omtamZF3KKC2e_zku2C3ahbiQlGE=s64",
      "userId": "15850879148317959434"
     },
     "user_tz": -330
    },
    "id": "HO-h8OJDmwuz",
    "outputId": "7e37d257-7f28-431f-f929-fea589506e06"
   },
   "outputs": [
    {
     "name": "stdout",
     "output_type": "stream",
     "text": [
      "a is larger\n",
      "thank you for using python\n"
     ]
    }
   ],
   "source": [
    "a=5\n",
    "if a>0:\n",
    "  print(\"a is larger\")\n",
    "elif a == 0:\n",
    "  print(\"a is zero\")\n",
    "else:\n",
    "  print(\"a is smaller\")\n",
    "\n",
    "print(\"thank you for using python\")"
   ]
  },
  {
   "cell_type": "code",
   "execution_count": 15,
   "metadata": {
    "colab": {
     "base_uri": "https://localhost:8080/"
    },
    "executionInfo": {
     "elapsed": 4001,
     "status": "ok",
     "timestamp": 1624683007059,
     "user": {
      "displayName": "ZARANA GAJJAR",
      "photoUrl": "https://lh3.googleusercontent.com/a-/AOh14Gj9U-e9c_c2omtamZF3KKC2e_zku2C3ahbiQlGE=s64",
      "userId": "15850879148317959434"
     },
     "user_tz": -330
    },
    "id": "U55E_7D4oV34",
    "outputId": "517e1c26-9e46-4b3c-8d5d-865ccf9a0289"
   },
   "outputs": [
    {
     "name": "stdout",
     "output_type": "stream",
     "text": [
      "Enter any number0\n",
      "value is zero\n"
     ]
    }
   ],
   "source": [
    "a = int(input(\"Enter any number\"))\n",
    "if a >= 0:\n",
    "  if a==0:\n",
    "    print(\"value is zero\")\n",
    "  else:\n",
    "    print(\"It is a positive number\")\n",
    "else:\n",
    "  print(\"It is negative number\")"
   ]
  },
  {
   "cell_type": "code",
   "execution_count": 16,
   "metadata": {
    "colab": {
     "base_uri": "https://localhost:8080/"
    },
    "executionInfo": {
     "elapsed": 331,
     "status": "ok",
     "timestamp": 1624683150288,
     "user": {
      "displayName": "ZARANA GAJJAR",
      "photoUrl": "https://lh3.googleusercontent.com/a-/AOh14Gj9U-e9c_c2omtamZF3KKC2e_zku2C3ahbiQlGE=s64",
      "userId": "15850879148317959434"
     },
     "user_tz": -330
    },
    "id": "7ivJZT-RpjW7",
    "outputId": "0feee849-fcee-4d26-df86-82875e7c97c0"
   },
   "outputs": [
    {
     "data": {
      "text/plain": [
       "8"
      ]
     },
     "execution_count": 16,
     "metadata": {
      "tags": []
     },
     "output_type": "execute_result"
    }
   ],
   "source": [
    "5+3\n"
   ]
  },
  {
   "cell_type": "code",
   "execution_count": 17,
   "metadata": {
    "colab": {
     "base_uri": "https://localhost:8080/"
    },
    "executionInfo": {
     "elapsed": 338,
     "status": "ok",
     "timestamp": 1624683183322,
     "user": {
      "displayName": "ZARANA GAJJAR",
      "photoUrl": "https://lh3.googleusercontent.com/a-/AOh14Gj9U-e9c_c2omtamZF3KKC2e_zku2C3ahbiQlGE=s64",
      "userId": "15850879148317959434"
     },
     "user_tz": -330
    },
    "id": "pk8Mz7jIqXgb",
    "outputId": "3df9de3b-2cdb-41c8-dd9d-e0f83faa46a8"
   },
   "outputs": [
    {
     "data": {
      "text/plain": [
       "1.6666666666666667"
      ]
     },
     "execution_count": 17,
     "metadata": {
      "tags": []
     },
     "output_type": "execute_result"
    }
   ],
   "source": [
    "5/3"
   ]
  },
  {
   "cell_type": "code",
   "execution_count": 18,
   "metadata": {
    "colab": {
     "base_uri": "https://localhost:8080/"
    },
    "executionInfo": {
     "elapsed": 326,
     "status": "ok",
     "timestamp": 1624683191322,
     "user": {
      "displayName": "ZARANA GAJJAR",
      "photoUrl": "https://lh3.googleusercontent.com/a-/AOh14Gj9U-e9c_c2omtamZF3KKC2e_zku2C3ahbiQlGE=s64",
      "userId": "15850879148317959434"
     },
     "user_tz": -330
    },
    "id": "Y-XfRAeFqfkw",
    "outputId": "63bd8718-ffde-4674-8ebb-424b511773c1"
   },
   "outputs": [
    {
     "data": {
      "text/plain": [
       "1"
      ]
     },
     "execution_count": 18,
     "metadata": {
      "tags": []
     },
     "output_type": "execute_result"
    }
   ],
   "source": [
    "5//3"
   ]
  },
  {
   "cell_type": "code",
   "execution_count": 19,
   "metadata": {
    "colab": {
     "base_uri": "https://localhost:8080/"
    },
    "executionInfo": {
     "elapsed": 359,
     "status": "ok",
     "timestamp": 1624683205922,
     "user": {
      "displayName": "ZARANA GAJJAR",
      "photoUrl": "https://lh3.googleusercontent.com/a-/AOh14Gj9U-e9c_c2omtamZF3KKC2e_zku2C3ahbiQlGE=s64",
      "userId": "15850879148317959434"
     },
     "user_tz": -330
    },
    "id": "spSueKDFqhht",
    "outputId": "d76b1357-59e8-4cdc-ce53-59bb9ff37fde"
   },
   "outputs": [
    {
     "data": {
      "text/plain": [
       "2"
      ]
     },
     "execution_count": 19,
     "metadata": {
      "tags": []
     },
     "output_type": "execute_result"
    }
   ],
   "source": [
    "5%3"
   ]
  },
  {
   "cell_type": "code",
   "execution_count": 20,
   "metadata": {
    "colab": {
     "base_uri": "https://localhost:8080/"
    },
    "executionInfo": {
     "elapsed": 342,
     "status": "ok",
     "timestamp": 1624683231246,
     "user": {
      "displayName": "ZARANA GAJJAR",
      "photoUrl": "https://lh3.googleusercontent.com/a-/AOh14Gj9U-e9c_c2omtamZF3KKC2e_zku2C3ahbiQlGE=s64",
      "userId": "15850879148317959434"
     },
     "user_tz": -330
    },
    "id": "cvhBSDQ1qlEU",
    "outputId": "bdf40822-b6a8-4fa8-db0a-dad4d7ac23df"
   },
   "outputs": [
    {
     "data": {
      "text/plain": [
       "125"
      ]
     },
     "execution_count": 20,
     "metadata": {
      "tags": []
     },
     "output_type": "execute_result"
    }
   ],
   "source": [
    "5**3"
   ]
  },
  {
   "cell_type": "code",
   "execution_count": 23,
   "metadata": {
    "colab": {
     "base_uri": "https://localhost:8080/"
    },
    "executionInfo": {
     "elapsed": 343,
     "status": "ok",
     "timestamp": 1624683320469,
     "user": {
      "displayName": "ZARANA GAJJAR",
      "photoUrl": "https://lh3.googleusercontent.com/a-/AOh14Gj9U-e9c_c2omtamZF3KKC2e_zku2C3ahbiQlGE=s64",
      "userId": "15850879148317959434"
     },
     "user_tz": -330
    },
    "id": "C06p97RGqrRd",
    "outputId": "7eb9ce6f-90ba-40f5-e745-a7b775efc2dd"
   },
   "outputs": [
    {
     "data": {
      "text/plain": [
       "1"
      ]
     },
     "execution_count": 23,
     "metadata": {
      "tags": []
     },
     "output_type": "execute_result"
    }
   ],
   "source": [
    "x=1\n",
    "y=0\n",
    "x and y"
   ]
  },
  {
   "cell_type": "code",
   "execution_count": 25,
   "metadata": {
    "colab": {
     "base_uri": "https://localhost:8080/"
    },
    "executionInfo": {
     "elapsed": 330,
     "status": "ok",
     "timestamp": 1624683469327,
     "user": {
      "displayName": "ZARANA GAJJAR",
      "photoUrl": "https://lh3.googleusercontent.com/a-/AOh14Gj9U-e9c_c2omtamZF3KKC2e_zku2C3ahbiQlGE=s64",
      "userId": "15850879148317959434"
     },
     "user_tz": -330
    },
    "id": "6PaYoJg5q7bQ",
    "outputId": "0d482480-c9f2-4e7a-e57f-a882f38889af"
   },
   "outputs": [
    {
     "data": {
      "text/plain": [
       "4"
      ]
     },
     "execution_count": 25,
     "metadata": {
      "tags": []
     },
     "output_type": "execute_result"
    }
   ],
   "source": [
    "x=7\n",
    "y=4\n",
    "x & y"
   ]
  },
  {
   "cell_type": "code",
   "execution_count": 26,
   "metadata": {
    "colab": {
     "base_uri": "https://localhost:8080/"
    },
    "executionInfo": {
     "elapsed": 348,
     "status": "ok",
     "timestamp": 1624683523008,
     "user": {
      "displayName": "ZARANA GAJJAR",
      "photoUrl": "https://lh3.googleusercontent.com/a-/AOh14Gj9U-e9c_c2omtamZF3KKC2e_zku2C3ahbiQlGE=s64",
      "userId": "15850879148317959434"
     },
     "user_tz": -330
    },
    "id": "XcZ99J9drb_N",
    "outputId": "f1c1c605-2217-4508-f256-256809f28efa"
   },
   "outputs": [
    {
     "data": {
      "text/plain": [
       "-11"
      ]
     },
     "execution_count": 26,
     "metadata": {
      "tags": []
     },
     "output_type": "execute_result"
    }
   ],
   "source": [
    "x=10\n",
    "~x"
   ]
  },
  {
   "cell_type": "code",
   "execution_count": 27,
   "metadata": {
    "colab": {
     "base_uri": "https://localhost:8080/"
    },
    "executionInfo": {
     "elapsed": 350,
     "status": "ok",
     "timestamp": 1624683639368,
     "user": {
      "displayName": "ZARANA GAJJAR",
      "photoUrl": "https://lh3.googleusercontent.com/a-/AOh14Gj9U-e9c_c2omtamZF3KKC2e_zku2C3ahbiQlGE=s64",
      "userId": "15850879148317959434"
     },
     "user_tz": -330
    },
    "id": "VOvFfMiarygc",
    "outputId": "8598cd77-bcb1-41dd-89bb-b08a745a6035"
   },
   "outputs": [
    {
     "data": {
      "text/plain": [
       "2"
      ]
     },
     "execution_count": 27,
     "metadata": {
      "tags": []
     },
     "output_type": "execute_result"
    }
   ],
   "source": [
    "x=10\n",
    "x>>2"
   ]
  },
  {
   "cell_type": "code",
   "execution_count": 28,
   "metadata": {
    "colab": {
     "base_uri": "https://localhost:8080/"
    },
    "executionInfo": {
     "elapsed": 337,
     "status": "ok",
     "timestamp": 1624683650464,
     "user": {
      "displayName": "ZARANA GAJJAR",
      "photoUrl": "https://lh3.googleusercontent.com/a-/AOh14Gj9U-e9c_c2omtamZF3KKC2e_zku2C3ahbiQlGE=s64",
      "userId": "15850879148317959434"
     },
     "user_tz": -330
    },
    "id": "Owa2KT15sO58",
    "outputId": "880531c9-606b-4f32-a5d5-2cf0dedbdeed"
   },
   "outputs": [
    {
     "data": {
      "text/plain": [
       "40"
      ]
     },
     "execution_count": 28,
     "metadata": {
      "tags": []
     },
     "output_type": "execute_result"
    }
   ],
   "source": [
    "x=10\n",
    "x<<2"
   ]
  },
  {
   "cell_type": "code",
   "execution_count": 32,
   "metadata": {
    "colab": {
     "base_uri": "https://localhost:8080/"
    },
    "executionInfo": {
     "elapsed": 339,
     "status": "ok",
     "timestamp": 1624683767080,
     "user": {
      "displayName": "ZARANA GAJJAR",
      "photoUrl": "https://lh3.googleusercontent.com/a-/AOh14Gj9U-e9c_c2omtamZF3KKC2e_zku2C3ahbiQlGE=s64",
      "userId": "15850879148317959434"
     },
     "user_tz": -330
    },
    "id": "g_VGZaEfsRoC",
    "outputId": "8965e7b2-4602-4b69-a5a1-ea0af766f0f4"
   },
   "outputs": [
    {
     "name": "stdout",
     "output_type": "stream",
     "text": [
      "False\n"
     ]
    }
   ],
   "source": [
    "x=10\n",
    "y=10\n",
    "print(x is not y)"
   ]
  },
  {
   "cell_type": "code",
   "execution_count": 34,
   "metadata": {
    "colab": {
     "base_uri": "https://localhost:8080/"
    },
    "executionInfo": {
     "elapsed": 4,
     "status": "ok",
     "timestamp": 1624683839313,
     "user": {
      "displayName": "ZARANA GAJJAR",
      "photoUrl": "https://lh3.googleusercontent.com/a-/AOh14Gj9U-e9c_c2omtamZF3KKC2e_zku2C3ahbiQlGE=s64",
      "userId": "15850879148317959434"
     },
     "user_tz": -330
    },
    "id": "6N_HXpZ5smq8",
    "outputId": "a4c779be-984b-4aa0-c966-edd39f94f112"
   },
   "outputs": [
    {
     "name": "stdout",
     "output_type": "stream",
     "text": [
      "False\n"
     ]
    }
   ],
   "source": [
    "x = \"hello0\"\n",
    "print('t' in x)"
   ]
  },
  {
   "cell_type": "code",
   "execution_count": null,
   "metadata": {
    "id": "XOFuK-0gs98A"
   },
   "outputs": [],
   "source": [
    "#gdsfhjkd"
   ]
  },
  {
   "cell_type": "markdown",
   "metadata": {
    "id": "H3z8shfBtLEX"
   },
   "source": [
    "#gshskd\n"
   ]
  },
  {
   "cell_type": "code",
   "execution_count": null,
   "metadata": {
    "id": "_zMoiEUutMYi"
   },
   "outputs": [],
   "source": []
  }
 ],
 "metadata": {
  "colab": {
   "authorship_tag": "ABX9TyMcTwqWdXDIRlada33CEC3j",
   "collapsed_sections": [],
   "name": "Python Basics.ipynb",
   "provenance": []
  },
  "kernelspec": {
   "display_name": "Python 3",
   "language": "python",
   "name": "python3"
  },
  "language_info": {
   "codemirror_mode": {
    "name": "ipython",
    "version": 3
   },
   "file_extension": ".py",
   "mimetype": "text/x-python",
   "name": "python",
   "nbconvert_exporter": "python",
   "pygments_lexer": "ipython3",
   "version": "3.8.8"
  }
 },
 "nbformat": 4,
 "nbformat_minor": 1
}
