{
 "cells": [
  {
   "cell_type": "code",
   "execution_count": 6,
   "metadata": {},
   "outputs": [
    {
     "name": "stdout",
     "output_type": "stream",
     "text": [
      "hello\n",
      "Good Morning\n"
     ]
    }
   ],
   "source": [
    "def greet():\n",
    "    print(\"hello\")\n",
    "    print(\"Good Morning\")\n",
    "    \n",
    "greet() #calling function"
   ]
  },
  {
   "cell_type": "code",
   "execution_count": 11,
   "metadata": {},
   "outputs": [
    {
     "name": "stdout",
     "output_type": "stream",
     "text": [
      "Addition is 9\n"
     ]
    }
   ],
   "source": [
    "def add(x,y):\n",
    "    z=x+y\n",
    "    return z\n",
    "\n",
    "ans = add(5,4)\n",
    "print(\"Addition is\", ans)"
   ]
  },
  {
   "cell_type": "code",
   "execution_count": 13,
   "metadata": {},
   "outputs": [
    {
     "name": "stdout",
     "output_type": "stream",
     "text": [
      "Addition is 9\n",
      "Subtraction is 1\n"
     ]
    }
   ],
   "source": [
    "def add_sub(x,y):\n",
    "    z=x+y\n",
    "    w=x-y\n",
    "    return z,w\n",
    "\n",
    "ans,ans1 = add_sub(5,4)\n",
    "print(\"Addition is\", ans)\n",
    "print(\"Subtraction is\", ans1)\n"
   ]
  },
  {
   "cell_type": "code",
   "execution_count": 17,
   "metadata": {},
   "outputs": [
    {
     "name": "stdout",
     "output_type": "stream",
     "text": [
      "Local value inside function : 10\n",
      "Global value outside function 100\n",
      "Local value inside function : 10\n"
     ]
    }
   ],
   "source": [
    "#scope of variable\n",
    "a = 100\n",
    "def scope():\n",
    "    a = 10\n",
    "    print(\"Local value inside function :\",a)\n",
    "scope()\n",
    "print(\"Global value outside function\",a)\n",
    "scope()"
   ]
  },
  {
   "cell_type": "code",
   "execution_count": 23,
   "metadata": {},
   "outputs": [
    {
     "name": "stdout",
     "output_type": "stream",
     "text": [
      "Enter any value5\n",
      "The factorial of 5 is 120\n"
     ]
    }
   ],
   "source": [
    "#factorial using recursion\n",
    "\n",
    "def fact(a):\n",
    "    if a ==1:\n",
    "        return 1\n",
    "    else:\n",
    "        return(a*fact(a-1)) #5*4*3**2*1\n",
    "    \n",
    "num = int(input(\"Enter any value\"))\n",
    "b=fact(num)\n",
    "print(\"The factorial of\", num, \"is\",b )"
   ]
  },
  {
   "cell_type": "code",
   "execution_count": 24,
   "metadata": {},
   "outputs": [
    {
     "name": "stdout",
     "output_type": "stream",
     "text": [
      "Enter first number: 5\n",
      "Enter second number: 2\n",
      "5 + 2 = 7\n",
      "5 - 2 = 3\n",
      "5 * 2 = 10\n",
      "5 / 2 = 2.5\n"
     ]
    }
   ],
   "source": [
    "num1 = int(input(\"Enter first number: \"))\n",
    "num2 = int(input(\"Enter second number: \"))\n",
    "print(num1,\"+\",num2,\"=\", (num1 + num2))\n",
    "print(num1,\"-\",num2,\"=\", (num1 - num2))\n",
    "print(num1,\"*\",num2,\"=\", (num1 * num2))\n",
    "print(num1,\"/\",num2,\"=\", (num1 / num2))"
   ]
  },
  {
   "cell_type": "code",
   "execution_count": 26,
   "metadata": {},
   "outputs": [
    {
     "name": "stdout",
     "output_type": "stream",
     "text": [
      "Enter any value6\n",
      "The factorial of 6 is 720\n"
     ]
    }
   ],
   "source": [
    "num=int(input(\"Enter any value\"))\n",
    "factorial=1\n",
    "if num< 0:\n",
    "    print(\"Sorry, factorial does not exist for negative numbers\")\n",
    "elif num == 0:\n",
    "    print(\"The factorial of 0 is 1\")\n",
    "else:\n",
    "    for i in range(1,num+1):       \n",
    "        factorial = factorial*i\n",
    "   \n",
    "    print(\"The factorial of\",num,\"is\",factorial) "
   ]
  },
  {
   "cell_type": "code",
   "execution_count": null,
   "metadata": {},
   "outputs": [],
   "source": []
  }
 ],
 "metadata": {
  "kernelspec": {
   "display_name": "Python 3",
   "language": "python",
   "name": "python3"
  },
  "language_info": {
   "codemirror_mode": {
    "name": "ipython",
    "version": 3
   },
   "file_extension": ".py",
   "mimetype": "text/x-python",
   "name": "python",
   "nbconvert_exporter": "python",
   "pygments_lexer": "ipython3",
   "version": "3.8.8"
  }
 },
 "nbformat": 4,
 "nbformat_minor": 4
}
