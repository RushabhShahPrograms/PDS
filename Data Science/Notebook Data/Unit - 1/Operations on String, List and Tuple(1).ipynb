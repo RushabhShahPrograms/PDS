{
 "cells": [
  {
   "cell_type": "markdown",
   "metadata": {},
   "source": [
    "### Operations on String, List and Tuple"
   ]
  },
  {
   "cell_type": "markdown",
   "metadata": {},
   "source": [
    "1. <b>Python Strings:</b> The string can be defined as the sequence of characters. \n",
    "    String handling in Python is a straightforward task since Python provides built-in functions and operators to perform       operations in the string.\n",
    "    \n",
    "    In the case of string handling, the operator + is used to concatenate two strings as the operation \"hello\"+\" python\" returns \"hello python\".\n",
    "    \n",
    "    The operator * is known as a repetition operator as the operation \"Python\" *2 returns 'Python Python'."
   ]
  },
  {
   "cell_type": "code",
   "execution_count": null,
   "metadata": {},
   "outputs": [],
   "source": [
    "d='String in double or single quotes'\n",
    "d"
   ]
  },
  {
   "cell_type": "code",
   "execution_count": null,
   "metadata": {},
   "outputs": [],
   "source": [
    "s=\"\"\"A multiple lines\n",
    "    string using triple\n",
    "    quotes.\"\"\"\n",
    "print(s)"
   ]
  },
  {
   "cell_type": "code",
   "execution_count": null,
   "metadata": {},
   "outputs": [],
   "source": [
    "a=5\n",
    "a\n",
    "b=6\n",
    "b"
   ]
  },
  {
   "cell_type": "code",
   "execution_count": null,
   "metadata": {},
   "outputs": [],
   "source": [
    "str1 = 'string str1'    \n",
    "str2 = 'how you doing?' #string str2 \n",
    "\n",
    "#printing first two character using slice operator  \n",
    "print(str1[0:2])\n",
    "#Get the characters from position 1 to position 4 in str1 (called slicing of string)\n",
    "print(str1[1:5])\n",
    "\n",
    "#printing 5th character of the string \n",
    "print(str1[5])\n",
    "\n",
    "#printing the string twice  \n",
    "print(str1*2)\n",
    "\n",
    "#printing the concatenation of str1 and str2 \n",
    "str1+str2"
   ]
  },
  {
   "cell_type": "code",
   "execution_count": null,
   "metadata": {},
   "outputs": [],
   "source": [
    "# Negative Indexing\n",
    "str2[-1]"
   ]
  },
  {
   "cell_type": "code",
   "execution_count": null,
   "metadata": {},
   "outputs": [],
   "source": [
    "#The len() function returns the length of a string:\n",
    "print(len(str2))"
   ]
  },
  {
   "cell_type": "code",
   "execution_count": null,
   "metadata": {},
   "outputs": [],
   "source": [
    "#The strip() method removes any whitespace from the beginning or the end:\n",
    "c= \"      Hi     Everyone    \"\n",
    "print(c.strip())"
   ]
  },
  {
   "cell_type": "code",
   "execution_count": null,
   "metadata": {},
   "outputs": [],
   "source": [
    "c.lower()         #The lower() method returns the string in lower case\n",
    "c.upper()         #The upper() method returns the string in upper case\n",
    "        "
   ]
  },
  {
   "cell_type": "code",
   "execution_count": null,
   "metadata": {},
   "outputs": [],
   "source": [
    "c.replace(\"H\",\"J\")  \n",
    "c.split(\"E\")    #replace and split"
   ]
  },
  {
   "cell_type": "markdown",
   "metadata": {},
   "source": [
    "Check String:\n",
    "To check if a certain phrase or character is present in a string, we can use the keywords <b>in</b> or <b>not in</b>."
   ]
  },
  {
   "cell_type": "code",
   "execution_count": null,
   "metadata": {},
   "outputs": [],
   "source": [
    "txt = \"The rain in Spain stays mainly in the plain\"\n",
    "x = \"abc\" in txt\n",
    "print(x)"
   ]
  },
  {
   "cell_type": "markdown",
   "metadata": {},
   "source": [
    "The format() method takes unlimited number of arguments, and are placed into the respective placeholders:"
   ]
  },
  {
   "cell_type": "code",
   "execution_count": null,
   "metadata": {},
   "outputs": [],
   "source": [
    "quantity = 3\n",
    "itemno = 567\n",
    "price = 49.95\n",
    "myorder = \"I want {} pieces of item {} for {} dollars.\"\n",
    "print(myorder.format(quantity, itemno, price))"
   ]
  },
  {
   "cell_type": "code",
   "execution_count": null,
   "metadata": {},
   "outputs": [],
   "source": [
    "quantity = 3\n",
    "itemno = 567\n",
    "price = 49.95\n",
    "myorder = \"I want to pay {2} dollars for {0} pieces of item {1}.\"\n",
    "print(myorder.format(quantity, itemno, price))"
   ]
  },
  {
   "cell_type": "markdown",
   "metadata": {},
   "source": [
    "2. <b>List</b> : Python Lists are similar to arrays in C. However, the list can contain data of different types. The items stored in the list are separated with a comma (,) and enclosed within square brackets [].\n",
    "\n",
    "   We can use slice [:] operators to access the data of the list. The concatenation operator (+) and repetition operator (*) works with the list in the same way as they were working with the strings."
   ]
  },
  {
   "cell_type": "code",
   "execution_count": null,
   "metadata": {},
   "outputs": [],
   "source": [
    "list2 = [\"apple\", \"banana\", \"cherry\", \"orange\", \"kiwi\", \"melon\", \"mango\"]"
   ]
  },
  {
   "cell_type": "code",
   "execution_count": null,
   "metadata": {},
   "outputs": [],
   "source": [
    "list2[2:5]"
   ]
  },
  {
   "cell_type": "code",
   "execution_count": null,
   "metadata": {},
   "outputs": [],
   "source": [
    "list2[2:]"
   ]
  },
  {
   "cell_type": "code",
   "execution_count": null,
   "metadata": {},
   "outputs": [],
   "source": [
    "list2[:4]"
   ]
  },
  {
   "cell_type": "code",
   "execution_count": null,
   "metadata": {},
   "outputs": [],
   "source": [
    "#This example returns the items from index -4 (included) to index -1 (excluded)\n",
    "#Remember that the last item has the index -1\n",
    "\n",
    "print(list2[-4:-1])"
   ]
  },
  {
   "cell_type": "code",
   "execution_count": null,
   "metadata": {},
   "outputs": [],
   "source": [
    "#change a particular value in list\n",
    "list2[3]=\"tomatoes\"\n",
    "list2"
   ]
  },
  {
   "cell_type": "code",
   "execution_count": null,
   "metadata": {},
   "outputs": [],
   "source": [
    "# List Concatenation using + operator  \n",
    "list1=[1,2,3]\n",
    "print (list1 + list2) "
   ]
  },
  {
   "cell_type": "code",
   "execution_count": null,
   "metadata": {},
   "outputs": [],
   "source": [
    "# List repetation using * operator  \n",
    "print (list1 * 3) "
   ]
  },
  {
   "cell_type": "markdown",
   "metadata": {},
   "source": [
    "3. <b>Tuple</b>: \n",
    "A tuple is similar to the list in many ways. Like lists, tuples also contain the collection of the items of different data types. The items of the tuple are separated with a comma (,) and enclosed in parentheses ().\n",
    "\n",
    "  A tuple is a read-only data structure as we can't modify the size and value of the items of a tuple."
   ]
  },
  {
   "cell_type": "code",
   "execution_count": null,
   "metadata": {},
   "outputs": [],
   "source": [
    "tup  = (\"hi\", \"Python\", 2)    \n",
    "  \n",
    "# Tuple slicing  \n",
    "print (tup[1:])    \n",
    "print (tup[0:1])    \n",
    "  \n",
    "# Tuple concatenation using + operator  \n",
    "print (tup + tup)    \n",
    "  \n",
    "# Tuple repatation using * operator  \n",
    "print (tup * 3)     \n",
    "  \n",
    "# Adding value to tup. It will throw an error.  \n",
    "#tup[2] = \"hi\" "
   ]
  },
  {
   "cell_type": "code",
   "execution_count": null,
   "metadata": {},
   "outputs": [],
   "source": []
  }
 ],
 "metadata": {
  "kernelspec": {
   "display_name": "Python 3",
   "language": "python",
   "name": "python3"
  },
  "language_info": {
   "codemirror_mode": {
    "name": "ipython",
    "version": 3
   },
   "file_extension": ".py",
   "mimetype": "text/x-python",
   "name": "python",
   "nbconvert_exporter": "python",
   "pygments_lexer": "ipython3",
   "version": "3.8.8"
  }
 },
 "nbformat": 4,
 "nbformat_minor": 4
}
