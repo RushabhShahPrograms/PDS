{
 "cells": [
  {
   "cell_type": "markdown",
   "id": "47dafcbb",
   "metadata": {},
   "source": [
    "# CHAPTER NO - 1 : Overview of Python and Data Structures"
   ]
  },
  {
   "cell_type": "code",
   "execution_count": 3,
   "id": "c19473e2",
   "metadata": {},
   "outputs": [
    {
     "name": "stdout",
     "output_type": "stream",
     "text": [
      "120\n"
     ]
    }
   ],
   "source": [
    "#1\n",
    "n=5\n",
    "m=1\n",
    "if n<0:\n",
    "    print(\"Factorial is not possible\")\n",
    "\n",
    "elif n==0:\n",
    "    print(\"Factorial of 0 is zero\")\n",
    "    \n",
    "else:\n",
    "    for i in range(1,n+1):\n",
    "        m=m*i\n",
    "print(m)"
   ]
  },
  {
   "cell_type": "code",
   "execution_count": 4,
   "id": "986725d5",
   "metadata": {},
   "outputs": [
    {
     "name": "stdout",
     "output_type": "stream",
     "text": [
      "Enter a number: 5\n",
      "The factorial of 5 is 120\n"
     ]
    }
   ],
   "source": [
    "#2\n",
    "\n",
    "def recur_factorial(n):  \n",
    "    if n == 1:\n",
    "        return n  \n",
    "    else:\n",
    "        return n*recur_factorial(n-1)  \n",
    "# take input from the user  \n",
    "num = int(input(\"Enter a number: \"))  \n",
    "# check is the number is negative  \n",
    "if num < 0:\n",
    "    print(\"Sorry, factorial does not exist for negative numbers\")  \n",
    "elif num == 0:\n",
    "    print(\"The factorial of 0 is 1\")  \n",
    "else:\n",
    "    print(\"The factorial of\",num,\"is\",recur_factorial(num))  "
   ]
  },
  {
   "cell_type": "code",
   "execution_count": 1,
   "id": "c0842ef5",
   "metadata": {},
   "outputs": [
    {
     "name": "stdout",
     "output_type": "stream",
     "text": [
      " University\n",
      "Uiest\n"
     ]
    }
   ],
   "source": [
    "#15\n",
    "myStr = \"GTU is the best University\"\n",
    "print(myStr[15 : : 1])\n",
    "print(myStr[-10 : -1 : 2])"
   ]
  },
  {
   "cell_type": "code",
   "execution_count": 2,
   "id": "9479f61a",
   "metadata": {},
   "outputs": [
    {
     "name": "stdout",
     "output_type": "stream",
     "text": [
      "(4,)\n",
      "(1, 2, 3, (4,), [7, 6])\n"
     ]
    }
   ],
   "source": [
    "#16\n",
    "t = (1, 2, 3, (4, ), [ 5, 6] )\n",
    "print(t[ 3 ])\n",
    "t[4][0] = 7\n",
    "print(t)"
   ]
  },
  {
   "cell_type": "code",
   "execution_count": 5,
   "id": "d31846ad",
   "metadata": {},
   "outputs": [
    {
     "name": "stdout",
     "output_type": "stream",
     "text": [
      "How many terms? 10\n",
      "Fibonacci sequence:\n",
      "0\n",
      "1\n",
      "1\n",
      "2\n",
      "3\n",
      "5\n",
      "8\n",
      "13\n",
      "21\n",
      "34\n"
     ]
    }
   ],
   "source": [
    "#18\n",
    "nterms = int(input(\"How many terms? \"))\n",
    "\n",
    "# first two terms\n",
    "n1, n2 = 0, 1\n",
    "count = 0\n",
    "\n",
    "# check if the number of terms is valid\n",
    "if nterms <= 0:\n",
    "   print(\"Please enter a positive integer\")\n",
    "# if there is only one term, return n1\n",
    "elif nterms == 1:\n",
    "   print(\"Fibonacci sequence upto\",nterms,\":\")\n",
    "   print(n1)\n",
    "# generate fibonacci sequence\n",
    "else:\n",
    "   print(\"Fibonacci sequence:\")\n",
    "   while count < nterms:\n",
    "       print(n1)\n",
    "       nth = n1 + n2\n",
    "       # update values\n",
    "       n1 = n2\n",
    "       n2 = nth\n",
    "       count += 1"
   ]
  },
  {
   "cell_type": "code",
   "execution_count": 6,
   "id": "c6173777",
   "metadata": {},
   "outputs": [
    {
     "name": "stdout",
     "output_type": "stream",
     "text": [
      "Enter a number to reverse: 531\n",
      "Reverse is:  135\n"
     ]
    }
   ],
   "source": [
    "#21 reverse number\n",
    "r=0\n",
    "n=(int(input(\"Enter a number to reverse: \")))\n",
    "while n!=0:\n",
    "    t=n%10\n",
    "    r=(r*10)+t\n",
    "    n=n//10\n",
    "print(\"Reverse is: \",r)"
   ]
  },
  {
   "cell_type": "code",
   "execution_count": 4,
   "id": "6e7fe704",
   "metadata": {},
   "outputs": [],
   "source": [
    "#22\n",
    "\n",
    "def sum13(nums):\n",
    "\n",
    "    total = 0\n",
    "    i = 0\n",
    "\n",
    "    while i < len(nums):\n",
    "        if nums[i] == 13:\n",
    "            i += 2\n",
    "            continue\n",
    "        total += nums[i]\n",
    "        i += 1\n",
    "\n",
    "    return total"
   ]
  },
  {
   "cell_type": "code",
   "execution_count": 5,
   "id": "c91dc692",
   "metadata": {},
   "outputs": [
    {
     "name": "stdout",
     "output_type": "stream",
     "text": [
      "[2, 3, 1]\n"
     ]
    }
   ],
   "source": [
    "#22\n",
    "\n",
    "values = [1,2,3]\n",
    "def shift(list):\n",
    "    newlist=[]\n",
    "    \n",
    "    for i in list:\n",
    "        newlist.insert(len(newlist)-1,i)\n",
    "    return newlist\n",
    "print(shift(values))"
   ]
  },
  {
   "cell_type": "code",
   "execution_count": 9,
   "id": "bb1f1df7",
   "metadata": {},
   "outputs": [
    {
     "name": "stdout",
     "output_type": "stream",
     "text": [
      "[2, 3, 4, 5, 6, 7, 8, 9, 10, 1]\n"
     ]
    }
   ],
   "source": [
    "values3 = [1,2,3,4,5,6,7,8,9,10]\n",
    "print(shift(values3))"
   ]
  },
  {
   "cell_type": "code",
   "execution_count": 12,
   "id": "255088e0",
   "metadata": {},
   "outputs": [],
   "source": [
    "#24  dont know the answer and method of it.\n",
    "\n",
    "class GTU():\n",
    "    def __init__(self):\n",
    "        self.cnt = \"\"\n",
    "\n",
    "    def get_value(self,x,y):\n",
    "        self.x= input(\"Enter x \")\n",
    "        self.y=input(\"enter y\")\n",
    "\n",
    "    def print_value(self):\n",
    "        print(self.x)\n",
    "        print(self.y)"
   ]
  },
  {
   "cell_type": "code",
   "execution_count": 16,
   "id": "a5ebd263",
   "metadata": {},
   "outputs": [
    {
     "name": "stdout",
     "output_type": "stream",
     "text": [
      "Name         Date of Birth\n",
      "Hello         12/12/1999\n",
      "Hi            3/6/1996\n",
      "Bye Bye       10/8/2000\n",
      "Tony          14/5/2015\n",
      "Amay          20/11/1995\n",
      "\n"
     ]
    }
   ],
   "source": [
    "#25\n",
    "\n",
    "with open('gtustudents.txt') as f:\n",
    "    contents = f.read()\n",
    "    print(contents)"
   ]
  },
  {
   "cell_type": "code",
   "execution_count": 22,
   "id": "68747454",
   "metadata": {},
   "outputs": [
    {
     "name": "stdout",
     "output_type": "stream",
     "text": [
      "Yes\n"
     ]
    }
   ],
   "source": [
    "#26\n",
    "\n",
    "def isPalindrome(s):\n",
    "    return s == s[::-1]\n",
    " \n",
    " \n",
    "#Drivers code\n",
    "s = \"lol\"\n",
    "ans = isPalindrome(s)\n",
    " \n",
    "if ans:\n",
    "    print(\"Yes\")\n",
    "else:\n",
    "    print(\"No\")"
   ]
  },
  {
   "cell_type": "code",
   "execution_count": 23,
   "id": "ec18cdc6",
   "metadata": {},
   "outputs": [
    {
     "name": "stdout",
     "output_type": "stream",
     "text": [
      "CGPA =  8.2\n",
      "CGPA Percentage =  77.90\n"
     ]
    }
   ],
   "source": [
    "#27\n",
    "\n",
    "# Python3 program to calculate the CGPA\n",
    "# and CGPA percentage of a student\n",
    "def CgpaCalc(marks, n):\n",
    " \n",
    "    # Variable to store the grades in\n",
    "    # every subject\n",
    "    grade = [0] * n\n",
    "   \n",
    "    # Variables to store CGPA and the\n",
    "    # sum of all the grades\n",
    "    Sum = 0\n",
    "   \n",
    "    # Computing the grades\n",
    "    for i in range(n):\n",
    "       grade[i] = (marks[i] / 10)\n",
    "   \n",
    "    # Computing the sum of grades\n",
    "    for i in range(n):\n",
    "       Sum += grade[i]\n",
    "   \n",
    "    # Computing the CGPA\n",
    "    cgpa = Sum / n\n",
    "   \n",
    "    return cgpa\n",
    "   \n",
    "# Driver code\n",
    "n = 5\n",
    "marks = [ 90, 80, 70, 80, 90 ]\n",
    " \n",
    "cgpa = CgpaCalc(marks, n)\n",
    "       \n",
    "print(\"CGPA = \", '%.1f' % cgpa)\n",
    "print(\"CGPA Percentage = \", '%.2f' % (cgpa * 9.5))"
   ]
  },
  {
   "cell_type": "code",
   "execution_count": 1,
   "id": "66f2479f",
   "metadata": {},
   "outputs": [
    {
     "name": "stdout",
     "output_type": "stream",
     "text": [
      "Imported Pandas\n"
     ]
    }
   ],
   "source": [
    "import pandas as pd\n",
    "print(\"Imported Pandas\")"
   ]
  },
  {
   "cell_type": "code",
   "execution_count": 2,
   "id": "c11d0875",
   "metadata": {},
   "outputs": [
    {
     "data": {
      "text/html": [
       "<div>\n",
       "<style scoped>\n",
       "    .dataframe tbody tr th:only-of-type {\n",
       "        vertical-align: middle;\n",
       "    }\n",
       "\n",
       "    .dataframe tbody tr th {\n",
       "        vertical-align: top;\n",
       "    }\n",
       "\n",
       "    .dataframe thead th {\n",
       "        text-align: right;\n",
       "    }\n",
       "</style>\n",
       "<table border=\"1\" class=\"dataframe\">\n",
       "  <thead>\n",
       "    <tr style=\"text-align: right;\">\n",
       "      <th></th>\n",
       "      <th>Table A</th>\n",
       "      <th>Table B</th>\n",
       "      <th>Table C</th>\n",
       "    </tr>\n",
       "  </thead>\n",
       "  <tbody>\n",
       "    <tr>\n",
       "      <th>0</th>\n",
       "      <td>1</td>\n",
       "      <td>Loan 1</td>\n",
       "      <td>P1</td>\n",
       "    </tr>\n",
       "    <tr>\n",
       "      <th>1</th>\n",
       "      <td>2</td>\n",
       "      <td>Loan 2</td>\n",
       "      <td>P2</td>\n",
       "    </tr>\n",
       "    <tr>\n",
       "      <th>2</th>\n",
       "      <td>3</td>\n",
       "      <td>Loan 3</td>\n",
       "      <td>P3</td>\n",
       "    </tr>\n",
       "    <tr>\n",
       "      <th>3</th>\n",
       "      <td>4</td>\n",
       "      <td>Loan 4</td>\n",
       "      <td>P4</td>\n",
       "    </tr>\n",
       "    <tr>\n",
       "      <th>4</th>\n",
       "      <td>5</td>\n",
       "      <td>Loan 5</td>\n",
       "      <td>P5</td>\n",
       "    </tr>\n",
       "    <tr>\n",
       "      <th>5</th>\n",
       "      <td>6</td>\n",
       "      <td>Loan 6</td>\n",
       "      <td>P6</td>\n",
       "    </tr>\n",
       "    <tr>\n",
       "      <th>6</th>\n",
       "      <td>7</td>\n",
       "      <td>Loan 7</td>\n",
       "      <td>P7</td>\n",
       "    </tr>\n",
       "    <tr>\n",
       "      <th>7</th>\n",
       "      <td>8</td>\n",
       "      <td>Loan 8</td>\n",
       "      <td>P8</td>\n",
       "    </tr>\n",
       "    <tr>\n",
       "      <th>8</th>\n",
       "      <td>9</td>\n",
       "      <td>Loan 9</td>\n",
       "      <td>P9</td>\n",
       "    </tr>\n",
       "    <tr>\n",
       "      <th>9</th>\n",
       "      <td>10</td>\n",
       "      <td>Loan 10</td>\n",
       "      <td>P10</td>\n",
       "    </tr>\n",
       "  </tbody>\n",
       "</table>\n",
       "</div>"
      ],
      "text/plain": [
       "   Table A  Table B Table C\n",
       "0        1   Loan 1      P1\n",
       "1        2   Loan 2      P2\n",
       "2        3   Loan 3      P3\n",
       "3        4   Loan 4      P4\n",
       "4        5   Loan 5      P5\n",
       "5        6   Loan 6      P6\n",
       "6        7   Loan 7      P7\n",
       "7        8   Loan 8      P8\n",
       "8        9   Loan 9      P9\n",
       "9       10  Loan 10     P10"
      ]
     },
     "execution_count": 2,
     "metadata": {},
     "output_type": "execute_result"
    }
   ],
   "source": [
    "#reading csv file\n",
    "\n",
    "df = pd.read_csv(\"loan.csv\")\n",
    "df"
   ]
  },
  {
   "cell_type": "code",
   "execution_count": 3,
   "id": "df988cf5",
   "metadata": {},
   "outputs": [
    {
     "data": {
      "text/html": [
       "<div>\n",
       "<style scoped>\n",
       "    .dataframe tbody tr th:only-of-type {\n",
       "        vertical-align: middle;\n",
       "    }\n",
       "\n",
       "    .dataframe tbody tr th {\n",
       "        vertical-align: top;\n",
       "    }\n",
       "\n",
       "    .dataframe thead th {\n",
       "        text-align: right;\n",
       "    }\n",
       "</style>\n",
       "<table border=\"1\" class=\"dataframe\">\n",
       "  <thead>\n",
       "    <tr style=\"text-align: right;\">\n",
       "      <th></th>\n",
       "      <th>Drug Type</th>\n",
       "      <th>Amount</th>\n",
       "      <th>Production</th>\n",
       "    </tr>\n",
       "  </thead>\n",
       "  <tbody>\n",
       "    <tr>\n",
       "      <th>0</th>\n",
       "      <td>Type A</td>\n",
       "      <td>100.0</td>\n",
       "      <td>10gm</td>\n",
       "    </tr>\n",
       "    <tr>\n",
       "      <th>1</th>\n",
       "      <td>Type B</td>\n",
       "      <td>400.0</td>\n",
       "      <td>NaN</td>\n",
       "    </tr>\n",
       "    <tr>\n",
       "      <th>2</th>\n",
       "      <td>NaN</td>\n",
       "      <td>50.0</td>\n",
       "      <td>30gm</td>\n",
       "    </tr>\n",
       "    <tr>\n",
       "      <th>3</th>\n",
       "      <td>Type AB</td>\n",
       "      <td>700.0</td>\n",
       "      <td>19gm</td>\n",
       "    </tr>\n",
       "    <tr>\n",
       "      <th>4</th>\n",
       "      <td>Type Z</td>\n",
       "      <td>3000.0</td>\n",
       "      <td>8gm</td>\n",
       "    </tr>\n",
       "    <tr>\n",
       "      <th>5</th>\n",
       "      <td>Type X</td>\n",
       "      <td>20000.0</td>\n",
       "      <td>5gm</td>\n",
       "    </tr>\n",
       "    <tr>\n",
       "      <th>6</th>\n",
       "      <td>Type V</td>\n",
       "      <td>NaN</td>\n",
       "      <td>2gm</td>\n",
       "    </tr>\n",
       "  </tbody>\n",
       "</table>\n",
       "</div>"
      ],
      "text/plain": [
       "  Drug Type   Amount Production\n",
       "0    Type A    100.0       10gm\n",
       "1    Type B    400.0        NaN\n",
       "2       NaN     50.0       30gm\n",
       "3   Type AB    700.0       19gm\n",
       "4    Type Z   3000.0        8gm\n",
       "5    Type X  20000.0        5gm\n",
       "6    Type V      NaN        2gm"
      ]
     },
     "execution_count": 3,
     "metadata": {},
     "output_type": "execute_result"
    }
   ],
   "source": [
    "#reading excel file\n",
    "df1 = pd.read_excel(\"Drugs.xlsx\")\n",
    "df1"
   ]
  },
  {
   "cell_type": "code",
   "execution_count": 4,
   "id": "e1f5faa0",
   "metadata": {},
   "outputs": [
    {
     "name": "stdout",
     "output_type": "stream",
     "text": [
      "COLOR      VALUE\n",
      "RED         1\n",
      "BLUE        2\n",
      "GREEN       3\n",
      "BLACK       4\n",
      "ORANGE      5\n",
      "PURPLE      6\n",
      "GREY        7\n",
      "VIOLET      8\n",
      "WHITE       9\n",
      "YELLOW      10\n",
      "\n"
     ]
    }
   ],
   "source": [
    "#reading txt file\n",
    "with open('colors.txt') as f:\n",
    "    contents = f.read()\n",
    "    print(contents)"
   ]
  },
  {
   "cell_type": "code",
   "execution_count": 3,
   "id": "ec35e918",
   "metadata": {},
   "outputs": [
    {
     "name": "stdout",
     "output_type": "stream",
     "text": [
      "  Number  String Boolean\n",
      "0      1   First    True\n",
      "1      2  Second   False\n",
      "2      3   Third    True\n",
      "3      4  Fourth   False\n"
     ]
    }
   ],
   "source": [
    "from lxml import objectify\n",
    "import pandas as pd\n",
    "xml = objectify.parse(open('MyDataset.xml'))\n",
    "root = xml.getroot()\n",
    "df = pd.DataFrame(columns=('Number', 'String', 'Boolean'))\n",
    "for i in range(0,4):\n",
    "    obj = root.getchildren()[i].getchildren()\n",
    "    row = dict(zip(['Number', 'String', 'Boolean'],\n",
    "                   [obj[0].text, obj[1].text,\n",
    "                    obj[2].text]))\n",
    "    row_s = pd.Series(row)\n",
    "    row_s.name = i\n",
    "    df = df.append(row_s)\n",
    "print(df)"
   ]
  },
  {
   "cell_type": "code",
   "execution_count": null,
   "id": "5d0b3f3f",
   "metadata": {},
   "outputs": [],
   "source": []
  }
 ],
 "metadata": {
  "kernelspec": {
   "display_name": "Python 3",
   "language": "python",
   "name": "python3"
  },
  "language_info": {
   "codemirror_mode": {
    "name": "ipython",
    "version": 3
   },
   "file_extension": ".py",
   "mimetype": "text/x-python",
   "name": "python",
   "nbconvert_exporter": "python",
   "pygments_lexer": "ipython3",
   "version": "3.8.8"
  }
 },
 "nbformat": 4,
 "nbformat_minor": 5
}
