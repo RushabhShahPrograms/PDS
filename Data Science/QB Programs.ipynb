{
 "cells": [
  {
   "cell_type": "code",
   "execution_count": 1,
   "id": "25fb6709",
   "metadata": {},
   "outputs": [
    {
     "name": "stdout",
     "output_type": "stream",
     "text": [
      "Enter a number5\n",
      "Factorial of  5 :  120\n"
     ]
    }
   ],
   "source": [
    "#Write a python program that finds the factorial of a natural number n.\n",
    "\n",
    "n = int(input(\"Enter a number\"))\n",
    "a=1\n",
    "for i in range(1,n+1):\n",
    "    a=a*i\n",
    "print(\"Factorial of \",n,\": \",a)"
   ]
  },
  {
   "cell_type": "code",
   "execution_count": 2,
   "id": "be9cdd4c",
   "metadata": {},
   "outputs": [
    {
     "name": "stdout",
     "output_type": "stream",
     "text": [
      "The factorial of 5 is 120\n"
     ]
    }
   ],
   "source": [
    "#Write a python program to find the factorial of a given number using recursion.\n",
    "\n",
    "def recur_factorial(n):\n",
    "   if n == 1:\n",
    "       return n\n",
    "   else:\n",
    "       return n*recur_factorial(n-1)\n",
    "    \n",
    "num = 5\n",
    "if num < 0:\n",
    "   print(\"Sorry, factorial does not exist for negative numbers\")\n",
    "elif num == 0:\n",
    "   print(\"The factorial of 0 is 1\")\n",
    "else:\n",
    "   print(\"The factorial of\", num, \"is\", recur_factorial(num))"
   ]
  },
  {
   "cell_type": "code",
   "execution_count": 4,
   "id": "16eac599",
   "metadata": {},
   "outputs": [
    {
     "name": "stdout",
     "output_type": "stream",
     "text": [
      "readme.txt content in capital letters: \n",
      "HELLO EVERYBODY BEST OF LUCK TO YOU.\n"
     ]
    }
   ],
   "source": [
    "#Write a python program that reads a text file and changes the file by capitalizing each character of file\n",
    "\n",
    "with open(\"readme.txt\",'r') as open_file:\n",
    "    print('readme.txt content in capital letters: \\n' + open_file.read().upper())"
   ]
  },
  {
   "cell_type": "code",
   "execution_count": 6,
   "id": "2b92de69",
   "metadata": {},
   "outputs": [
    {
     "name": "stdout",
     "output_type": "stream",
     "text": [
      " University\n",
      "Uiest\n"
     ]
    }
   ],
   "source": [
    "#Give the output of following Python code:\n",
    "myStr = \"GTU is the best University\"\n",
    "print(myStr[15 : : 1])\n",
    "print(myStr[-10 : -1 : 2])"
   ]
  },
  {
   "cell_type": "code",
   "execution_count": 7,
   "id": "fa7e6e6f",
   "metadata": {},
   "outputs": [
    {
     "name": "stdout",
     "output_type": "stream",
     "text": [
      "(4,)\n",
      "(1, 2, 3, (4,), [7, 6])\n"
     ]
    }
   ],
   "source": [
    "#Give the output of following Python code:\n",
    "t = (1, 2, 3, (4, ), [ 5, 6] )\n",
    "print(t[ 3 ])\n",
    "t[4][0] = 7\n",
    "print(t)"
   ]
  },
  {
   "cell_type": "code",
   "execution_count": 8,
   "id": "22fcc38f",
   "metadata": {},
   "outputs": [
    {
     "name": "stdout",
     "output_type": "stream",
     "text": [
      "(4,)\n",
      "(1, 2, 3, (4,), [7, 6])\n"
     ]
    }
   ],
   "source": [
    "#Give the output of following Python code:\n",
    "t = (1, 2, 3, (4, ), [ 5, 6] )\n",
    "print(t[ 3 ])\n",
    "t[4][0] = 7\n",
    "print(t)"
   ]
  },
  {
   "cell_type": "code",
   "execution_count": 10,
   "id": "b9eefb4f",
   "metadata": {},
   "outputs": [
    {
     "name": "stdout",
     "output_type": "stream",
     "text": [
      "How many terms? 6\n",
      "Fibonacci sequence:\n",
      "0 1 1 2 3 5 "
     ]
    }
   ],
   "source": [
    "#Write a python program to implement Fibonacci sequence forgiven input.\n",
    "\n",
    "nterms = int(input(\"How many terms? \"))\n",
    "n1, n2 = 0, 1\n",
    "count = 0\n",
    "\n",
    "if nterms <= 0:\n",
    "   print(\"Please enter a positive integer\")\n",
    "elif nterms == 1:\n",
    "   print(\"Fibonacci sequence upto\",nterms,\":\")\n",
    "   print(n1)\n",
    "else:\n",
    "   print(\"Fibonacci sequence:\")\n",
    "   while count < nterms:\n",
    "       print(n1, end=\" \")\n",
    "       nth = n1 + n2\n",
    "       n1 = n2\n",
    "       n2 = nth\n",
    "       count += 1"
   ]
  },
  {
   "cell_type": "code",
   "execution_count": 11,
   "id": "ed7fc628",
   "metadata": {},
   "outputs": [
    {
     "name": "stdout",
     "output_type": "stream",
     "text": [
      "Enter the number to reverse the number: 1234567\n",
      "Reversed number is: 7654321\n"
     ]
    }
   ],
   "source": [
    "#Write a Python program to find reverse of given number using user defined function.\n",
    "\n",
    "num = int(input(\"Enter the number to reverse the number: \"))\n",
    "r = 0\n",
    "while(num!=0):\n",
    "    digit = num%10\n",
    "    r = r*10+digit\n",
    "    num //= 10\n",
    "print(\"Reversed number is:\",r)"
   ]
  },
  {
   "cell_type": "code",
   "execution_count": 25,
   "id": "5f18c7f5",
   "metadata": {},
   "outputs": [
    {
     "name": "stdout",
     "output_type": "stream",
     "text": [
      "51\n"
     ]
    }
   ],
   "source": [
    "'''Write a Python program which will return the sum of the numbers in the array,returning 0 for\n",
    "an empty array. Except the number 13 is very unlucky, so it does not count and number that\n",
    "come immediately after 13 also do not count.'''\n",
    "\n",
    "import array as arr\n",
    "a = arr.array('i',[1,2,3,4,5,8,12,13,15,16])\n",
    "sum,i=0,0\n",
    "while(i<len(a)):\n",
    "    if(a[i]==13):\n",
    "        i+=2\n",
    "    else:\n",
    "        sum += a[i]\n",
    "        i+=1\n",
    "print(sum)"
   ]
  },
  {
   "cell_type": "code",
   "execution_count": 40,
   "id": "053fa161",
   "metadata": {},
   "outputs": [
    {
     "name": "stdout",
     "output_type": "stream",
     "text": [
      "[2, 3, 4, 5, 6, 7, 8, 9, 1]\n"
     ]
    }
   ],
   "source": [
    "\"\"\"\n",
    "Write a Python program which takes a list and returns a list with the elements\" shifted left by\n",
    "one position\" so [1, 2, 3] yields [2, 3, 1].\n",
    "Example: [1, 2, 3] → [2, 3, 1]\n",
    "[11, 12, 13] → [12, 13, 11]\n",
    "\"\"\"\n",
    "\n",
    "l1 = [1,2,3,4,5,6,7,8,9]\n",
    "x=l1[0]\n",
    "l1.pop(0)\n",
    "l1.append(x)\n",
    "print(l1)"
   ]
  },
  {
   "cell_type": "code",
   "execution_count": 41,
   "id": "2e2cb834",
   "metadata": {},
   "outputs": [
    {
     "name": "stdout",
     "output_type": "stream",
     "text": [
      "Yes\n"
     ]
    }
   ],
   "source": [
    "\"\"\"Write a python program to implement isPalindrome() function tocheck given string is\n",
    "palindrome or no.\"\"\"\n",
    "\n",
    "def isPalindrome(s):\n",
    "    return s == s[::-1]\n",
    " \n",
    "s = \"malayalam\"\n",
    "ans = isPalindrome(s)\n",
    " \n",
    "if ans:\n",
    "    print(\"Yes\")\n",
    "else:\n",
    "    print(\"No\")"
   ]
  },
  {
   "cell_type": "code",
   "execution_count": 8,
   "id": "1b0dcdd7",
   "metadata": {},
   "outputs": [
    {
     "name": "stdout",
     "output_type": "stream",
     "text": [
      "Name is:  Rushabh\n",
      "Enrollment number is:  190320132063\n"
     ]
    }
   ],
   "source": [
    "\"\"\"Write a Python program to create class GTU with attributes like class variablecnt, instance\n",
    "variables x and y, instance methods get_value and print_value.\"\"\"\n",
    "\n",
    "class GTU:\n",
    "    def __init__(self):\n",
    "        cnt = \"\"\n",
    "    def get_value(self,x=None,y=None):\n",
    "        self.x = x\n",
    "        self.y = y\n",
    "    def print_value(self):\n",
    "        print(\"Name is: \",self.x)\n",
    "        print(\"Enrollment number is: \",self.y)\n",
    "s1 = GTU()\n",
    "s1.get_value(\"Rushabh\",190320132063)\n",
    "s1.print_value()"
   ]
  },
  {
   "cell_type": "code",
   "execution_count": 33,
   "id": "6bb6a5ee",
   "metadata": {},
   "outputs": [
    {
     "name": "stdout",
     "output_type": "stream",
     "text": [
      "2.45\n",
      "2.2025\n",
      "2.2525\n",
      "2.2175\n"
     ]
    }
   ],
   "source": [
    "\"\"\"\n",
    "Write a python program to implement Student class which hasmethod to calculate CGPA.\n",
    "Assume suitable class variables\n",
    "\"\"\"\n",
    "\n",
    "class Student:\n",
    "    def __init__(self,sgpa=None,cgpa=None,sem=None,sum=None):\n",
    "        self.sgpa=sgpa\n",
    "        self.cgpa=cgpa\n",
    "        self.sem=4\n",
    "        self.sum=0\n",
    "    def calculate(self):\n",
    "        self.sum=self.sum+self.sgpa\n",
    "        self.cgpa=(self.sum/self.sem)\n",
    "        print(self.cgpa)\n",
    "        \n",
    "list = []\n",
    "list.append(Student(9.8))\n",
    "list.append(Student(8.81))\n",
    "list.append(Student(9.01))\n",
    "list.append(Student(8.87))\n",
    "\n",
    "for obj in list:\n",
    "    obj.calculate()"
   ]
  },
  {
   "cell_type": "code",
   "execution_count": 12,
   "id": "c20b54b6",
   "metadata": {},
   "outputs": [
    {
     "name": "stdout",
     "output_type": "stream",
     "text": [
      "['01/03/2021', '23/10/2000', '01/05/2014', '27/08/2015', '30/12/2005']\n",
      "['Rushabh', 'xyz', 'qwe', 'rty', 'cvb']\n"
     ]
    }
   ],
   "source": [
    "import re\n",
    "a = open(\"students.txt\",'r')\n",
    "b = a.read()\n",
    "n = re.findall(r'(\\d+/\\d+/\\d+)',b)\n",
    "print(n)\n",
    "f=open(\"students.txt\",'r')\n",
    "lines=f.readlines()\n",
    "result=[]\n",
    "for x in lines:\n",
    "    result.append(x.split(' ')[0])\n",
    "print(result)"
   ]
  },
  {
   "cell_type": "code",
   "execution_count": 20,
   "id": "b323d611",
   "metadata": {},
   "outputs": [
    {
     "ename": "TypeError",
     "evalue": "can't multiply sequence by non-int of type 'list'",
     "output_type": "error",
     "traceback": [
      "\u001b[1;31m---------------------------------------------------------------------------\u001b[0m",
      "\u001b[1;31mTypeError\u001b[0m                                 Traceback (most recent call last)",
      "\u001b[1;32m<ipython-input-20-0d69c0392b83>\u001b[0m in \u001b[0;36m<module>\u001b[1;34m\u001b[0m\n\u001b[0;32m     22\u001b[0m \u001b[1;33m\u001b[0m\u001b[0m\n\u001b[0;32m     23\u001b[0m \u001b[0ms1\u001b[0m \u001b[1;33m=\u001b[0m \u001b[0mStudent\u001b[0m\u001b[1;33m(\u001b[0m\u001b[1;33m)\u001b[0m\u001b[1;33m\u001b[0m\u001b[1;33m\u001b[0m\u001b[0m\n\u001b[1;32m---> 24\u001b[1;33m \u001b[0ms1\u001b[0m\u001b[1;33m.\u001b[0m\u001b[0mcgpacalc\u001b[0m\u001b[1;33m(\u001b[0m\u001b[1;33m)\u001b[0m\u001b[1;33m\u001b[0m\u001b[1;33m\u001b[0m\u001b[0m\n\u001b[0m",
      "\u001b[1;32m<ipython-input-20-0d69c0392b83>\u001b[0m in \u001b[0;36mcgpacalc\u001b[1;34m(self)\u001b[0m\n\u001b[0;32m     12\u001b[0m         \u001b[0mself\u001b[0m\u001b[1;33m.\u001b[0m\u001b[0mgrade\u001b[0m\u001b[1;33m=\u001b[0m\u001b[1;36m0\u001b[0m\u001b[1;33m\u001b[0m\u001b[1;33m\u001b[0m\u001b[0m\n\u001b[0;32m     13\u001b[0m     \u001b[1;32mdef\u001b[0m \u001b[0mcgpacalc\u001b[0m\u001b[1;33m(\u001b[0m\u001b[0mself\u001b[0m\u001b[1;33m)\u001b[0m\u001b[1;33m:\u001b[0m\u001b[1;33m\u001b[0m\u001b[1;33m\u001b[0m\u001b[0m\n\u001b[1;32m---> 14\u001b[1;33m         \u001b[0mself\u001b[0m\u001b[1;33m.\u001b[0m\u001b[0mgrade\u001b[0m \u001b[1;33m=\u001b[0m \u001b[1;33m[\u001b[0m\u001b[1;36m0\u001b[0m\u001b[1;33m]\u001b[0m\u001b[1;33m*\u001b[0m\u001b[0mself\u001b[0m\u001b[1;33m.\u001b[0m\u001b[0mn\u001b[0m\u001b[1;33m\u001b[0m\u001b[1;33m\u001b[0m\u001b[0m\n\u001b[0m\u001b[0;32m     15\u001b[0m         \u001b[0mself\u001b[0m\u001b[1;33m.\u001b[0m\u001b[0msum\u001b[0m\u001b[1;33m=\u001b[0m\u001b[1;36m0\u001b[0m\u001b[1;33m\u001b[0m\u001b[1;33m\u001b[0m\u001b[0m\n\u001b[0;32m     16\u001b[0m         \u001b[1;32mfor\u001b[0m \u001b[0mi\u001b[0m \u001b[1;32min\u001b[0m \u001b[0mrange\u001b[0m\u001b[1;33m(\u001b[0m\u001b[0mself\u001b[0m\u001b[1;33m.\u001b[0m\u001b[0mn\u001b[0m\u001b[1;33m)\u001b[0m\u001b[1;33m:\u001b[0m\u001b[1;33m\u001b[0m\u001b[1;33m\u001b[0m\u001b[0m\n",
      "\u001b[1;31mTypeError\u001b[0m: can't multiply sequence by non-int of type 'list'"
     ]
    }
   ],
   "source": [
    "\"\"\"\n",
    "Write a python program to implement Student class which hasmethod to calculate CGPA.\n",
    "Assume suitable class variables\n",
    "\"\"\"\n",
    "\n",
    "class Student:\n",
    "    def __init__(self):\n",
    "        self.marks = 5\n",
    "        self.n = [90, 80, 70, 80, 90]\n",
    "        self.sum = 0\n",
    "        self.cgpa=0\n",
    "        self.grade=0\n",
    "    def cgpacalc(self):\n",
    "        self.grade = [0]*self.n\n",
    "        self.sum=0\n",
    "        for i in range(self.n):\n",
    "            self.grade[i]=(self.marks[i]/10)\n",
    "        for i in range(self.n):\n",
    "            self.sum += self.grade[i]\n",
    "        self.cgpa = self.sum/self.n\n",
    "        print(self.cgpa)\n",
    "\n",
    "s1 = Student()\n",
    "s1.cgpacalc()"
   ]
  },
  {
   "cell_type": "code",
   "execution_count": null,
   "id": "4ca5b787",
   "metadata": {},
   "outputs": [],
   "source": [
    "# Python3 program to calculate the CGPA\n",
    "# and CGPA percentage of a student\n",
    "def CgpaCalc(marks, n):\n",
    "\n",
    "\t# Variable to store the grades in\n",
    "\t# every subject\n",
    "\tgrade = [0] * n\n",
    "\n",
    "\t# Variables to store CGPA and the\n",
    "\t# sum of all the grades\n",
    "\tSum = 0\n",
    "\n",
    "\t# Computing the grades\n",
    "\tfor i in range(n):\n",
    "\tgrade[i] = (marks[i] / 10)\n",
    "\n",
    "\t# Computing the sum of grades\n",
    "\tfor i in range(n):\n",
    "\tSum += grade[i]\n",
    "\n",
    "\t# Computing the CGPA\n",
    "\tcgpa = Sum / n\n",
    "\n",
    "\treturn cgpa\n",
    "\n",
    "# Driver code\n",
    "n = 5\n",
    "marks = [ 90, 80, 70, 80, 90 ]\n",
    "\n",
    "cgpa = CgpaCalc(marks, n)\n",
    "\t\n",
    "print(\"CGPA = \", '%.1f' % cgpa)\n",
    "print(\"CGPA Percentage = \", '%.2f' % (cgpa * 9.5))\n",
    "\n",
    "# This code is contributed by divyeshrabadiya07\n"
   ]
  }
 ],
 "metadata": {
  "kernelspec": {
   "display_name": "Python 3",
   "language": "python",
   "name": "python3"
  },
  "language_info": {
   "codemirror_mode": {
    "name": "ipython",
    "version": 3
   },
   "file_extension": ".py",
   "mimetype": "text/x-python",
   "name": "python",
   "nbconvert_exporter": "python",
   "pygments_lexer": "ipython3",
   "version": "3.8.8"
  }
 },
 "nbformat": 4,
 "nbformat_minor": 5
}
