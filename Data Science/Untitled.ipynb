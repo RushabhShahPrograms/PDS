{
 "cells": [
  {
   "cell_type": "code",
   "execution_count": 1,
   "id": "5f452e6a",
   "metadata": {},
   "outputs": [
    {
     "name": "stdout",
     "output_type": "stream",
     "text": [
      "10\n",
      "11\n",
      "12\n",
      "13\n",
      "14\n",
      "15\n",
      "16\n",
      "17\n",
      "18\n",
      "19\n",
      "20\n"
     ]
    }
   ],
   "source": [
    "for i in range(10,21):\n",
    "    print(i)"
   ]
  },
  {
   "cell_type": "code",
   "execution_count": 2,
   "id": "e7cd072c",
   "metadata": {},
   "outputs": [
    {
     "name": "stdout",
     "output_type": "stream",
     "text": [
      "frozenset({40, 10, 20, 30})\n"
     ]
    }
   ],
   "source": [
    "s={10,20,30,40}\n",
    "fs=frozenset(s)\n",
    "print(fs)"
   ]
  },
  {
   "cell_type": "code",
   "execution_count": 3,
   "id": "44696d98",
   "metadata": {},
   "outputs": [
    {
     "data": {
      "text/plain": [
       "'tech'"
      ]
     },
     "execution_count": 3,
     "metadata": {},
     "output_type": "execute_result"
    }
   ],
   "source": [
    "my_list = {1:'ball',2:'car',3:'toy',4:\"tech\"}\n",
    "my_list[4]"
   ]
  },
  {
   "cell_type": "code",
   "execution_count": 4,
   "id": "d51b7a37",
   "metadata": {},
   "outputs": [
    {
     "data": {
      "text/plain": [
       "'car'"
      ]
     },
     "execution_count": 4,
     "metadata": {},
     "output_type": "execute_result"
    }
   ],
   "source": [
    "my_list[2]"
   ]
  },
  {
   "cell_type": "code",
   "execution_count": 5,
   "id": "348bfdd6",
   "metadata": {},
   "outputs": [
    {
     "name": "stdout",
     "output_type": "stream",
     "text": [
      "Enter your age\n",
      "45\n",
      "You can vote\n"
     ]
    }
   ],
   "source": [
    "print(\"Enter your age\")\n",
    "a=int(input())\n",
    "if(a>18):\n",
    "    print(\"You can vote\")\n",
    "else:\n",
    "    print(\"you cannot vote\")"
   ]
  },
  {
   "cell_type": "code",
   "execution_count": 16,
   "id": "1322c5c2",
   "metadata": {},
   "outputs": [
    {
     "name": "stdout",
     "output_type": "stream",
     "text": [
      "Enter 2 numbers: \n",
      "67\n",
      "34\n",
      "A is max\n",
      "Same\n"
     ]
    }
   ],
   "source": [
    "print(\"Enter 2 numbers: \")\n",
    "a=int(input())\n",
    "b=int(input())\n",
    "if(a>b):\n",
    "    print(\"A is max\")\n",
    "if(b>a):\n",
    "    print(\"B is max\")\n",
    "else:\n",
    "    print(\"Same\")"
   ]
  },
  {
   "cell_type": "code",
   "execution_count": 22,
   "id": "2b7233d7",
   "metadata": {},
   "outputs": [
    {
     "name": "stdout",
     "output_type": "stream",
     "text": [
      "Enter you marks\n",
      "45.78\n",
      "Need more work\n"
     ]
    }
   ],
   "source": [
    "print(\"Enter you marks\")\n",
    "m=float(input())\n",
    "if(90<=m<=100):\n",
    "    print(\"Excel\")\n",
    "elif(80<=m<=90):\n",
    "    print(\"Good\")\n",
    "elif(70<=m<=80):\n",
    "    print(\"Okay\")\n",
    "elif(40<=m<=70):\n",
    "    print(\"Need more work\")\n",
    "elif(33<=m<=40):\n",
    "    print(\"Fair\")\n",
    "else:\n",
    "    print(\"Fail\")"
   ]
  },
  {
   "cell_type": "markdown",
   "id": "bb8feebf",
   "metadata": {},
   "source": [
    "# Arithmetic Operator"
   ]
  },
  {
   "cell_type": "code",
   "execution_count": 27,
   "id": "75da2bd5",
   "metadata": {},
   "outputs": [
    {
     "name": "stdout",
     "output_type": "stream",
     "text": [
      "Enter two numbers a and b\n",
      "23\n",
      "8\n",
      "Add:  31.0\n",
      "Sub:  15.0\n",
      "Mul:  184.0\n",
      "Divide:  2.875\n",
      "Raise to:  78310985281.0\n",
      "Modulo:  7.0\n",
      "Floor division:  2.0\n"
     ]
    }
   ],
   "source": [
    "print(\"Enter two numbers a and b\")\n",
    "a=float(input())\n",
    "b=float(input())\n",
    "print(\"Add: \",a+b)\n",
    "print(\"Sub: \",a-b)\n",
    "print(\"Mul: \",a*b)\n",
    "print(\"Divide: \",a/b)\n",
    "print(\"Raise to: \",a**b)\n",
    "print(\"Modulo: \",a%b)\n",
    "print(\"Floor division: \",a//b)"
   ]
  },
  {
   "cell_type": "markdown",
   "id": "bccd2e16",
   "metadata": {},
   "source": [
    "# Comparison Operator"
   ]
  },
  {
   "cell_type": "code",
   "execution_count": 29,
   "id": "c80ab9af",
   "metadata": {},
   "outputs": [
    {
     "name": "stdout",
     "output_type": "stream",
     "text": [
      "Enter two numbers x and y\n",
      "45\n",
      "89\n",
      "x>y False\n",
      "---------------------------------------\n",
      "x<y True\n",
      "----------------------------------------\n",
      "x==y False\n",
      "------------------------------------------\n",
      "x!=y True\n",
      "-----------------------------------------\n"
     ]
    }
   ],
   "source": [
    "print(\"Enter two numbers x and y\")\n",
    "x=int(input())\n",
    "y=int(input())\n",
    "if(x>y):\n",
    "    print(\"x>y\",True)\n",
    "else:\n",
    "    print(\"x>y\",False)\n",
    "print(\"---------------------------------------\")\n",
    "if(x<y):\n",
    "    print(\"x<y\",True)\n",
    "else:\n",
    "    print(\"x<y\",False)\n",
    "print(\"----------------------------------------\")\n",
    "if(x==y):\n",
    "    print(\"x==y\",True)\n",
    "else:\n",
    "    print(\"x==y\",False)\n",
    "print(\"------------------------------------------\")\n",
    "if(x!=y):\n",
    "    print(\"x!=y\",True)\n",
    "else:\n",
    "    print(\"x!=y\",False)\n",
    "print(\"-----------------------------------------\")\n"
   ]
  },
  {
   "cell_type": "code",
   "execution_count": null,
   "id": "b6427413",
   "metadata": {},
   "outputs": [],
   "source": []
  }
 ],
 "metadata": {
  "kernelspec": {
   "display_name": "Python 3",
   "language": "python",
   "name": "python3"
  },
  "language_info": {
   "codemirror_mode": {
    "name": "ipython",
    "version": 3
   },
   "file_extension": ".py",
   "mimetype": "text/x-python",
   "name": "python",
   "nbconvert_exporter": "python",
   "pygments_lexer": "ipython3",
   "version": "3.8.8"
  }
 },
 "nbformat": 4,
 "nbformat_minor": 5
}
