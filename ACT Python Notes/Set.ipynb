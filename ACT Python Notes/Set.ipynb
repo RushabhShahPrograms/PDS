{
 "cells": [
  {
   "cell_type": "markdown",
   "id": "f4f83df3",
   "metadata": {},
   "source": [
    "# Set"
   ]
  },
  {
   "cell_type": "code",
   "execution_count": 1,
   "id": "70971a88",
   "metadata": {},
   "outputs": [
    {
     "name": "stdout",
     "output_type": "stream",
     "text": [
      "{'a', 'b', 'c'}\n"
     ]
    }
   ],
   "source": [
    "thisset = {\"a\",\"b\",\"c\"}\n",
    "print(thisset)"
   ]
  },
  {
   "cell_type": "markdown",
   "id": "a2af8fa4",
   "metadata": {},
   "source": [
    "## access item"
   ]
  },
  {
   "cell_type": "code",
   "execution_count": 2,
   "id": "ec1cb71b",
   "metadata": {},
   "outputs": [],
   "source": [
    "#you cannot access items from set as it is unordered and unindexed"
   ]
  },
  {
   "cell_type": "markdown",
   "id": "1c719e32",
   "metadata": {},
   "source": [
    "## using loop"
   ]
  },
  {
   "cell_type": "code",
   "execution_count": 3,
   "id": "f5b2d105",
   "metadata": {},
   "outputs": [
    {
     "name": "stdout",
     "output_type": "stream",
     "text": [
      "a\n",
      "b\n",
      "c\n"
     ]
    }
   ],
   "source": [
    "t = {\"a\",\"b\",\"c\"}\n",
    "for x in t:\n",
    "    print(x)"
   ]
  },
  {
   "cell_type": "markdown",
   "id": "61802ddd",
   "metadata": {},
   "source": [
    "## Change Items"
   ]
  },
  {
   "cell_type": "code",
   "execution_count": 4,
   "id": "8469b914",
   "metadata": {},
   "outputs": [
    {
     "name": "stdout",
     "output_type": "stream",
     "text": [
      "{'a', 'b', 'd', 'c'}\n",
      "{'z', 'q', 'w', 'v', 'x', 'y'}\n"
     ]
    }
   ],
   "source": [
    "#you cannot change the items but you can add or update it by adding more members\n",
    "\n",
    "#add()\n",
    "s = {\"a\",\"b\",\"c\"}\n",
    "s.add(\"d\")\n",
    "print(s)\n",
    "\n",
    "#update()\n",
    "s1 = {\"x\",\"y\",\"z\",\"w\"}\n",
    "s1.update([\"q\",\"v\",\"y\"])\n",
    "print(s1)"
   ]
  },
  {
   "cell_type": "markdown",
   "id": "a06673f4",
   "metadata": {},
   "source": [
    "## Len()"
   ]
  },
  {
   "cell_type": "code",
   "execution_count": 5,
   "id": "43a064ea",
   "metadata": {},
   "outputs": [
    {
     "name": "stdout",
     "output_type": "stream",
     "text": [
      "7\n"
     ]
    }
   ],
   "source": [
    "s = {\"a\",1,2,3,4,\"g\",\"h\"}\n",
    "print(len(s))"
   ]
  },
  {
   "cell_type": "markdown",
   "id": "f75a19fc",
   "metadata": {},
   "source": [
    "## remove item"
   ]
  },
  {
   "cell_type": "code",
   "execution_count": 6,
   "id": "8560a7ab",
   "metadata": {},
   "outputs": [
    {
     "name": "stdout",
     "output_type": "stream",
     "text": [
      "{'a', 'b', 'c'}\n",
      "{'j', 'h', 'q'}\n",
      "a\n",
      "set()\n"
     ]
    }
   ],
   "source": [
    "#remove()\n",
    "s = {\"a\",\"b\",\"c\",\"d\"}\n",
    "s.remove(\"d\")\n",
    "print(s)\n",
    "\n",
    "#discard()\n",
    "s1 = {\"q\",\"t\",\"h\",\"j\"}\n",
    "s1.discard(\"t\")\n",
    "print(s1)\n",
    "\n",
    "#pop()\n",
    "s2 = {\"a\",\"b\",\"t\",\"Y\"}\n",
    "x = s2.pop()\n",
    "print(x)\n",
    "\n",
    "#clear()\n",
    "s3 = {\"q\",\"w\",\"e\",\"r\"}\n",
    "s3.clear()\n",
    "print(s3)\n",
    "\n",
    "#del\n",
    "s4 = {\"a\",\"s\",\"d\",\"f\"}\n",
    "del s"
   ]
  },
  {
   "cell_type": "markdown",
   "id": "e6e4e385",
   "metadata": {},
   "source": [
    "## join two sets"
   ]
  },
  {
   "cell_type": "code",
   "execution_count": 7,
   "id": "23bbd886",
   "metadata": {},
   "outputs": [
    {
     "name": "stdout",
     "output_type": "stream",
     "text": [
      "{1, 2, 3, 'a', 'b', 'c'}\n",
      "{'w', 'e', 'q', 'a', 'b', 'c'}\n"
     ]
    }
   ],
   "source": [
    "#union()\n",
    "s1 = {\"a\",\"b\",\"c\"}\n",
    "s2 = {1,2,3}\n",
    "s3 = s1.union(s2)\n",
    "print(s3)\n",
    "\n",
    "#update()\n",
    "s4 = {\"a\",\"b\",\"c\"}\n",
    "s5 = {\"q\",\"w\",\"e\"}\n",
    "s4.update(s5)\n",
    "print(s4)"
   ]
  },
  {
   "cell_type": "markdown",
   "id": "ccdd103d",
   "metadata": {},
   "source": [
    "## copy()"
   ]
  },
  {
   "cell_type": "code",
   "execution_count": 8,
   "id": "8297e6b4",
   "metadata": {},
   "outputs": [
    {
     "name": "stdout",
     "output_type": "stream",
     "text": [
      "{'x', 'y', 'z'}\n"
     ]
    }
   ],
   "source": [
    "s = {\"x\",\"y\",\"z\"}\n",
    "x = s.copy()\n",
    "print(x)"
   ]
  },
  {
   "cell_type": "markdown",
   "id": "70c696b9",
   "metadata": {},
   "source": [
    "## set difference()"
   ]
  },
  {
   "cell_type": "code",
   "execution_count": 9,
   "id": "4ade53fe",
   "metadata": {},
   "outputs": [
    {
     "name": "stdout",
     "output_type": "stream",
     "text": [
      "{'b', 'c'} {1, 2, 3, 't'}\n"
     ]
    }
   ],
   "source": [
    "s = {\"a\",\"b\",\"c\"}\n",
    "s1 = {1,2,3,\"t\",\"a\"}\n",
    "z=s.difference(s1)\n",
    "x=s1.difference(s)\n",
    "print(z,x)"
   ]
  },
  {
   "cell_type": "markdown",
   "id": "2718a5f7",
   "metadata": {},
   "source": [
    "## set difference update()"
   ]
  },
  {
   "cell_type": "code",
   "execution_count": 10,
   "id": "a95e864c",
   "metadata": {},
   "outputs": [
    {
     "name": "stdout",
     "output_type": "stream",
     "text": [
      "{'x', 'h', 't'}\n"
     ]
    }
   ],
   "source": [
    "x = {\"a\",\"b\",\"c\",\"z\"}\n",
    "y = {\"a\",\"x\",\"t\",\"h\"}\n",
    "y.difference_update(x)\n",
    "print(y)"
   ]
  },
  {
   "cell_type": "markdown",
   "id": "5d6de139",
   "metadata": {},
   "source": [
    "## discard()"
   ]
  },
  {
   "cell_type": "code",
   "execution_count": 11,
   "id": "9ba27492",
   "metadata": {},
   "outputs": [
    {
     "name": "stdout",
     "output_type": "stream",
     "text": [
      "{'a', 'c'}\n"
     ]
    }
   ],
   "source": [
    "x = {\"a\",\"b\",\"c\"}\n",
    "x.discard(\"b\")\n",
    "print(x)"
   ]
  },
  {
   "cell_type": "markdown",
   "id": "18e28269",
   "metadata": {},
   "source": [
    "## set intersection()"
   ]
  },
  {
   "cell_type": "code",
   "execution_count": 12,
   "id": "47e1a3d6",
   "metadata": {},
   "outputs": [
    {
     "name": "stdout",
     "output_type": "stream",
     "text": [
      "{'a', 'b', 'r'} {'a', 'b'}\n"
     ]
    }
   ],
   "source": [
    "x = {\"a\",\"b\",\"c\",\"d\",\"r\"}\n",
    "y = {\"a\",\"b\",\"e\",\"r\",\"q\"}\n",
    "b = {\"a\",\"b\",\"g\",\"e\"}\n",
    "z=x.intersection(y)\n",
    "q=b.intersection(x,y)\n",
    "print(z,q)"
   ]
  },
  {
   "cell_type": "markdown",
   "id": "87bf6ee7",
   "metadata": {},
   "source": [
    "## set intersection_update()"
   ]
  },
  {
   "cell_type": "code",
   "execution_count": 13,
   "id": "c017f943",
   "metadata": {},
   "outputs": [
    {
     "name": "stdout",
     "output_type": "stream",
     "text": [
      "{1, 'b'} {'b'}\n"
     ]
    }
   ],
   "source": [
    "x = {\"a\",\"b\",\"c\",1,2,3}\n",
    "y = {\"q\",\"b\",\"w\",1,5,8}\n",
    "z = {\"b\",\"g\",\"h\",5,9,4}\n",
    "x.intersection_update(y)\n",
    "z.intersection_update(x,y)\n",
    "print(x,z)"
   ]
  },
  {
   "cell_type": "markdown",
   "id": "efcaf7ea",
   "metadata": {},
   "source": [
    "## isdisjoint()"
   ]
  },
  {
   "cell_type": "code",
   "execution_count": 16,
   "id": "b2775f28",
   "metadata": {},
   "outputs": [
    {
     "name": "stdout",
     "output_type": "stream",
     "text": [
      "True\n",
      "False\n"
     ]
    }
   ],
   "source": [
    "x = {\"a\",\"b\",\"c\"}\n",
    "y = {\"g\",\"m\",\"f\"}\n",
    "z=x.isdisjoint(y)\n",
    "print(z)\n",
    "\n",
    "x1 = {\"a\",\"b\",\"c\"}\n",
    "y1 = {\"a\",\"m\",\"f\"}\n",
    "z1=x1.isdisjoint(y1)\n",
    "print(z1)"
   ]
  },
  {
   "cell_type": "markdown",
   "id": "d770cdac",
   "metadata": {},
   "source": [
    "## issubset()"
   ]
  },
  {
   "cell_type": "code",
   "execution_count": 17,
   "id": "f8b058d1",
   "metadata": {},
   "outputs": [
    {
     "name": "stdout",
     "output_type": "stream",
     "text": [
      "True\n",
      "False\n"
     ]
    }
   ],
   "source": [
    "x = {\"a\",\"b\",\"c\"}\n",
    "y = {\"f\",\"e\",\"c\",\"d\",\"b\",\"a\"}\n",
    "z=x.issubset(y)\n",
    "print(z)\n",
    "\n",
    "x1 = {\"a\",\"b\",\"c\"}\n",
    "y1 = {\"f\",\"e\",\"c\",\"d\",\"a\"}\n",
    "z1=x1.issubset(y1)\n",
    "print(z1)"
   ]
  },
  {
   "cell_type": "markdown",
   "id": "f39d265c",
   "metadata": {},
   "source": [
    "## symmetric_difference()"
   ]
  },
  {
   "cell_type": "code",
   "execution_count": 18,
   "id": "fc7322d9",
   "metadata": {},
   "outputs": [
    {
     "name": "stdout",
     "output_type": "stream",
     "text": [
      "{'g', 'b', 'm', 'c'}\n"
     ]
    }
   ],
   "source": [
    "x = {\"a\",\"b\",\"c\"}\n",
    "y = {\"g\",\"m\",\"a\"}\n",
    "z = x.symmetric_difference(y)\n",
    "print(z)"
   ]
  },
  {
   "cell_type": "markdown",
   "id": "947a90ae",
   "metadata": {},
   "source": [
    "## union()"
   ]
  },
  {
   "cell_type": "code",
   "execution_count": 19,
   "id": "232077fa",
   "metadata": {},
   "outputs": [
    {
     "name": "stdout",
     "output_type": "stream",
     "text": [
      "{'g', 'e', 'a', 'b', 'm', 'c'}\n"
     ]
    }
   ],
   "source": [
    "x = {\"a\",\"b\",\"c\"}\n",
    "y = {\"g\",\"m\",\"e\"}\n",
    "z = x.symmetric_difference(y)\n",
    "print(z)"
   ]
  },
  {
   "cell_type": "code",
   "execution_count": null,
   "id": "df77711a",
   "metadata": {},
   "outputs": [],
   "source": []
  }
 ],
 "metadata": {
  "kernelspec": {
   "display_name": "Python 3",
   "language": "python",
   "name": "python3"
  },
  "language_info": {
   "codemirror_mode": {
    "name": "ipython",
    "version": 3
   },
   "file_extension": ".py",
   "mimetype": "text/x-python",
   "name": "python",
   "nbconvert_exporter": "python",
   "pygments_lexer": "ipython3",
   "version": "3.8.8"
  }
 },
 "nbformat": 4,
 "nbformat_minor": 5
}
