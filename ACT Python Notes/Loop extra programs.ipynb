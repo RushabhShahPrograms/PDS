{
 "cells": [
  {
   "cell_type": "code",
   "execution_count": 1,
   "id": "93f443aa",
   "metadata": {},
   "outputs": [
    {
     "name": "stdout",
     "output_type": "stream",
     "text": [
      "armstrong number\n"
     ]
    }
   ],
   "source": [
    "#armstrong\n",
    "num = 153\n",
    "sum = 0 \n",
    "temp = num\n",
    "while(temp>0):\n",
    "    digit = temp%10\n",
    "    sum += digit**3\n",
    "    temp //= 10\n",
    "    \n",
    "if(num == sum):\n",
    "    print(\"armstrong number\")\n",
    "else:\n",
    "    print(\"Not armstrong number\")"
   ]
  },
  {
   "cell_type": "code",
   "execution_count": 2,
   "id": "ba9d67a7",
   "metadata": {},
   "outputs": [
    {
     "name": "stdout",
     "output_type": "stream",
     "text": [
      "Reversed number is: 4321\n"
     ]
    }
   ],
   "source": [
    "#reverse number\n",
    "\n",
    "num = 1234\n",
    "r = 0\n",
    "while(num!=0):\n",
    "    digit = num%10\n",
    "    r = r*10+digit\n",
    "    num //= 10\n",
    "print(\"Reversed number is:\",r)"
   ]
  },
  {
   "cell_type": "code",
   "execution_count": 3,
   "id": "9e9efd7f",
   "metadata": {},
   "outputs": [
    {
     "name": "stdout",
     "output_type": "stream",
     "text": [
      "Enter the number: 7\n",
      "0\n",
      "1\n",
      "1\n",
      "2\n",
      "3\n",
      "5\n",
      "8\n"
     ]
    }
   ],
   "source": [
    "#fibonacci \n",
    "\n",
    "z = int(input(\"Enter the number: \"))\n",
    "a,b = 0,1\n",
    "count = 0\n",
    "while(count<z):\n",
    "    print(a)\n",
    "    c = a+b\n",
    "    a = b\n",
    "    b = c\n",
    "    count += 1\n",
    "    "
   ]
  },
  {
   "cell_type": "code",
   "execution_count": 13,
   "id": "d5a8144b",
   "metadata": {},
   "outputs": [
    {
     "name": "stdout",
     "output_type": "stream",
     "text": [
      "Enter the prime number: 41\n",
      "Prime Number\n"
     ]
    }
   ],
   "source": [
    "#prime number\n",
    "\n",
    "num = int(input(\"Enter the prime number: \"))\n",
    "for i in range(2,num):\n",
    "    if(num%i==0):\n",
    "        print(\"Not Prime Number\")\n",
    "        break\n",
    "else:\n",
    "    print(\"Prime Number\")"
   ]
  },
  {
   "cell_type": "code",
   "execution_count": 29,
   "id": "156aa400",
   "metadata": {},
   "outputs": [
    {
     "name": "stdout",
     "output_type": "stream",
     "text": [
      "Enter the number for checking palindrome: 2332\n",
      "Palindrome\n"
     ]
    }
   ],
   "source": [
    "#palindrome number\n",
    "\n",
    "num = int(input(\"Enter the number for checking palindrome: \"))\n",
    "t = num\n",
    "r = 0\n",
    "while(num>0):\n",
    "    digit = num%10\n",
    "    r = r*10+digit\n",
    "    num //= 10\n",
    "if(t == r):\n",
    "    print(\"Palindrome\")\n",
    "else:\n",
    "    print(\"Not palindrome\")"
   ]
  },
  {
   "cell_type": "code",
   "execution_count": 1,
   "id": "f71adbb2",
   "metadata": {},
   "outputs": [
    {
     "name": "stdout",
     "output_type": "stream",
     "text": [
      "Enter the number to check krishnamurthy number or not: 145\n",
      "Krishnamurthy number\n"
     ]
    }
   ],
   "source": [
    "#krishnamurthy number\n",
    "\n",
    "num = int(input(\"Enter the number to check krishnamurthy number or not: \"))\n",
    "temp = num\n",
    "sum = 0\n",
    "while(num>0):\n",
    "    digit = num%10\n",
    "    fact=1\n",
    "    for i in range(1,digit+1):\n",
    "        fact = fact * i\n",
    "    sum = sum + fact\n",
    "    num = num//10\n",
    "    \n",
    "if(sum == temp):\n",
    "    print(\"Krishnamurthy number\")\n",
    "else:\n",
    "    print(\"Not Krishnamurthy number\")"
   ]
  },
  {
   "cell_type": "code",
   "execution_count": null,
   "id": "8173cdef",
   "metadata": {},
   "outputs": [],
   "source": []
  }
 ],
 "metadata": {
  "kernelspec": {
   "display_name": "Python 3",
   "language": "python",
   "name": "python3"
  },
  "language_info": {
   "codemirror_mode": {
    "name": "ipython",
    "version": 3
   },
   "file_extension": ".py",
   "mimetype": "text/x-python",
   "name": "python",
   "nbconvert_exporter": "python",
   "pygments_lexer": "ipython3",
   "version": "3.8.8"
  }
 },
 "nbformat": 4,
 "nbformat_minor": 5
}
