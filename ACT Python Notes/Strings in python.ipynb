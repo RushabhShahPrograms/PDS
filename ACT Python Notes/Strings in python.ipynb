{
 "cells": [
  {
   "cell_type": "markdown",
   "id": "3342dbd1",
   "metadata": {},
   "source": [
    "# Operators"
   ]
  },
  {
   "cell_type": "code",
   "execution_count": 1,
   "id": "b8e9a1fa",
   "metadata": {},
   "outputs": [
    {
     "data": {
      "text/plain": [
       "'python'"
      ]
     },
     "execution_count": 1,
     "metadata": {},
     "output_type": "execute_result"
    }
   ],
   "source": [
    "#slice operator\n",
    "\n",
    "str=\"python\"\n",
    "str[:]"
   ]
  },
  {
   "cell_type": "code",
   "execution_count": 2,
   "id": "aeb8eb29",
   "metadata": {},
   "outputs": [
    {
     "data": {
      "text/plain": [
       "'hello world'"
      ]
     },
     "execution_count": 2,
     "metadata": {},
     "output_type": "execute_result"
    }
   ],
   "source": [
    "str=\"hello world\"\n",
    "str[0:]"
   ]
  },
  {
   "cell_type": "code",
   "execution_count": 3,
   "id": "4fc1a4ad",
   "metadata": {},
   "outputs": [
    {
     "data": {
      "text/plain": [
       "'Rusha'"
      ]
     },
     "execution_count": 3,
     "metadata": {},
     "output_type": "execute_result"
    }
   ],
   "source": [
    "str=\"Rushabh\"\n",
    "str[:5]"
   ]
  },
  {
   "cell_type": "code",
   "execution_count": 4,
   "id": "0791a7fe",
   "metadata": {},
   "outputs": [
    {
     "data": {
      "text/plain": [
       "'ell'"
      ]
     },
     "execution_count": 4,
     "metadata": {},
     "output_type": "execute_result"
    }
   ],
   "source": [
    "str=\"Hello python\"\n",
    "str[1:4]"
   ]
  },
  {
   "cell_type": "markdown",
   "id": "41490dff",
   "metadata": {},
   "source": [
    "## String operator"
   ]
  },
  {
   "cell_type": "code",
   "execution_count": 5,
   "id": "8e5c3c2a",
   "metadata": {},
   "outputs": [
    {
     "name": "stdout",
     "output_type": "stream",
     "text": [
      "Concatenation operator: Hello world\n"
     ]
    }
   ],
   "source": [
    "#concatenation operator\n",
    "\n",
    "str=\"Hello\"\n",
    "str1=\" world\"\n",
    "print(\"Concatenation operator: \"+(str+str1))"
   ]
  },
  {
   "cell_type": "code",
   "execution_count": 6,
   "id": "d289b65a",
   "metadata": {},
   "outputs": [
    {
     "name": "stdout",
     "output_type": "stream",
     "text": [
      "repetition operator is: hellohello\n"
     ]
    }
   ],
   "source": [
    "#repetition operator\n",
    "\n",
    "str=\"hello\"\n",
    "print(\"repetition operator is: \"+(str*2))"
   ]
  },
  {
   "cell_type": "code",
   "execution_count": 7,
   "id": "263a754d",
   "metadata": {},
   "outputs": [
    {
     "name": "stdout",
     "output_type": "stream",
     "text": [
      "slice operator:Rusha\n"
     ]
    }
   ],
   "source": [
    "#slice operator\n",
    "\n",
    "str=\"Rushabh\"\n",
    "print(\"slice operator:\"+str[:5])"
   ]
  },
  {
   "cell_type": "code",
   "execution_count": 8,
   "id": "f16b82c7",
   "metadata": {},
   "outputs": [
    {
     "name": "stdout",
     "output_type": "stream",
     "text": [
      "True\n",
      "False\n"
     ]
    }
   ],
   "source": [
    "#in operator\n",
    "str=\"hello\"\n",
    "print('e' in str)\n",
    "print('s' in str)"
   ]
  },
  {
   "cell_type": "code",
   "execution_count": 9,
   "id": "220d5335",
   "metadata": {},
   "outputs": [
    {
     "name": "stdout",
     "output_type": "stream",
     "text": [
      "False\n",
      "True\n"
     ]
    }
   ],
   "source": [
    "#not in operator\n",
    "\n",
    "str=\"world\"\n",
    "print('o' not in str)\n",
    "print('a' not in str)"
   ]
  },
  {
   "cell_type": "code",
   "execution_count": 10,
   "id": "a3671945",
   "metadata": {},
   "outputs": [
    {
     "name": "stdout",
     "output_type": "stream",
     "text": [
      "the str: hello world\n"
     ]
    }
   ],
   "source": [
    "#format operator (%)\n",
    "\n",
    "str=\"hello world\"\n",
    "print(\"the str: %s\"%(str))"
   ]
  },
  {
   "cell_type": "code",
   "execution_count": 11,
   "id": "5c8f0a16",
   "metadata": {},
   "outputs": [
    {
     "name": "stdout",
     "output_type": "stream",
     "text": [
      "5\n"
     ]
    }
   ],
   "source": [
    "#len() operator\n",
    "\n",
    "str=\"hello\"\n",
    "print(len(str))"
   ]
  },
  {
   "cell_type": "markdown",
   "id": "974cf355",
   "metadata": {},
   "source": [
    "## String Methods"
   ]
  },
  {
   "cell_type": "code",
   "execution_count": 12,
   "id": "9fb8a2cb",
   "metadata": {},
   "outputs": [
    {
     "name": "stdout",
     "output_type": "stream",
     "text": [
      "Whitespace remover: hello world\n"
     ]
    }
   ],
   "source": [
    "#strip() method\n",
    "\n",
    "a=\"        hello world         \"\n",
    "print(\"Whitespace remover: \"+a.strip())"
   ]
  },
  {
   "cell_type": "code",
   "execution_count": 13,
   "id": "696e743c",
   "metadata": {},
   "outputs": [
    {
     "name": "stdout",
     "output_type": "stream",
     "text": [
      "Lower method: hello world\n"
     ]
    }
   ],
   "source": [
    "#lower() method\n",
    "\n",
    "a=\"Hello World\"\n",
    "print(\"Lower method: \"+a.lower())"
   ]
  },
  {
   "cell_type": "code",
   "execution_count": 14,
   "id": "626eea31",
   "metadata": {},
   "outputs": [
    {
     "name": "stdout",
     "output_type": "stream",
     "text": [
      "Upper method: HELLO WORLD\n"
     ]
    }
   ],
   "source": [
    "#upper() method\n",
    "a=\"hello world\"\n",
    "print(\"Upper method: \"+a.upper())"
   ]
  },
  {
   "cell_type": "code",
   "execution_count": 15,
   "id": "59b339e7",
   "metadata": {},
   "outputs": [
    {
     "name": "stdout",
     "output_type": "stream",
     "text": [
      "Replacing: jai jo\n"
     ]
    }
   ],
   "source": [
    "#replace() method\n",
    "\n",
    "b=\"jai ho\"\n",
    "print(\"Replacing: \"+b.replace(\"h\",\"j\"))"
   ]
  },
  {
   "cell_type": "code",
   "execution_count": 16,
   "id": "2c913dd7",
   "metadata": {},
   "outputs": [
    {
     "name": "stdout",
     "output_type": "stream",
     "text": [
      "['hello world']\n"
     ]
    }
   ],
   "source": [
    "#split() method\n",
    "\n",
    "b=\"hello,world!\"\n",
    "print(a.split(\"*\"))"
   ]
  },
  {
   "cell_type": "markdown",
   "id": "23c46c5c",
   "metadata": {},
   "source": [
    "## String Functions"
   ]
  },
  {
   "cell_type": "code",
   "execution_count": 17,
   "id": "de58169e",
   "metadata": {},
   "outputs": [
    {
     "name": "stdout",
     "output_type": "stream",
     "text": [
      "Hello, world\n"
     ]
    }
   ],
   "source": [
    "#capitalize\n",
    "\n",
    "txt = \"hello, world\"\n",
    "x = txt.capitalize()\n",
    "print(x)"
   ]
  },
  {
   "cell_type": "code",
   "execution_count": 18,
   "id": "089bcc3f",
   "metadata": {},
   "outputs": [
    {
     "name": "stdout",
     "output_type": "stream",
     "text": [
      "hello, and welcome\n"
     ]
    }
   ],
   "source": [
    "#casefold\n",
    "\n",
    "txt = \"Hello, And welcome\"\n",
    "x = txt.casefold()\n",
    "print(x)"
   ]
  },
  {
   "cell_type": "code",
   "execution_count": 19,
   "id": "1f561908",
   "metadata": {},
   "outputs": [
    {
     "name": "stdout",
     "output_type": "stream",
     "text": [
      "       banana       \n"
     ]
    }
   ],
   "source": [
    "#center\n",
    "\n",
    "txt = \"banana\"\n",
    "x = txt.center(20)\n",
    "print(x)"
   ]
  },
  {
   "cell_type": "code",
   "execution_count": 20,
   "id": "e0e96706",
   "metadata": {},
   "outputs": [
    {
     "name": "stdout",
     "output_type": "stream",
     "text": [
      "$$$$$$$banana$$$$$$$\n"
     ]
    }
   ],
   "source": [
    "txt = \"banana\"\n",
    "x = txt.center(20, \"$\")\n",
    "print(x)"
   ]
  },
  {
   "cell_type": "code",
   "execution_count": 21,
   "id": "7bf3d139",
   "metadata": {},
   "outputs": [
    {
     "name": "stdout",
     "output_type": "stream",
     "text": [
      "2\n"
     ]
    }
   ],
   "source": [
    "#count\n",
    "\n",
    "txt = \"Hello world, Hello python\"\n",
    "x = txt.count(\"Hello\")\n",
    "print(x)"
   ]
  },
  {
   "cell_type": "code",
   "execution_count": 22,
   "id": "397704cc",
   "metadata": {},
   "outputs": [
    {
     "name": "stdout",
     "output_type": "stream",
     "text": [
      "1\n"
     ]
    }
   ],
   "source": [
    "txt = \"Hello world, Hello python\"\n",
    "x = txt.count(\"world\",5,20)\n",
    "print(x)"
   ]
  },
  {
   "cell_type": "code",
   "execution_count": 23,
   "id": "af06de2f",
   "metadata": {},
   "outputs": [
    {
     "name": "stdout",
     "output_type": "stream",
     "text": [
      "True\n"
     ]
    }
   ],
   "source": [
    "#endswith\n",
    "\n",
    "txt = \"Hello, welcome to my world.\"\n",
    "x = txt.endswith(\".\")\n",
    "print(x)"
   ]
  },
  {
   "cell_type": "code",
   "execution_count": 24,
   "id": "be123190",
   "metadata": {},
   "outputs": [
    {
     "name": "stdout",
     "output_type": "stream",
     "text": [
      "True\n"
     ]
    }
   ],
   "source": [
    "txt = \"Hello, welcome to my world.\"\n",
    "x = txt.endswith(\"my world.\")\n",
    "print(x)"
   ]
  },
  {
   "cell_type": "code",
   "execution_count": 25,
   "id": "bd5ddb85",
   "metadata": {},
   "outputs": [
    {
     "name": "stdout",
     "output_type": "stream",
     "text": [
      "False\n"
     ]
    }
   ],
   "source": [
    "txt = \"Hello, welcome to my world.\"\n",
    "x = txt.endswith(\".\",5,11)\n",
    "print(x)"
   ]
  },
  {
   "cell_type": "code",
   "execution_count": 26,
   "id": "e0c9182d",
   "metadata": {},
   "outputs": [
    {
     "name": "stdout",
     "output_type": "stream",
     "text": [
      "H e l l o\n"
     ]
    }
   ],
   "source": [
    "#expandtabs()\n",
    "\n",
    "txt = \"H\\te\\tl\\tl\\to\"\n",
    "x = txt.expandtabs(2)\n",
    "print(x)"
   ]
  },
  {
   "cell_type": "code",
   "execution_count": 27,
   "id": "ad07d4f1",
   "metadata": {},
   "outputs": [
    {
     "name": "stdout",
     "output_type": "stream",
     "text": [
      "7\n"
     ]
    }
   ],
   "source": [
    "#find()\n",
    "\n",
    "txt = \"Hello, welcome to my world\"\n",
    "t = txt.find(\"welcome\")\n",
    "print(t)"
   ]
  },
  {
   "cell_type": "code",
   "execution_count": 28,
   "id": "b264ba8b",
   "metadata": {},
   "outputs": [
    {
     "name": "stdout",
     "output_type": "stream",
     "text": [
      "1\n"
     ]
    }
   ],
   "source": [
    "txt = \"Hello, welcome to my world\"\n",
    "x = txt.find(\"e\")\n",
    "print(x)"
   ]
  },
  {
   "cell_type": "code",
   "execution_count": 29,
   "id": "55f382f6",
   "metadata": {},
   "outputs": [
    {
     "name": "stdout",
     "output_type": "stream",
     "text": [
      "8\n"
     ]
    }
   ],
   "source": [
    "txt = \"Hello, welcome to my world\"\n",
    "x = txt.find(\"e\",5,10)\n",
    "print(x)"
   ]
  },
  {
   "cell_type": "code",
   "execution_count": 30,
   "id": "f33203f9",
   "metadata": {},
   "outputs": [
    {
     "name": "stdout",
     "output_type": "stream",
     "text": [
      "-1\n"
     ]
    }
   ],
   "source": [
    "txt = \"Hello, welcome to my world\"\n",
    "x = txt.find(\"q\")\n",
    "print(x)"
   ]
  },
  {
   "cell_type": "code",
   "execution_count": 31,
   "id": "04f9cfd9",
   "metadata": {},
   "outputs": [
    {
     "name": "stdout",
     "output_type": "stream",
     "text": [
      "1\n"
     ]
    }
   ],
   "source": [
    "#index()\n",
    "\n",
    "txt=\"Hello, welcome to my world\"\n",
    "x = txt.index(\"e\")\n",
    "print(x)"
   ]
  },
  {
   "cell_type": "code",
   "execution_count": 32,
   "id": "643b79fc",
   "metadata": {},
   "outputs": [
    {
     "name": "stdout",
     "output_type": "stream",
     "text": [
      "7\n"
     ]
    }
   ],
   "source": [
    "txt=\"Hello, welcome to my world\"\n",
    "x=txt.index(\"welcome\")\n",
    "print(x)"
   ]
  },
  {
   "cell_type": "code",
   "execution_count": 33,
   "id": "9272ca1f",
   "metadata": {},
   "outputs": [
    {
     "name": "stdout",
     "output_type": "stream",
     "text": [
      "True\n"
     ]
    }
   ],
   "source": [
    "#isalnum()\n",
    "\n",
    "txt=\"Company12\"\n",
    "x=txt.isalnum()\n",
    "print(x)"
   ]
  },
  {
   "cell_type": "code",
   "execution_count": 34,
   "id": "ebc4cfab",
   "metadata": {},
   "outputs": [
    {
     "name": "stdout",
     "output_type": "stream",
     "text": [
      "False\n"
     ]
    }
   ],
   "source": [
    "txt=\"company__12\"\n",
    "x=txt.isalnum()\n",
    "print(x)"
   ]
  },
  {
   "cell_type": "code",
   "execution_count": 35,
   "id": "8f7e9d91",
   "metadata": {},
   "outputs": [
    {
     "name": "stdout",
     "output_type": "stream",
     "text": [
      "True\n"
     ]
    }
   ],
   "source": [
    "#isalpha()\n",
    "\n",
    "txt=\"companyx\"\n",
    "x=txt.isalpha()\n",
    "print(x)"
   ]
  },
  {
   "cell_type": "code",
   "execution_count": 36,
   "id": "10c82a81",
   "metadata": {},
   "outputs": [
    {
     "name": "stdout",
     "output_type": "stream",
     "text": [
      "False\n"
     ]
    }
   ],
   "source": [
    "txt=\"company10\"\n",
    "x=txt.isalpha()\n",
    "print(x)"
   ]
  },
  {
   "cell_type": "code",
   "execution_count": 37,
   "id": "21675eeb",
   "metadata": {},
   "outputs": [
    {
     "name": "stdout",
     "output_type": "stream",
     "text": [
      "True\n"
     ]
    }
   ],
   "source": [
    "#isidentifier()\n",
    "\n",
    "txt=\"Demo\"\n",
    "x=txt.isidentifier()\n",
    "print(x)"
   ]
  },
  {
   "cell_type": "code",
   "execution_count": 38,
   "id": "3087342d",
   "metadata": {},
   "outputs": [
    {
     "name": "stdout",
     "output_type": "stream",
     "text": [
      "True\n",
      "True\n",
      "False\n",
      "False\n"
     ]
    }
   ],
   "source": [
    "a=\"xyz\"\n",
    "b=\"abc002\"\n",
    "c=\"1abc\"\n",
    "d=\"hello world\"\n",
    "print(a.isidentifier())\n",
    "print(b.isidentifier())\n",
    "print(c.isidentifier())\n",
    "print(d.isidentifier())"
   ]
  },
  {
   "cell_type": "code",
   "execution_count": 39,
   "id": "20f3cd27",
   "metadata": {},
   "outputs": [
    {
     "name": "stdout",
     "output_type": "stream",
     "text": [
      "True\n"
     ]
    }
   ],
   "source": [
    "#islower()\n",
    "\n",
    "txt=\"hello world\"\n",
    "x=txt.islower()\n",
    "print(x)"
   ]
  },
  {
   "cell_type": "code",
   "execution_count": 40,
   "id": "d063e615",
   "metadata": {},
   "outputs": [
    {
     "name": "stdout",
     "output_type": "stream",
     "text": [
      "False\n",
      "True\n",
      "True\n",
      "True\n"
     ]
    }
   ],
   "source": [
    "a=\"Hello world\"\n",
    "b=\"hello123\"\n",
    "c=\"mynameisxyz\"\n",
    "d=\"hello 456\"\n",
    "print(a.islower())\n",
    "print(b.islower())\n",
    "print(c.islower())\n",
    "print(d.islower())"
   ]
  },
  {
   "cell_type": "code",
   "execution_count": 41,
   "id": "3e4f8695",
   "metadata": {},
   "outputs": [
    {
     "name": "stdout",
     "output_type": "stream",
     "text": [
      "True\n",
      "False\n",
      "False\n"
     ]
    }
   ],
   "source": [
    "#isnumeric()\n",
    "\n",
    "txt=\"56665656\"\n",
    "print(txt.isnumeric())\n",
    "txt1=\"hello5656\"\n",
    "print(txt1.isnumeric())\n",
    "txt2=\"5656world\"\n",
    "print(txt2.isnumeric())"
   ]
  },
  {
   "cell_type": "code",
   "execution_count": 42,
   "id": "e5c18ed8",
   "metadata": {},
   "outputs": [
    {
     "name": "stdout",
     "output_type": "stream",
     "text": [
      "True\n",
      "False\n"
     ]
    }
   ],
   "source": [
    "#isspace()\n",
    "\n",
    "txt = \" \"\n",
    "print(txt.isspace())\n",
    "\n",
    "txt1 = \"    s \"\n",
    "print(txt1.isspace())"
   ]
  },
  {
   "cell_type": "code",
   "execution_count": 43,
   "id": "cce83b27",
   "metadata": {},
   "outputs": [
    {
     "name": "stdout",
     "output_type": "stream",
     "text": [
      "True\n",
      "False\n"
     ]
    }
   ],
   "source": [
    "#isupper()\n",
    "\n",
    "txt = \"THIS IS A PEN\"\n",
    "print(txt.isupper())\n",
    "\n",
    "txt1 = \"this is a pen\"\n",
    "print(txt1.isupper())"
   ]
  },
  {
   "cell_type": "code",
   "execution_count": 44,
   "id": "728e658e",
   "metadata": {},
   "outputs": [
    {
     "name": "stdout",
     "output_type": "stream",
     "text": [
      "abc xyz aaa\n",
      "abc_xyz_aaa\n"
     ]
    }
   ],
   "source": [
    "#join()\n",
    "\n",
    "str = (\"abc\",\"xyz\",\"aaa\")\n",
    "print(\" \".join(str))\n",
    "print(\"_\".join(str))"
   ]
  },
  {
   "cell_type": "code",
   "execution_count": 45,
   "id": "f35e8be2",
   "metadata": {},
   "outputs": [
    {
     "name": "stdout",
     "output_type": "stream",
     "text": [
      "mango                 is my favourite fruit\n",
      "mango$$$$$$$$$$$$$$$\n"
     ]
    }
   ],
   "source": [
    "#ljust()\n",
    "\n",
    "txt=\"mango\"\n",
    "print(txt.ljust(20),\" is my favourite fruit\")\n",
    "print(txt.ljust(20,'$'))"
   ]
  },
  {
   "cell_type": "code",
   "execution_count": 46,
   "id": "a2ccecfe",
   "metadata": {},
   "outputs": [
    {
     "name": "stdout",
     "output_type": "stream",
     "text": [
      "hello python\n"
     ]
    }
   ],
   "source": [
    "#lower()\n",
    "\n",
    "txt = \"Hello PYThon\"\n",
    "print(txt.lower())"
   ]
  },
  {
   "cell_type": "code",
   "execution_count": 47,
   "id": "3afea80a",
   "metadata": {},
   "outputs": [
    {
     "name": "stdout",
     "output_type": "stream",
     "text": [
      "Hello abc ABC\n"
     ]
    }
   ],
   "source": [
    "#lstrip()\n",
    "\n",
    "txt = \"abc\"\n",
    "print(\"Hello\",txt.lstrip(),\"ABC\")"
   ]
  },
  {
   "cell_type": "code",
   "execution_count": 48,
   "id": "dcefcc4a",
   "metadata": {},
   "outputs": [
    {
     "name": "stdout",
     "output_type": "stream",
     "text": [
      "Original word:  helloo world \n",
      "Replaced word:  helloo java\n"
     ]
    }
   ],
   "source": [
    "#replace()\n",
    "\n",
    "txt = \"helloo world\"\n",
    "print(\"Original word: \",txt,\"\\nReplaced word: \",txt.replace(\"world\",\"java\"))"
   ]
  },
  {
   "cell_type": "code",
   "execution_count": 49,
   "id": "8e52f19c",
   "metadata": {},
   "outputs": [
    {
     "name": "stdout",
     "output_type": "stream",
     "text": [
      "['apple', 'mango', 'banana']\n",
      "['apple,mango,banana', 'tomato']\n"
     ]
    }
   ],
   "source": [
    "#rsplit()\n",
    "\n",
    "txt = \"apple,mango,banana\"\n",
    "print(txt.rsplit(\",\"))\n",
    "\n",
    "txt1 = \"apple,mango,banana,tomato\"\n",
    "print(txt1.rsplit(\",\",1))"
   ]
  },
  {
   "cell_type": "code",
   "execution_count": 50,
   "id": "fff6edf5",
   "metadata": {},
   "outputs": [
    {
     "name": "stdout",
     "output_type": "stream",
     "text": [
      "['Welcome', 'to', 'the', 'jungle']\n",
      "['Welcome', ' to the ', 'jungle']\n",
      "['welcome', 'to', 'the', 'jungle']\n"
     ]
    }
   ],
   "source": [
    "#split()\n",
    "\n",
    "txt=\"Welcome to the jungle\"\n",
    "print(txt.split())\n",
    "\n",
    "txt1 = \"Welcome, to the ,jungle\"\n",
    "print(txt1.split(\",\"))\n",
    "\n",
    "txt2 = \"welcome#to#the#jungle\"\n",
    "print(txt2.split(\"#\"))"
   ]
  },
  {
   "cell_type": "code",
   "execution_count": 51,
   "id": "f29abe00",
   "metadata": {},
   "outputs": [
    {
     "name": "stdout",
     "output_type": "stream",
     "text": [
      "['Hello world ', ' python']\n"
     ]
    }
   ],
   "source": [
    "#splitlines()\n",
    "\n",
    "txt = \"Hello world \\n python\"\n",
    "print(txt.splitlines())"
   ]
  },
  {
   "cell_type": "code",
   "execution_count": 52,
   "id": "f756af4d",
   "metadata": {},
   "outputs": [
    {
     "name": "stdout",
     "output_type": "stream",
     "text": [
      "HELLO MY NaME IS rUsHABh\n"
     ]
    }
   ],
   "source": [
    "#swapcase()\n",
    "\n",
    "txt = \"hello my nAme is RuShabH\"\n",
    "print(txt.swapcase())"
   ]
  },
  {
   "cell_type": "code",
   "execution_count": 53,
   "id": "65664200",
   "metadata": {},
   "outputs": [
    {
     "name": "stdout",
     "output_type": "stream",
     "text": [
      "Welcome To My World\n",
      "Welcome To My World 2Nd\n"
     ]
    }
   ],
   "source": [
    "#title()\n",
    "\n",
    "txt = \"welcome to my world\"\n",
    "print(txt.title())\n",
    "\n",
    "txt2 = \"welcome to my world 2nd\"\n",
    "print(txt2.title())"
   ]
  },
  {
   "cell_type": "code",
   "execution_count": 54,
   "id": "d7aa0023",
   "metadata": {},
   "outputs": [
    {
     "name": "stdout",
     "output_type": "stream",
     "text": [
      "HELLO MY WORLD\n"
     ]
    }
   ],
   "source": [
    "#upper()\n",
    "\n",
    "txt = \"Hello my world\"\n",
    "print(txt.upper())"
   ]
  },
  {
   "cell_type": "code",
   "execution_count": 55,
   "id": "8824909f",
   "metadata": {},
   "outputs": [
    {
     "name": "stdout",
     "output_type": "stream",
     "text": [
      "0000000050\n"
     ]
    }
   ],
   "source": [
    "#zfill()\n",
    "\n",
    "txt = \"50\"\n",
    "print(txt.zfill(10))"
   ]
  },
  {
   "cell_type": "code",
   "execution_count": 56,
   "id": "6bde80ae",
   "metadata": {},
   "outputs": [
    {
     "name": "stdout",
     "output_type": "stream",
     "text": [
      "dlrow olleH\n"
     ]
    }
   ],
   "source": [
    "#reverse()\n",
    "\n",
    "txt = \"Hello world\"[::-1]\n",
    "print(txt)"
   ]
  },
  {
   "cell_type": "code",
   "execution_count": 57,
   "id": "03d00852",
   "metadata": {},
   "outputs": [
    {
     "ename": "TypeError",
     "evalue": "'str' object doesn't support item deletion",
     "output_type": "error",
     "traceback": [
      "\u001b[1;31m---------------------------------------------------------------------------\u001b[0m",
      "\u001b[1;31mTypeError\u001b[0m                                 Traceback (most recent call last)",
      "\u001b[1;32m<ipython-input-57-016e970da401>\u001b[0m in \u001b[0;36m<module>\u001b[1;34m\u001b[0m\n\u001b[0;32m      1\u001b[0m \u001b[0mstr\u001b[0m \u001b[1;33m=\u001b[0m \u001b[1;34m\"Hello world\"\u001b[0m\u001b[1;33m\u001b[0m\u001b[1;33m\u001b[0m\u001b[0m\n\u001b[1;32m----> 2\u001b[1;33m \u001b[1;32mdel\u001b[0m \u001b[0mstr\u001b[0m\u001b[1;33m[\u001b[0m\u001b[1;36m1\u001b[0m\u001b[1;33m]\u001b[0m \u001b[1;31m#string is immutable so it can't be change\u001b[0m\u001b[1;33m\u001b[0m\u001b[1;33m\u001b[0m\u001b[0m\n\u001b[0m",
      "\u001b[1;31mTypeError\u001b[0m: 'str' object doesn't support item deletion"
     ]
    }
   ],
   "source": [
    "str = \"Hello world\"\n",
    "del str[1] #string is immutable so it can't be change"
   ]
  },
  {
   "cell_type": "code",
   "execution_count": 58,
   "id": "de196d1d",
   "metadata": {},
   "outputs": [
    {
     "name": "stdout",
     "output_type": "stream",
     "text": [
      "hello python\n",
      "True\n",
      "hELLO pythON\n"
     ]
    }
   ],
   "source": [
    "#practice\n",
    "txt = \"hello world\"\n",
    "print(txt.replace(\"world\",\"python\")) #replace\n",
    "\n",
    "txt1 = \"abc01\"\n",
    "print(txt1.isidentifier())\n",
    "\n",
    "txt2 = \"Hello PYTHon\"\n",
    "print(txt2.swapcase())"
   ]
  },
  {
   "cell_type": "code",
   "execution_count": 59,
   "id": "911ca45d",
   "metadata": {},
   "outputs": [
    {
     "name": "stdout",
     "output_type": "stream",
     "text": [
      "Total vowel:  15\n",
      "Total consonent:  30\n"
     ]
    }
   ],
   "source": [
    "#counting vowels from string\n",
    "txt = \"hello people and welcome to python university\"\n",
    "vowel = 0\n",
    "consonent = 0\n",
    "for i in range(0,len(txt)):\n",
    "    if(txt[i]!=''):\n",
    "        if(txt[i] == 'a' or txt[i] == 'A' or txt[i] == 'e' or txt[i] == 'E' or txt[i] == 'i' or txt[i] == 'I' or \n",
    "           txt[i] == 'o' or txt[i] == 'O' or txt[i] == 'u' or txt[i] == 'U'):\n",
    "            vowel = vowel+1\n",
    "        else:\n",
    "            consonent = consonent+1\n",
    "print(\"Total vowel: \",vowel)\n",
    "print(\"Total consonent: \",consonent)"
   ]
  },
  {
   "cell_type": "markdown",
   "id": "9444e342",
   "metadata": {},
   "source": [
    "## isdigit"
   ]
  },
  {
   "cell_type": "code",
   "execution_count": 60,
   "id": "a006aded",
   "metadata": {},
   "outputs": [
    {
     "name": "stdout",
     "output_type": "stream",
     "text": [
      "False\n",
      "True\n"
     ]
    }
   ],
   "source": [
    "s1 = \"rushabh\"\n",
    "print(s1.isdigit())\n",
    "\n",
    "s2 = \"12345\"\n",
    "print(s2.isdigit())"
   ]
  },
  {
   "cell_type": "markdown",
   "id": "16b387af",
   "metadata": {},
   "source": [
    "## isdecimal"
   ]
  },
  {
   "cell_type": "code",
   "execution_count": 61,
   "id": "9bc510f2",
   "metadata": {},
   "outputs": [
    {
     "name": "stdout",
     "output_type": "stream",
     "text": [
      "True\n"
     ]
    }
   ],
   "source": [
    "s1 = \"1234556\"\n",
    "print(s1.isdecimal())"
   ]
  },
  {
   "cell_type": "markdown",
   "id": "50ea40f8",
   "metadata": {},
   "source": [
    "## min max"
   ]
  },
  {
   "cell_type": "code",
   "execution_count": 62,
   "id": "6e967750",
   "metadata": {},
   "outputs": [
    {
     "name": "stdout",
     "output_type": "stream",
     "text": [
      " \n",
      "1\n"
     ]
    }
   ],
   "source": [
    "#min\n",
    "s1 = \"Take Apple Zip\"\n",
    "print(min(s1))\n",
    "\n",
    "s2 = 1,2,3,4,5,6,7\n",
    "print(min(s2))"
   ]
  },
  {
   "cell_type": "code",
   "execution_count": 63,
   "id": "f7bec98b",
   "metadata": {},
   "outputs": [
    {
     "name": "stdout",
     "output_type": "stream",
     "text": [
      "r\n",
      "8\n"
     ]
    }
   ],
   "source": [
    "#max\n",
    "s2 = \"Hello World\"\n",
    "print(max(s2))\n",
    "\n",
    "s1 = 1,2,3,4,5,6,7,8\n",
    "print(max(s1))"
   ]
  },
  {
   "cell_type": "markdown",
   "id": "f95c4d03",
   "metadata": {},
   "source": [
    "## istitle"
   ]
  },
  {
   "cell_type": "code",
   "execution_count": 64,
   "id": "f264a364",
   "metadata": {},
   "outputs": [
    {
     "name": "stdout",
     "output_type": "stream",
     "text": [
      "True\n"
     ]
    }
   ],
   "source": [
    "str = \"Hello School Programmers\"\n",
    "print(str.istitle())"
   ]
  },
  {
   "cell_type": "code",
   "execution_count": null,
   "id": "6eb86e53",
   "metadata": {},
   "outputs": [],
   "source": []
  }
 ],
 "metadata": {
  "kernelspec": {
   "display_name": "Python 3",
   "language": "python",
   "name": "python3"
  },
  "language_info": {
   "codemirror_mode": {
    "name": "ipython",
    "version": 3
   },
   "file_extension": ".py",
   "mimetype": "text/x-python",
   "name": "python",
   "nbconvert_exporter": "python",
   "pygments_lexer": "ipython3",
   "version": "3.8.8"
  }
 },
 "nbformat": 4,
 "nbformat_minor": 5
}
