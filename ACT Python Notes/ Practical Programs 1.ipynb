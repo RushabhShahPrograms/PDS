{
 "cells": [
  {
   "cell_type": "markdown",
   "id": "219dd070",
   "metadata": {},
   "source": [
    "1. Shyam wants to know age of his grandfather who was born on 5th June,1947. Kindly help Shyam to know how old is grandfather?\n",
    "Also, print calendar for the month and year on which shyam's grandfather was born."
   ]
  },
  {
   "cell_type": "code",
   "execution_count": 1,
   "id": "798e4eda",
   "metadata": {},
   "outputs": [
    {
     "name": "stdout",
     "output_type": "stream",
     "text": [
      "Enter the year: 1947\n",
      "Enter the month: 6\n",
      "Enter the date: 5\n",
      "74 years old\n",
      "\n",
      "\n",
      "     June 1947\n",
      "Mo Tu We Th Fr Sa Su\n",
      "                   1\n",
      " 2  3  4  5  6  7  8\n",
      " 9 10 11 12 13 14 15\n",
      "16 17 18 19 20 21 22\n",
      "23 24 25 26 27 28 29\n",
      "30\n",
      "\n"
     ]
    }
   ],
   "source": [
    "import datetime\n",
    "import calendar\n",
    "\n",
    "#age code\n",
    "yea = int(input(\"Enter the year: \"))\n",
    "mon = int(input(\"Enter the month: \"))\n",
    "da = int(input(\"Enter the date: \"))\n",
    "dob = datetime.date(yea,mon,da)\n",
    "today = datetime.date.today()\n",
    "year = today.year-dob.year - ((today.month, today.day) < (dob.month, dob.day))\n",
    "print(year,\"years old\")\n",
    "print(\"\\n\")\n",
    "\n",
    "#calendar code\n",
    "year = yea\n",
    "month = mon\n",
    "print(calendar.month(year,month))"
   ]
  },
  {
   "cell_type": "markdown",
   "id": "cffb9481",
   "metadata": {},
   "source": [
    "2. In an online game compitition, a registration form has to be filled up by user. Kindly help user to perform following operation while submitting form.\n",
    "\n",
    "    a) User have to submit their detail and a message should be displayed indicating filled details.\n",
    "\n",
    "    b) Also submitting time of the form should be noted indicating when the form was last edited."
   ]
  },
  {
   "cell_type": "code",
   "execution_count": 2,
   "id": "d39d1096",
   "metadata": {},
   "outputs": [
    {
     "name": "stdout",
     "output_type": "stream",
     "text": [
      "                                         Enter the details for game compitetion                                         \n",
      "Enter the name: Rushabh Sha\n",
      "Enter the age: 21\n",
      "Enter the gender 'male/female': male\n",
      "Enter the contact number: 101010101001010101\n",
      "Enter the email-id: qwer@gmail.com\n",
      "dd/mm/yyyy: 21/12/2000\n",
      "\n",
      "\n",
      "                                                Details of the user are:                                                \n",
      "Name: Rushabh Sha\n",
      "Date Of Birth: 21/12/2000\n",
      "Age: 21\n",
      "Gender: male\n",
      "contact number: 101010101001010101\n",
      "Email: qwer@gmail.com\n",
      "\n",
      "\n",
      "Last edited: 14:53:37 on Wednesday, January 12th, 2022\n"
     ]
    }
   ],
   "source": [
    "import datetime\n",
    "\n",
    "txt = \"Enter the details for game compitetion\"\n",
    "x = txt.center(120)\n",
    "print(x)\n",
    "name = input(\"Enter the name: \")\n",
    "age = int(input(\"Enter the age: \"))\n",
    "gender = input(\"Enter the gender 'male/female': \")\n",
    "contact = int(input(\"Enter the contact number: \"))\n",
    "email = input(\"Enter the email-id: \")\n",
    "DOB = input(\"dd/mm/yyyy: \")\n",
    "\n",
    "print(\"\\n\")\n",
    "\n",
    "txt1 = \"Details of the user are:\"\n",
    "x1 = txt1.center(120)\n",
    "print(x1)\n",
    "\n",
    "print(\"Name:\",name)\n",
    "print(\"Date Of Birth:\",DOB)\n",
    "print(\"Age:\",age)\n",
    "print(\"Gender:\",gender)\n",
    "print(\"contact number:\",contact)\n",
    "print(\"Email:\",email)\n",
    "\n",
    "print(\"\\n\")\n",
    "now = datetime.datetime.now()\n",
    "print(\"Last edited:\",now.strftime('%H:%M:%S on %A, %B %dth, %Y'))"
   ]
  },
  {
   "cell_type": "markdown",
   "id": "3b7d74f7",
   "metadata": {},
   "source": [
    "3. Given a number game one needs to generate any random number, iterate through the all digits present and print the sum of all digits. Here is a sample run:\n",
    "Enter a number between 1 and 1000: 43\n",
    "The sum of digits is 7"
   ]
  },
  {
   "cell_type": "code",
   "execution_count": 3,
   "id": "f3ab7f2c",
   "metadata": {},
   "outputs": [
    {
     "name": "stdout",
     "output_type": "stream",
     "text": [
      "Enter the number between 1 to 1000: 43\n",
      "The sum of digits is:  7\n"
     ]
    }
   ],
   "source": [
    "sum = 0\n",
    "n = int(input(\"Enter the number between 1 to 1000: \"))\n",
    "if(1<=n<=1000):\n",
    "    while(n!=0):\n",
    "        digit = int(n%10)\n",
    "        sum += digit\n",
    "        n /= 10\n",
    "print(\"The sum of digits is: \",sum)"
   ]
  }
 ],
 "metadata": {
  "kernelspec": {
   "display_name": "Python 3",
   "language": "python",
   "name": "python3"
  },
  "language_info": {
   "codemirror_mode": {
    "name": "ipython",
    "version": 3
   },
   "file_extension": ".py",
   "mimetype": "text/x-python",
   "name": "python",
   "nbconvert_exporter": "python",
   "pygments_lexer": "ipython3",
   "version": "3.8.8"
  }
 },
 "nbformat": 4,
 "nbformat_minor": 5
}
