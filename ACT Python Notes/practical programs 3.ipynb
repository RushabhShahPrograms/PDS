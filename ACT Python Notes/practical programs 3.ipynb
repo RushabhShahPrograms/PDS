{
 "cells": [
  {
   "cell_type": "markdown",
   "id": "ed6d34d5",
   "metadata": {},
   "source": [
    "1. Four friends are playing cards. One person has to assume whether the opponent is giving\n",
    "correct judgment or not? The scenario is to simulate a person to pick a card from a deck of 52 cards. The opponent should be able to recognize the rank and suit of the card. i.e. (Rank can be: Ace, 2, 3, 4, 5, 6, 7, 8, 9, 10, Jack, Queen, king) and suit: Clubs, Diamonds, Heart, Spades). Here is a sample run of the program: The card you picked is the Jack of Hearts.\n",
    "\n",
    "\n",
    "\n"
   ]
  },
  {
   "cell_type": "code",
   "execution_count": 19,
   "id": "5d3bb694",
   "metadata": {},
   "outputs": [
    {
     "name": "stdout",
     "output_type": "stream",
     "text": [
      "The card you picked is 10 of Club\n"
     ]
    }
   ],
   "source": [
    "import itertools, random\n",
    "deck = list(itertools.product(range(1,14),['Spade','Heart','Diamond','Club']))\n",
    "random.shuffle(deck)\n",
    "\n",
    "for i in range(1):\n",
    "    if(deck[i][0]==11):\n",
    "        print(\"The card you picked is the Jack of\", deck[i][1])\n",
    "    elif(deck[i][0]==12):\n",
    "        print(\"The card you picked is the Queen of\", deck[i][1])\n",
    "    elif(deck[i][0]==13):\n",
    "        print(\"The card you picked is the King of\", deck[i][1])\n",
    "    else:\n",
    "        print(\"The card you picked is\",deck[i][0],\"of\", deck[i][1])"
   ]
  },
  {
   "cell_type": "markdown",
   "id": "5e6ed7aa",
   "metadata": {},
   "source": [
    "2. An astrologer is interested to do analysis for the calculations w.r.t zodiac signs. The\n",
    "zodiac sign depends upon the month, day and date on which any person is born. To make his work easy, help the astrologer to display first days of each month by considering his requirements. He has to only provide the year and first day of the year. Sample: if the user entered year 2021, and 5 for Friday, January 1, 2021, the program should display the following output: January 1, 2021 is Friday\n",
    "December 1, 2021 is Wednesday."
   ]
  },
  {
   "cell_type": "code",
   "execution_count": 2,
   "id": "7bd9c744",
   "metadata": {},
   "outputs": [
    {
     "name": "stdout",
     "output_type": "stream",
     "text": [
      "Enter the date(for example:09 02 2019):21 12 2022\n",
      "Wednesday\n"
     ]
    }
   ],
   "source": [
    "import datetime  \n",
    "from datetime import date \n",
    "date=str(input('Enter the date(for example:09 02 2019):'))\n",
    "day, month, year = date.split(' ')     \n",
    "day_name = datetime.date(int(year), int(month), int(day)) \n",
    "print(day_name.strftime(\"%A\")) "
   ]
  },
  {
   "cell_type": "markdown",
   "id": "8f3a6864",
   "metadata": {},
   "source": [
    "3. A teaching assistance is asked to prepare program to generate a quiz corresponding to\n",
    "faculties requirement. The program should generate questions depending on faculties requirement should report correct answers after a student answers all of them. Also, the time spent on the test by each student should be known."
   ]
  },
  {
   "cell_type": "code",
   "execution_count": 37,
   "id": "39492d11",
   "metadata": {},
   "outputs": [
    {
     "name": "stdout",
     "output_type": "stream",
     "text": [
      "How many questions should be asked in the Quiz?: 3\n",
      "Enter the Subject of Quiz: Maths\n",
      "\n",
      "\n",
      "enter the questions with two options: 1] 2+2? a)4 b)6,2] 4*4? a)18 b)16,3] 8/2? a)4 b)2\n",
      "\n",
      "\n",
      "Enter the answer of given questions: a)4,b)16,a)4\n",
      "\n",
      "\n",
      "\n",
      "\n",
      "\n",
      "\n",
      "Your questions are: \n",
      "1] 2+2? a)4 b)6\n",
      "2] 4*4? a)18 b)16\n",
      "3] 8/2? a)4 b)2\n",
      "Give your answers a)4,b)16,a)4\n",
      "===========================\n",
      "\n",
      "\n",
      "Time taken by student to complete the quiz 4.176230430603027\n",
      "============================\n",
      "\n",
      "\n",
      "Total corrects are : 3\n"
     ]
    }
   ],
   "source": [
    "import time\n",
    "#Generating the quiz according to the faculty requirement\n",
    "\n",
    "a = int(input(\"How many questions should be asked in the Quiz?: \"))\n",
    "b = input(\"Enter the Subject of Quiz: \")\n",
    "print(\"\\n\")\n",
    "\n",
    "#entering question\n",
    "c = input(\"enter the questions with two options: \").split(',')[:a] \n",
    "print(\"\\n\")\n",
    "\n",
    "#giving solutions\n",
    "d = input(\"Enter the answer of given questions: \").split(',')[:a]\n",
    "d = list(d)\n",
    "\n",
    "print(\"\\n\")\n",
    "print(\"\\n\")\n",
    "#Student giving quiz\n",
    "print(\"Your questions are: \")\n",
    "print(*c,sep=\"\\n\")\n",
    "start = time.time()\n",
    "e = input(\"Give your answers \").split(',')[:a]\n",
    "time.sleep(1)\n",
    "end = time.time()\n",
    "print(\"\\n\")\n",
    "print(\"===========================\")\n",
    "print(f\"Time taken by student to complete the quiz {end - start}\")\n",
    "print(\"============================\")\n",
    "print(\"\\n\")\n",
    "e=list(e)\n",
    "res = len([d.index(i) for i in e])\n",
    "print(\"Total corrects are : \" + str(res))"
   ]
  },
  {
   "cell_type": "code",
   "execution_count": null,
   "id": "670a7130",
   "metadata": {},
   "outputs": [],
   "source": []
  }
 ],
 "metadata": {
  "kernelspec": {
   "display_name": "Python 3",
   "language": "python",
   "name": "python3"
  },
  "language_info": {
   "codemirror_mode": {
    "name": "ipython",
    "version": 3
   },
   "file_extension": ".py",
   "mimetype": "text/x-python",
   "name": "python",
   "nbconvert_exporter": "python",
   "pygments_lexer": "ipython3",
   "version": "3.8.8"
  }
 },
 "nbformat": 4,
 "nbformat_minor": 5
}
