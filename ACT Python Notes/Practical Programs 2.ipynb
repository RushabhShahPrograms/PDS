{
 "cells": [
  {
   "cell_type": "markdown",
   "id": "85f46067",
   "metadata": {},
   "source": [
    "1. You are developing a program that classifies a given amount of money into smaller monetary units. The program lets the user enter an amount representing a total in dollars and cents, and then outputs a report listing the monetary equivalent in dollars, quarters, dimes, nickels, and pennies, as shown in the sample run. Your program should report the maximum number of dollars, then the number of quarters, dimes, nickels, and pennies, in this order, to result in the minimum number of coins. Here is a sample run:\n",
    "\n",
    "Enter an amount in double, for example 11.56: 11.56\n",
    "\n",
    "Your amount 11.56 consists of\n",
    "\n",
    "11 dollars\n",
    "\n",
    "2 quarters\n",
    "\n",
    "0 dimes\n",
    "\n",
    "1 nickels 1 pennies"
   ]
  },
  {
   "cell_type": "code",
   "execution_count": 1,
   "id": "7970cdb8",
   "metadata": {},
   "outputs": [
    {
     "name": "stdout",
     "output_type": "stream",
     "text": [
      "Enter the amount: 11.56\n",
      "Your amount 11.56 consists of: \n",
      "Dollars: 11\n",
      "Quarter: 2\n",
      "Dimes: 0\n",
      "Nickels: 1\n",
      "Pennies: 1\n"
     ]
    }
   ],
   "source": [
    "amount = float(input(\"Enter the amount: \"))\n",
    "ramount = int(amount*100)\n",
    "\n",
    "#dollar\n",
    "dollar = ramount/100\n",
    "ramount %= 100\n",
    "\n",
    "#quarter\n",
    "quarter = ramount/25\n",
    "ramount %= 25\n",
    "\n",
    "#dimes\n",
    "dimes = ramount/10\n",
    "ramount %= 10\n",
    "\n",
    "#nickels\n",
    "nickels = ramount/5\n",
    "ramount %= 5\n",
    "\n",
    "#penny\n",
    "penny = ramount\n",
    "\n",
    "#display\n",
    "print(\"Your amount\",amount,\"consists of: \")\n",
    "print(\"Dollars:\",int(dollar))\n",
    "print(\"Quarter:\",int(quarter))\n",
    "print(\"Dimes:\",int(dimes))\n",
    "print(\"Nickels:\",int(nickels))\n",
    "print(\"Pennies:\",int(penny))"
   ]
  },
  {
   "cell_type": "markdown",
   "id": "68081af4",
   "metadata": {},
   "source": [
    "2. Suppose you want to develop a program to play a lottery. The program randomly generates a two-digit number, prompts the user to enter a two digit number, and determines whether the user wins according to the following rules:\n",
    "\n",
    "\n",
    "    a. If the user's input matches the lottery in the exact order, the award is $10,000.\n",
    "\n",
    "    b. If all the digits in the user's input match all the digits in the lottery number, the award is $5,000.\n",
    "    \n",
    "    \n",
    "    c. If one digit in the user's input matches a digit in the lottery number, the award is $2,000 "
   ]
  },
  {
   "cell_type": "code",
   "execution_count": 2,
   "id": "7cc193d0",
   "metadata": {},
   "outputs": [
    {
     "name": "stdout",
     "output_type": "stream",
     "text": [
      "46\n",
      "Enter two digit number: 56\n",
      "One digit match: you get $2,000\n"
     ]
    }
   ],
   "source": [
    "import random\n",
    "lottery = random.randint(10,99)\n",
    "num = int(input(\"Enter two digit number: \"))\n",
    "\n",
    "#separating digits from lottery\n",
    "lottery_number_digit1 = int(lottery / 10)\n",
    "lottery_number_digit2 = lottery % 10\n",
    "\n",
    "#separating digits num\n",
    "number_digit1 = int(num / 10)\n",
    "number_digit2 = num % 10\n",
    "\n",
    "exact_match = (lottery == num)\n",
    "match_all_digits = (lottery_number_digit1 == number_digit1 and lottery_number_digit2 == number_digit2)\n",
    "match_one_digits = (lottery_number_digit1 == number_digit1 or lottery_number_digit1 == number_digit2 or lottery_number_digit2 == number_digit1 or lottery_number_digit2 == number_digit2)\n",
    "\n",
    "if(lottery == num):\n",
    "    print(\"Exact match: you get $10,000\")\n",
    "elif(match_all_digits):\n",
    "    print(\"All digits match: you get $5,000\")\n",
    "elif(match_one_digits):\n",
    "    print(\"One digit match: you get $2,000\")\n",
    "else:\n",
    "    print(\"Sorry no match\")"
   ]
  },
  {
   "cell_type": "markdown",
   "id": "80532ba2",
   "metadata": {},
   "source": [
    "3. Guessing Numbers: The problem is to guess what number a computer has in mind. You will write a program that randomly generates an integer between 0 and 100, inclusive. The program prompts the user to enter numbers continuously until it matches the randomly generated number. For each user input, the program reports whether it is too low or too high, so the user can choose the next input intelligently. Sample Run:\n",
    "\n",
    "Guess a magic number between 0 and 100 Enter your guess: 50\n",
    "\n",
    "Your guess is too high\n",
    "\n",
    "Enter your guess: 25\n",
    "\n",
    "Your guess is too low\n",
    "\n",
    "Enter your guess: 42\n",
    "\n",
    "Your guess is too high\n",
    "\n",
    "Enter your guess: 39\n",
    "\n",
    "Yes, the number is 39"
   ]
  },
  {
   "cell_type": "code",
   "execution_count": 3,
   "id": "5fe2df6c",
   "metadata": {},
   "outputs": [
    {
     "name": "stdout",
     "output_type": "stream",
     "text": [
      "Guess a magic number between 0 and 100 Enter your guess: 78\n",
      "Your guess is too high\n"
     ]
    }
   ],
   "source": [
    "import random\n",
    "number = random.randint(0,100)\n",
    "\n",
    "guess = int(input(\"Guess a magic number between 0 and 100 Enter your guess: \"))\n",
    "\n",
    "if(guess == number):\n",
    "    print(\"Yes, the number is\",number)\n",
    "elif(guess > number):\n",
    "    print(\"Your guess is too high\")\n",
    "else:\n",
    "    print(\"Your guess is too low\")"
   ]
  },
  {
   "cell_type": "code",
   "execution_count": null,
   "id": "e322f81d",
   "metadata": {},
   "outputs": [],
   "source": []
  }
 ],
 "metadata": {
  "kernelspec": {
   "display_name": "Python 3",
   "language": "python",
   "name": "python3"
  },
  "language_info": {
   "codemirror_mode": {
    "name": "ipython",
    "version": 3
   },
   "file_extension": ".py",
   "mimetype": "text/x-python",
   "name": "python",
   "nbconvert_exporter": "python",
   "pygments_lexer": "ipython3",
   "version": "3.8.8"
  }
 },
 "nbformat": 4,
 "nbformat_minor": 5
}
