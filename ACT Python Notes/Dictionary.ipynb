{
 "cells": [
  {
   "cell_type": "markdown",
   "id": "2c747b88",
   "metadata": {},
   "source": [
    "# Dictionary"
   ]
  },
  {
   "cell_type": "markdown",
   "id": "489d990e",
   "metadata": {},
   "source": [
    "Python Dictionary is used to store the data in a key-value pair format. The dictionary is the data type in Python, which can simulate the real-life data arrangement where some specific value exists for some particular key. It is the mutable data-structure. The dictionary is defined into element Keys and values.\n",
    "\n",
    "Keys must be a single element.\n",
    "Value can be any type such as list, tuple, integer, etc.\n",
    "\n",
    "In other words, we can say that a dictionary is the collection of key-value pairs where the value can be any Python object. In contrast, the keys are the immutable Python object, i.e., Numbers, string, or tuple."
   ]
  },
  {
   "cell_type": "markdown",
   "id": "6014f441",
   "metadata": {},
   "source": [
    "## Creating Dictionary"
   ]
  },
  {
   "cell_type": "code",
   "execution_count": 1,
   "id": "4213956b",
   "metadata": {},
   "outputs": [
    {
     "name": "stdout",
     "output_type": "stream",
     "text": [
      "{'name': 'rushabh', 'city': 'ahmedabad', 'year': '2022'}\n"
     ]
    }
   ],
   "source": [
    "dic = {\"name\":\"rushabh\",\"city\":\"ahmedabad\",\"year\":\"2022\"}\n",
    "print(dic)"
   ]
  },
  {
   "cell_type": "markdown",
   "id": "4def9418",
   "metadata": {},
   "source": [
    "## Accessing Item"
   ]
  },
  {
   "cell_type": "code",
   "execution_count": 2,
   "id": "7d5a2af7",
   "metadata": {},
   "outputs": [
    {
     "name": "stdout",
     "output_type": "stream",
     "text": [
      "ahmedabad\n"
     ]
    }
   ],
   "source": [
    "dic = {\"name\":\"rushabh\",\"city\":\"ahmedabad\",\"year\":\"2022\"}\n",
    "x = dic.get(\"city\")\n",
    "print(x)"
   ]
  },
  {
   "cell_type": "markdown",
   "id": "123a9d4f",
   "metadata": {},
   "source": [
    "## Change Value"
   ]
  },
  {
   "cell_type": "code",
   "execution_count": 3,
   "id": "79815ef8",
   "metadata": {},
   "outputs": [
    {
     "name": "stdout",
     "output_type": "stream",
     "text": [
      "{'name': 'rushabh', 'city': 'ahmedabad', 'year': 2023}\n"
     ]
    }
   ],
   "source": [
    "dic = {\"name\":\"rushabh\",\"city\":\"ahmedabad\",\"year\":\"2022\"}\n",
    "dic[\"year\"] = 2023\n",
    "print(dic)"
   ]
  },
  {
   "cell_type": "markdown",
   "id": "121e351d",
   "metadata": {},
   "source": [
    "## Using Loop"
   ]
  },
  {
   "cell_type": "code",
   "execution_count": 4,
   "id": "e15200c8",
   "metadata": {},
   "outputs": [
    {
     "name": "stdout",
     "output_type": "stream",
     "text": [
      "name\n",
      "city\n",
      "year\n"
     ]
    }
   ],
   "source": [
    "dic = {\"name\":\"rushabh\",\"city\":\"ahmedabad\",\"year\":\"2022\"}\n",
    "for i in dic:\n",
    "    print(i)      #this will print only 'keys'"
   ]
  },
  {
   "cell_type": "code",
   "execution_count": 5,
   "id": "57f62865",
   "metadata": {},
   "outputs": [
    {
     "name": "stdout",
     "output_type": "stream",
     "text": [
      "rushabh\n",
      "ahmedabad\n",
      "2022\n"
     ]
    }
   ],
   "source": [
    "dic = {\"name\":\"rushabh\",\"city\":\"ahmedabad\",\"year\":\"2022\"}\n",
    "for i in dic:\n",
    "    print(dic[i])  #this will print only 'values'"
   ]
  },
  {
   "cell_type": "code",
   "execution_count": 6,
   "id": "208d4a52",
   "metadata": {},
   "outputs": [
    {
     "name": "stdout",
     "output_type": "stream",
     "text": [
      "rushabh\n",
      "ahmedabad\n",
      "2022\n"
     ]
    }
   ],
   "source": [
    "dic = {\"name\":\"rushabh\",\"city\":\"ahmedabad\",\"year\":\"2022\"}\n",
    "for i in dic.values(): #values() is inbuilt function in python use to print values from the given dictionary\n",
    "    print(i)"
   ]
  },
  {
   "cell_type": "code",
   "execution_count": 7,
   "id": "10de8b6e",
   "metadata": {},
   "outputs": [
    {
     "name": "stdout",
     "output_type": "stream",
     "text": [
      "name\n",
      "city\n",
      "year\n"
     ]
    }
   ],
   "source": [
    "dic = {\"name\":\"rushabh\",\"city\":\"ahmedabad\",\"year\":\"2022\"}\n",
    "for i in dic.keys(): #keys() is inbuilt function in python use to print keys from the given dictionary\n",
    "    print(i)"
   ]
  },
  {
   "cell_type": "code",
   "execution_count": 8,
   "id": "cc538cf3",
   "metadata": {},
   "outputs": [
    {
     "name": "stdout",
     "output_type": "stream",
     "text": [
      "('name', 'rushabh')\n",
      "('city', 'ahmedabad')\n",
      "('year', '2022')\n"
     ]
    }
   ],
   "source": [
    "dic = {\"name\":\"rushabh\",\"city\":\"ahmedabad\",\"year\":\"2022\"}\n",
    "for i in dic.items(): #items() is inbuilt function in python use to print key and values from the given dictionary\n",
    "    print(i)"
   ]
  },
  {
   "cell_type": "markdown",
   "id": "b1c61d59",
   "metadata": {},
   "source": [
    "## Check if key exist or not"
   ]
  },
  {
   "cell_type": "code",
   "execution_count": 9,
   "id": "f6b6221c",
   "metadata": {},
   "outputs": [
    {
     "name": "stdout",
     "output_type": "stream",
     "text": [
      "Yes 'city' it exist in dictionary\n"
     ]
    }
   ],
   "source": [
    "dic = {\"name\":\"rushabh\",\"city\":\"ahmedabad\",\"year\":\"2022\"}\n",
    "if \"city\" in dic:\n",
    "    print(\"Yes 'city' it exist in dictionary\")\n",
    "else:\n",
    "    print(\"No 'city' does not exist\")"
   ]
  },
  {
   "cell_type": "code",
   "execution_count": 10,
   "id": "75f71820",
   "metadata": {},
   "outputs": [
    {
     "name": "stdout",
     "output_type": "stream",
     "text": [
      "Yes 'city' it exist in dictionary\n"
     ]
    }
   ],
   "source": [
    "dic = {\"name\":\"rushabh\",\"city\":\"ahmedabad\",\"year\":\"2022\"}\n",
    "if \"city\" in dic.keys():  #finding key using inbuilt function\n",
    "    print(\"Yes 'city' it exist in dictionary\")\n",
    "else:\n",
    "    print(\"No 'city' does not exist\")"
   ]
  },
  {
   "cell_type": "markdown",
   "id": "d5a369ce",
   "metadata": {},
   "source": [
    "## Check if value exist or not"
   ]
  },
  {
   "cell_type": "code",
   "execution_count": 11,
   "id": "20454d68",
   "metadata": {},
   "outputs": [
    {
     "name": "stdout",
     "output_type": "stream",
     "text": [
      "Yes 'rushabh' it exist in dictionary\n"
     ]
    }
   ],
   "source": [
    "dic = {\"name\":\"rushabh\",\"city\":\"ahmedabad\",\"year\":\"2022\"}\n",
    "if \"rushabh\" in dic.values(): #finding values using inbuilt function\n",
    "    print(\"Yes 'rushabh' it exist in dictionary\")\n",
    "else:\n",
    "    print(\"No 'rushabh' does not exist\")"
   ]
  },
  {
   "cell_type": "markdown",
   "id": "8663e0fd",
   "metadata": {},
   "source": [
    "## Find Length"
   ]
  },
  {
   "cell_type": "code",
   "execution_count": 12,
   "id": "6e8efcb6",
   "metadata": {},
   "outputs": [
    {
     "name": "stdout",
     "output_type": "stream",
     "text": [
      "3\n"
     ]
    }
   ],
   "source": [
    "dic = {\"name\":\"rushabh\",\"city\":\"ahmedabad\",\"year\":\"2022\"}\n",
    "print(len(dic))"
   ]
  },
  {
   "cell_type": "markdown",
   "id": "37387eef",
   "metadata": {},
   "source": [
    "## Adding Key And Values"
   ]
  },
  {
   "cell_type": "code",
   "execution_count": 13,
   "id": "e58ac712",
   "metadata": {},
   "outputs": [
    {
     "name": "stdout",
     "output_type": "stream",
     "text": [
      "{'name': 'rushabh', 'city': 'ahmedabad', 'year': '2022', 'color': 'Blue'}\n"
     ]
    }
   ],
   "source": [
    "dic = {\"name\":\"rushabh\",\"city\":\"ahmedabad\",\"year\":\"2022\"}\n",
    "dic[\"color\"] = \"Blue\"\n",
    "print(dic)"
   ]
  },
  {
   "cell_type": "markdown",
   "id": "7c7d386c",
   "metadata": {},
   "source": [
    "## Delete Funtion"
   ]
  },
  {
   "cell_type": "markdown",
   "id": "0ce29272",
   "metadata": {},
   "source": [
    "### Pop"
   ]
  },
  {
   "cell_type": "code",
   "execution_count": 14,
   "id": "4793206c",
   "metadata": {},
   "outputs": [
    {
     "name": "stdout",
     "output_type": "stream",
     "text": [
      "{'name': 'rushabh', 'year': '2022', 'color': 'Blue'}\n"
     ]
    }
   ],
   "source": [
    "dic = {\"name\":\"rushabh\",\"city\":\"ahmedabad\",\"year\":\"2022\",\"color\":\"Blue\"}\n",
    "dic.pop(\"city\")\n",
    "print(dic)"
   ]
  },
  {
   "cell_type": "markdown",
   "id": "0a2e16e1",
   "metadata": {},
   "source": [
    "### Pop Item"
   ]
  },
  {
   "cell_type": "code",
   "execution_count": 15,
   "id": "1cd69006",
   "metadata": {},
   "outputs": [
    {
     "name": "stdout",
     "output_type": "stream",
     "text": [
      "{'name': 'rushabh', 'city': 'ahmedabad', 'year': '2022'}\n"
     ]
    }
   ],
   "source": [
    "dic = {\"name\":\"rushabh\",\"city\":\"ahmedabad\",\"year\":\"2022\",\"color\":\"Blue\"}\n",
    "dic.popitem()\n",
    "print(dic)"
   ]
  },
  {
   "cell_type": "markdown",
   "id": "779d4448",
   "metadata": {},
   "source": [
    "### Delete"
   ]
  },
  {
   "cell_type": "code",
   "execution_count": 16,
   "id": "6ab47381",
   "metadata": {},
   "outputs": [
    {
     "name": "stdout",
     "output_type": "stream",
     "text": [
      "{'name': 'rushabh', 'city': 'ahmedabad', 'color': 'Blue'}\n"
     ]
    }
   ],
   "source": [
    "dic = {\"name\":\"rushabh\",\"city\":\"ahmedabad\",\"year\":\"2022\",\"color\":\"Blue\"}\n",
    "del dic[\"year\"]\n",
    "print(dic)"
   ]
  },
  {
   "cell_type": "markdown",
   "id": "3baa9452",
   "metadata": {},
   "source": [
    "### Clear "
   ]
  },
  {
   "cell_type": "code",
   "execution_count": 17,
   "id": "b443527a",
   "metadata": {},
   "outputs": [
    {
     "name": "stdout",
     "output_type": "stream",
     "text": [
      "{}\n"
     ]
    }
   ],
   "source": [
    "dic = {\"name\":\"rushabh\",\"city\":\"ahmedabad\",\"year\":\"2022\",\"color\":\"Blue\"}\n",
    "dic.clear()\n",
    "print(dic)"
   ]
  },
  {
   "cell_type": "markdown",
   "id": "d5386824",
   "metadata": {},
   "source": [
    "## Copy"
   ]
  },
  {
   "cell_type": "code",
   "execution_count": 18,
   "id": "4a48a893",
   "metadata": {},
   "outputs": [
    {
     "name": "stdout",
     "output_type": "stream",
     "text": [
      "{'name': 'rushabh', 'city': 'ahmedabad', 'year': '2022', 'color': 'Blue'}\n",
      "{'name': 'xyz', 'city': 'Mumbai', 'year': '2032', 'color': 'Black'}\n"
     ]
    }
   ],
   "source": [
    "dic = {\"name\":\"rushabh\",\"city\":\"ahmedabad\",\"year\":\"2022\",\"color\":\"Blue\"}\n",
    "mydic = dic.copy()               #using copy() method\n",
    "print(mydic)\n",
    "\n",
    "dic1 = {\"name\":\"xyz\",\"city\":\"Mumbai\",\"year\":\"2032\",\"color\":\"Black\"}\n",
    "mydic1 = dict(dic1)             #using inbuilt function 'dict()'\n",
    "print(mydic1)"
   ]
  },
  {
   "cell_type": "markdown",
   "id": "c9ee85fa",
   "metadata": {},
   "source": [
    "## Nested Dictionary"
   ]
  },
  {
   "cell_type": "code",
   "execution_count": 19,
   "id": "6b5f9b07",
   "metadata": {},
   "outputs": [
    {
     "name": "stdout",
     "output_type": "stream",
     "text": [
      "{'key1': 0, 'key2': 0, 'key3': 0}\n"
     ]
    }
   ],
   "source": [
    "#from keys\n",
    "\n",
    "x = {\"key1\",\"key2\",\"key3\"}\n",
    "y=0\n",
    "dic = dict.fromkeys(x,y)\n",
    "print(dic)"
   ]
  },
  {
   "cell_type": "code",
   "execution_count": 20,
   "id": "2c530de1",
   "metadata": {},
   "outputs": [
    {
     "name": "stdout",
     "output_type": "stream",
     "text": [
      "{'key1': 0, 'key2': 0, 'key3': 0}\n"
     ]
    }
   ],
   "source": [
    "x = {\"key1\",\"key2\",\"key3\"}\n",
    "dic = dict.fromkeys(x,y)\n",
    "print(dic)"
   ]
  },
  {
   "cell_type": "code",
   "execution_count": 21,
   "id": "f828e1de",
   "metadata": {},
   "outputs": [
    {
     "name": "stdout",
     "output_type": "stream",
     "text": [
      "dict_items([('name', 'rushabh'), ('city', 'ahmedabad'), ('year', '2022'), ('color', 'Blue')])\n"
     ]
    }
   ],
   "source": [
    "#items() method\n",
    "\n",
    "dic = {\"name\":\"rushabh\",\"city\":\"ahmedabad\",\"year\":\"2022\",\"color\":\"Blue\"}\n",
    "x = dic.items()\n",
    "print(x)"
   ]
  },
  {
   "cell_type": "code",
   "execution_count": 22,
   "id": "8f2edfc1",
   "metadata": {},
   "outputs": [
    {
     "name": "stdout",
     "output_type": "stream",
     "text": [
      "dict_keys(['name', 'city', 'year', 'color'])\n"
     ]
    }
   ],
   "source": [
    "#key() method\n",
    "\n",
    "dic = {\"name\":\"rushabh\",\"city\":\"ahmedabad\",\"year\":\"2022\",\"color\":\"Blue\"}\n",
    "x = dic.keys()\n",
    "print(x)"
   ]
  },
  {
   "cell_type": "code",
   "execution_count": 23,
   "id": "962acede",
   "metadata": {},
   "outputs": [
    {
     "name": "stdout",
     "output_type": "stream",
     "text": [
      "dict_keys(['name', 'city', 'year', 'color', 'college'])\n"
     ]
    }
   ],
   "source": [
    "#add values\n",
    "\n",
    "dic = {\"name\":\"rushabh\",\"city\":\"ahmedabad\",\"year\":\"2022\",\"color\":\"Blue\"}\n",
    "x = dic.keys()\n",
    "dic[\"college\"] = \"LJIET\"\n",
    "print(x)"
   ]
  },
  {
   "cell_type": "code",
   "execution_count": 24,
   "id": "be74ae5f",
   "metadata": {},
   "outputs": [
    {
     "name": "stdout",
     "output_type": "stream",
     "text": [
      "python\n"
     ]
    }
   ],
   "source": [
    "#setdefault()\n",
    "\n",
    "dic = {\"name\":\"rushabh\",\"city\":\"ahmedabad\",\"year\":\"2022\",\"color\":\"Blue\"}\n",
    "x = dic.setdefault(\"lang:\",\"python\")\n",
    "print(x)"
   ]
  },
  {
   "cell_type": "code",
   "execution_count": 25,
   "id": "f0149c5b",
   "metadata": {},
   "outputs": [
    {
     "name": "stdout",
     "output_type": "stream",
     "text": [
      "{'name': 'rushabh', 'city': 'ahmedabad', 'year': '2022', 'color': 'Blue', 'lang:': 'python', 'value': 12}\n"
     ]
    }
   ],
   "source": [
    "#update\n",
    "\n",
    "dic = {'name': 'rushabh', 'city': 'ahmedabad', 'year': '2022', 'color': 'Blue', 'lang:': 'python'}\n",
    "dic.update({'value':12})\n",
    "print(dic)"
   ]
  },
  {
   "cell_type": "code",
   "execution_count": 26,
   "id": "bc4249ff",
   "metadata": {},
   "outputs": [
    {
     "name": "stdout",
     "output_type": "stream",
     "text": [
      "dict_values(['rushabh', 'ahmedabad', '2022', 'Blue', 'python'])\n"
     ]
    }
   ],
   "source": [
    "#values()\n",
    "\n",
    "dic = {'name': 'rushabh', 'city': 'ahmedabad', 'year': '2022', 'color': 'Blue', 'lang:': 'python'}\n",
    "x = dic.values()\n",
    "print(x)"
   ]
  },
  {
   "cell_type": "code",
   "execution_count": 27,
   "id": "94dd1f85",
   "metadata": {},
   "outputs": [
    {
     "name": "stdout",
     "output_type": "stream",
     "text": [
      "dict_values(['rushabh', 'ahmedabad', '2022', 'Blue', 'python', 12, 'py'])\n"
     ]
    }
   ],
   "source": [
    "#values update\n",
    "\n",
    "dic = {'name': 'rushabh', 'city': 'ahmedabad', 'year': '2022', 'color': 'Blue', 'lang:': 'python', 'value': 12}\n",
    "x = dic.values()\n",
    "dic[\"fav\"] = \"py\"\n",
    "print(x)"
   ]
  },
  {
   "cell_type": "code",
   "execution_count": null,
   "id": "82360cc9",
   "metadata": {},
   "outputs": [],
   "source": []
  }
 ],
 "metadata": {
  "kernelspec": {
   "display_name": "Python 3",
   "language": "python",
   "name": "python3"
  },
  "language_info": {
   "codemirror_mode": {
    "name": "ipython",
    "version": 3
   },
   "file_extension": ".py",
   "mimetype": "text/x-python",
   "name": "python",
   "nbconvert_exporter": "python",
   "pygments_lexer": "ipython3",
   "version": "3.8.8"
  }
 },
 "nbformat": 4,
 "nbformat_minor": 5
}
