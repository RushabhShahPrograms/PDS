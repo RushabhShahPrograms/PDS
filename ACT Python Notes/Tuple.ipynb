{
 "cells": [
  {
   "cell_type": "markdown",
   "id": "1a152704",
   "metadata": {},
   "source": [
    "# Tuple"
   ]
  },
  {
   "cell_type": "code",
   "execution_count": 1,
   "id": "4d710084",
   "metadata": {},
   "outputs": [
    {
     "name": "stdout",
     "output_type": "stream",
     "text": [
      "('a', 'b', 'c')\n",
      "Type:  <class 'tuple'>\n"
     ]
    }
   ],
   "source": [
    "thistuple = (\"a\",\"b\",\"c\")\n",
    "print(thistuple)\n",
    "print(\"Type: \",type(thistuple))"
   ]
  },
  {
   "cell_type": "markdown",
   "id": "ad123ce8",
   "metadata": {},
   "source": [
    "## Access Items"
   ]
  },
  {
   "cell_type": "code",
   "execution_count": 2,
   "id": "566e5a43",
   "metadata": {},
   "outputs": [
    {
     "name": "stdout",
     "output_type": "stream",
     "text": [
      "(1, 2, 3, 4, 'y', 'g', 'u')\n",
      "g\n"
     ]
    }
   ],
   "source": [
    "a = (1,2,3,4,\"y\",\"g\",\"u\")\n",
    "print(a)               #to select entire tuple list\n",
    "print(a[5])            #to select particular tuple member"
   ]
  },
  {
   "cell_type": "markdown",
   "id": "c113351b",
   "metadata": {},
   "source": [
    "## Negative Indexing"
   ]
  },
  {
   "cell_type": "code",
   "execution_count": 4,
   "id": "f1804617",
   "metadata": {},
   "outputs": [
    {
     "name": "stdout",
     "output_type": "stream",
     "text": [
      "7\n",
      "4\n",
      "t\n"
     ]
    }
   ],
   "source": [
    "a = (\"a\",\"b\",\"c\",\"t\",\"e\",1,2,3,4,5,6,7)\n",
    "print(a[-1])\n",
    "print(a[-4])\n",
    "print(a[-9])"
   ]
  },
  {
   "cell_type": "markdown",
   "id": "0d7c3867",
   "metadata": {},
   "source": [
    "## Range of index"
   ]
  },
  {
   "cell_type": "code",
   "execution_count": 8,
   "id": "cb525881",
   "metadata": {},
   "outputs": [
    {
     "name": "stdout",
     "output_type": "stream",
     "text": [
      "('x', 'z', 'y', 'r', 'q', 1, 2, 3, 4, 5, 6, 7, 8)\n",
      "(1, 2, 3, 4, 5, 6, 7, 8)\n",
      "('x', 'z', 'y', 'r', 'q', 1, 2, 3)\n",
      "('y', 'r', 'q', 1, 2)\n",
      "(4, 5, 6, 7)\n"
     ]
    }
   ],
   "source": [
    "a = (\"x\",\"z\",\"y\",\"r\",\"q\",1,2,3,4,5,6,7,8)\n",
    "print(a[:])\n",
    "print(a[5:])\n",
    "print(a[:8])\n",
    "print(a[2:7])\n",
    "print(a[-5:-1])"
   ]
  },
  {
   "cell_type": "markdown",
   "id": "73a2206f",
   "metadata": {},
   "source": [
    "## Change Tuple values"
   ]
  },
  {
   "cell_type": "code",
   "execution_count": 9,
   "id": "3a6b0599",
   "metadata": {},
   "outputs": [],
   "source": [
    "#tuple is unchangable it can't be changed so to change values \n",
    "#you have to change tuple into list then change values and then convert again to tuple"
   ]
  },
  {
   "cell_type": "code",
   "execution_count": 10,
   "id": "e1558029",
   "metadata": {},
   "outputs": [
    {
     "name": "stdout",
     "output_type": "stream",
     "text": [
      "('a', 'b', 'q', 't')\n"
     ]
    }
   ],
   "source": [
    "x = (\"a\",\"b\",\"c\",\"t\")\n",
    "y = list(x)\n",
    "y[2] = \"q\"\n",
    "x = tuple(y)\n",
    "print(x)"
   ]
  },
  {
   "cell_type": "markdown",
   "id": "2a012cca",
   "metadata": {},
   "source": [
    "## Loop through tuple"
   ]
  },
  {
   "cell_type": "code",
   "execution_count": 11,
   "id": "289ee7f0",
   "metadata": {},
   "outputs": [
    {
     "name": "stdout",
     "output_type": "stream",
     "text": [
      "a\n",
      "b\n",
      "c\n",
      "t\n",
      "q\n",
      "6\n",
      "5\n",
      "4\n",
      "3\n",
      "2\n",
      "8\n"
     ]
    }
   ],
   "source": [
    "x = (\"a\",\"b\",\"c\",\"t\",\"q\",6,5,4,3,2,8)\n",
    "for y in x:\n",
    "    print(y)"
   ]
  },
  {
   "cell_type": "markdown",
   "id": "2cb6c241",
   "metadata": {},
   "source": [
    "## check item exists or not"
   ]
  },
  {
   "cell_type": "code",
   "execution_count": 15,
   "id": "2b0d7f38",
   "metadata": {},
   "outputs": [
    {
     "name": "stdout",
     "output_type": "stream",
     "text": [
      "Yes it is present\n"
     ]
    }
   ],
   "source": [
    "x = (\"a\",\"b\",\"v\")\n",
    "if \"b\" in x:\n",
    "    print(\"Yes it is present\")\n",
    "else:\n",
    "    print(\"Not present\")"
   ]
  },
  {
   "cell_type": "markdown",
   "id": "d0432a78",
   "metadata": {},
   "source": [
    "## tuple length"
   ]
  },
  {
   "cell_type": "code",
   "execution_count": 16,
   "id": "50c1a8b4",
   "metadata": {},
   "outputs": [
    {
     "name": "stdout",
     "output_type": "stream",
     "text": [
      "4\n"
     ]
    }
   ],
   "source": [
    "x = (\"a\",\"b\",\"c\",\"r\")\n",
    "print(len(x))"
   ]
  },
  {
   "cell_type": "markdown",
   "id": "6e8f2737",
   "metadata": {},
   "source": [
    "## creating tuple with one item"
   ]
  },
  {
   "cell_type": "code",
   "execution_count": 17,
   "id": "0c407476",
   "metadata": {},
   "outputs": [
    {
     "name": "stdout",
     "output_type": "stream",
     "text": [
      "<class 'tuple'>\n"
     ]
    }
   ],
   "source": [
    "#To create tuple with one item then\n",
    "\n",
    "x = (\"apple\",)                # you have to use comma\n",
    "print(type(x))"
   ]
  },
  {
   "cell_type": "markdown",
   "id": "0715c293",
   "metadata": {},
   "source": [
    "## join two tuples"
   ]
  },
  {
   "cell_type": "code",
   "execution_count": 18,
   "id": "7b3d37a9",
   "metadata": {},
   "outputs": [
    {
     "name": "stdout",
     "output_type": "stream",
     "text": [
      "('a', 'b', 'c', 1, 2, 3)\n"
     ]
    }
   ],
   "source": [
    "t1 = (\"a\",\"b\",\"c\")\n",
    "t2 = (1,2,3)\n",
    "\n",
    "t3 = t1+t2\n",
    "\n",
    "print(t3)"
   ]
  },
  {
   "cell_type": "markdown",
   "id": "4b1bd277",
   "metadata": {},
   "source": [
    "## count()"
   ]
  },
  {
   "cell_type": "code",
   "execution_count": 19,
   "id": "90da83d2",
   "metadata": {},
   "outputs": [
    {
     "name": "stdout",
     "output_type": "stream",
     "text": [
      "6\n"
     ]
    }
   ],
   "source": [
    "t1 = (1,2,3,2,5,2,7,2,10,2,6,8,3,2)\n",
    "x = t1.count(2)\n",
    "print(x)"
   ]
  },
  {
   "cell_type": "markdown",
   "id": "1309560e",
   "metadata": {},
   "source": [
    "## index()"
   ]
  },
  {
   "cell_type": "code",
   "execution_count": 20,
   "id": "f25a3360",
   "metadata": {},
   "outputs": [
    {
     "name": "stdout",
     "output_type": "stream",
     "text": [
      "5\n"
     ]
    }
   ],
   "source": [
    "t1 = (1,2,3,4,5,\"a\",\"b\",\"c\",\"t\")\n",
    "x = t1.index(\"a\")\n",
    "print(x)"
   ]
  },
  {
   "cell_type": "code",
   "execution_count": null,
   "id": "3d2b7f44",
   "metadata": {},
   "outputs": [],
   "source": []
  }
 ],
 "metadata": {
  "kernelspec": {
   "display_name": "Python 3",
   "language": "python",
   "name": "python3"
  },
  "language_info": {
   "codemirror_mode": {
    "name": "ipython",
    "version": 3
   },
   "file_extension": ".py",
   "mimetype": "text/x-python",
   "name": "python",
   "nbconvert_exporter": "python",
   "pygments_lexer": "ipython3",
   "version": "3.8.8"
  }
 },
 "nbformat": 4,
 "nbformat_minor": 5
}
