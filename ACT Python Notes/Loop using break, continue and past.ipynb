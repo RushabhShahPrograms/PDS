{
 "cells": [
  {
   "cell_type": "markdown",
   "id": "3ec64e2d",
   "metadata": {},
   "source": [
    "# Using For Loop"
   ]
  },
  {
   "cell_type": "code",
   "execution_count": 1,
   "id": "eb2cde00",
   "metadata": {},
   "outputs": [
    {
     "name": "stdout",
     "output_type": "stream",
     "text": [
      "r\n",
      "u\n",
      "s\n",
      "h\n"
     ]
    }
   ],
   "source": [
    "for i in 'rushabh':                    #break\n",
    "    if i == 'a':\n",
    "        break\n",
    "    print(i)"
   ]
  },
  {
   "cell_type": "code",
   "execution_count": 2,
   "id": "133c759c",
   "metadata": {},
   "outputs": [
    {
     "name": "stdout",
     "output_type": "stream",
     "text": [
      "1\n",
      "2\n",
      "3\n",
      "4\n",
      "6\n",
      "7\n",
      "8\n",
      "9\n",
      "10\n"
     ]
    }
   ],
   "source": [
    "i=1                                      #continue\n",
    "for i in range(1,11):\n",
    "    if(i==5):\n",
    "        continue\n",
    "    print(i)"
   ]
  },
  {
   "cell_type": "code",
   "execution_count": 3,
   "id": "ce5270d2",
   "metadata": {},
   "outputs": [
    {
     "name": "stdout",
     "output_type": "stream",
     "text": [
      "1\n",
      "2\n",
      "Pass when value is:  3\n",
      "3\n",
      "4\n",
      "5\n"
     ]
    }
   ],
   "source": [
    "for i in [1,2,3,4,5]:                  #pass\n",
    "    if(i==3):\n",
    "        pass\n",
    "        print(\"Pass when value is: \",i)\n",
    "    print(i)"
   ]
  },
  {
   "cell_type": "markdown",
   "id": "dd4d2514",
   "metadata": {},
   "source": [
    "# Using While Loop"
   ]
  },
  {
   "cell_type": "code",
   "execution_count": 4,
   "id": "baa3b789",
   "metadata": {},
   "outputs": [
    {
     "name": "stdout",
     "output_type": "stream",
     "text": [
      "1\n",
      "2\n",
      "3\n",
      "4\n",
      "5\n",
      "6\n"
     ]
    }
   ],
   "source": [
    "a=1                                   #break\n",
    "while(a <= 10):\n",
    "    if(a==7):\n",
    "        break\n",
    "    print(a)\n",
    "    a += 1"
   ]
  },
  {
   "cell_type": "code",
   "execution_count": 5,
   "id": "77c8be9f",
   "metadata": {},
   "outputs": [
    {
     "name": "stdout",
     "output_type": "stream",
     "text": [
      "2\n",
      "3\n",
      "4\n",
      "6\n",
      "7\n",
      "8\n",
      "9\n",
      "10\n"
     ]
    }
   ],
   "source": [
    "b = 1                              #continue\n",
    "while(b<10):\n",
    "    b += 1\n",
    "    if(b==5):\n",
    "        continue\n",
    "    print(b)"
   ]
  },
  {
   "cell_type": "code",
   "execution_count": 6,
   "id": "c56d3cd0",
   "metadata": {},
   "outputs": [
    {
     "name": "stdout",
     "output_type": "stream",
     "text": [
      "2\n",
      "3\n",
      "4\n",
      "Pass when value is:  5\n",
      "5\n",
      "6\n",
      "7\n",
      "8\n",
      "9\n",
      "10\n"
     ]
    }
   ],
   "source": [
    "c = 1                            #pass\n",
    "while(c<10):\n",
    "    c += 1\n",
    "    if(c==5):\n",
    "        pass\n",
    "        print(\"Pass when value is: \",c)\n",
    "    print(c)"
   ]
  },
  {
   "cell_type": "code",
   "execution_count": null,
   "id": "c5ddb50c",
   "metadata": {},
   "outputs": [],
   "source": []
  }
 ],
 "metadata": {
  "kernelspec": {
   "display_name": "Python 3",
   "language": "python",
   "name": "python3"
  },
  "language_info": {
   "codemirror_mode": {
    "name": "ipython",
    "version": 3
   },
   "file_extension": ".py",
   "mimetype": "text/x-python",
   "name": "python",
   "nbconvert_exporter": "python",
   "pygments_lexer": "ipython3",
   "version": "3.8.8"
  }
 },
 "nbformat": 4,
 "nbformat_minor": 5
}
