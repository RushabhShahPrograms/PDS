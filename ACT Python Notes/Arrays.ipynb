{
 "cells": [
  {
   "cell_type": "markdown",
   "id": "9ae5f2a6",
   "metadata": {},
   "source": [
    "# Arrays"
   ]
  },
  {
   "cell_type": "markdown",
   "id": "ea81b75f",
   "metadata": {},
   "source": [
    "Note: python does not have built-in support for arrays but python list can be used instead.\n",
    "\n",
    "Arrays: Arrays are used to store multiple values in one single variable."
   ]
  },
  {
   "cell_type": "markdown",
   "id": "97ac4728",
   "metadata": {},
   "source": [
    "## Create Array"
   ]
  },
  {
   "cell_type": "code",
   "execution_count": 1,
   "id": "39349524",
   "metadata": {},
   "outputs": [
    {
     "name": "stdout",
     "output_type": "stream",
     "text": [
      "['aaa', 'bbb', 'ccc']\n",
      "<class 'list'>\n"
     ]
    }
   ],
   "source": [
    "cars = [\"aaa\",\"bbb\",\"ccc\"]\n",
    "print(cars)\n",
    "print(type(cars))"
   ]
  },
  {
   "cell_type": "markdown",
   "id": "e7489292",
   "metadata": {},
   "source": [
    "## Access elements from arrays"
   ]
  },
  {
   "cell_type": "code",
   "execution_count": 2,
   "id": "3cb7051e",
   "metadata": {},
   "outputs": [
    {
     "name": "stdout",
     "output_type": "stream",
     "text": [
      "aaa\n"
     ]
    }
   ],
   "source": [
    "cars = [\"aaa\",\"bbb\",\"ccc\"]\n",
    "x = cars[0]\n",
    "print(x)"
   ]
  },
  {
   "cell_type": "markdown",
   "id": "fef03643",
   "metadata": {},
   "source": [
    "## Modify values from arrays"
   ]
  },
  {
   "cell_type": "code",
   "execution_count": 3,
   "id": "e333ffe6",
   "metadata": {},
   "outputs": [
    {
     "name": "stdout",
     "output_type": "stream",
     "text": [
      "['zzz', 'bbb', 'ccc']\n"
     ]
    }
   ],
   "source": [
    "cars = [\"aaa\",\"bbb\",\"ccc\"]\n",
    "cars[0] = \"zzz\"\n",
    "print(cars)"
   ]
  },
  {
   "cell_type": "markdown",
   "id": "d029c0e4",
   "metadata": {},
   "source": [
    "## Length of an array"
   ]
  },
  {
   "cell_type": "code",
   "execution_count": 4,
   "id": "9ae4dac6",
   "metadata": {},
   "outputs": [
    {
     "name": "stdout",
     "output_type": "stream",
     "text": [
      "3\n"
     ]
    }
   ],
   "source": [
    "cars = [\"aaa\",\"bbb\",\"ccc\"]\n",
    "print(len(cars))"
   ]
  },
  {
   "cell_type": "markdown",
   "id": "466ec9a8",
   "metadata": {},
   "source": [
    "## Looping arrays"
   ]
  },
  {
   "cell_type": "code",
   "execution_count": 5,
   "id": "f4919e98",
   "metadata": {},
   "outputs": [
    {
     "name": "stdout",
     "output_type": "stream",
     "text": [
      "aaa\n",
      "bbb\n",
      "ccc\n"
     ]
    }
   ],
   "source": [
    "cars = [\"aaa\",\"bbb\",\"ccc\"]\n",
    "for i in cars:\n",
    "    print(i)"
   ]
  },
  {
   "cell_type": "markdown",
   "id": "2b79a7c2",
   "metadata": {},
   "source": [
    "## Adding array elements"
   ]
  },
  {
   "cell_type": "code",
   "execution_count": 6,
   "id": "10bf3f4c",
   "metadata": {},
   "outputs": [
    {
     "name": "stdout",
     "output_type": "stream",
     "text": [
      "['aaa', 'bbb', 'ccc', 'zzz']\n"
     ]
    }
   ],
   "source": [
    "cars = [\"aaa\",\"bbb\",\"ccc\"]\n",
    "cars.append(\"zzz\")\n",
    "print(cars)"
   ]
  },
  {
   "cell_type": "markdown",
   "id": "119d42c8",
   "metadata": {},
   "source": [
    "## Removing array's elements"
   ]
  },
  {
   "cell_type": "code",
   "execution_count": 7,
   "id": "6248cace",
   "metadata": {},
   "outputs": [
    {
     "name": "stdout",
     "output_type": "stream",
     "text": [
      "['aaa', 'ccc']\n"
     ]
    }
   ],
   "source": [
    "#pop\n",
    "cars = [\"aaa\",\"bbb\",\"ccc\"]\n",
    "cars.pop(1)\n",
    "print(cars)"
   ]
  },
  {
   "cell_type": "code",
   "execution_count": 8,
   "id": "7b69ea1c",
   "metadata": {},
   "outputs": [
    {
     "name": "stdout",
     "output_type": "stream",
     "text": [
      "['aaa', 'ccc']\n"
     ]
    }
   ],
   "source": [
    "#remove\n",
    "cars = [\"aaa\",\"bbb\",\"ccc\"]\n",
    "cars.remove(\"bbb\")\n",
    "print(cars)"
   ]
  },
  {
   "cell_type": "code",
   "execution_count": 9,
   "id": "7ee53334",
   "metadata": {},
   "outputs": [
    {
     "name": "stdout",
     "output_type": "stream",
     "text": [
      "[]\n"
     ]
    }
   ],
   "source": [
    "#clear\n",
    "cars = [\"aaa\",\"bbb\",\"ccc\"]\n",
    "cars.clear()\n",
    "print(cars)"
   ]
  },
  {
   "cell_type": "markdown",
   "id": "3ecce869",
   "metadata": {},
   "source": [
    "## Copy() method"
   ]
  },
  {
   "cell_type": "code",
   "execution_count": 10,
   "id": "ad805c92",
   "metadata": {},
   "outputs": [
    {
     "name": "stdout",
     "output_type": "stream",
     "text": [
      "['aaa', 'bbb', 'ccc']\n"
     ]
    }
   ],
   "source": [
    "cars = [\"aaa\",\"bbb\",\"ccc\"]\n",
    "c = cars.copy()\n",
    "print(c)"
   ]
  },
  {
   "cell_type": "markdown",
   "id": "2e3a222b",
   "metadata": {},
   "source": [
    "## Count() method"
   ]
  },
  {
   "cell_type": "code",
   "execution_count": 11,
   "id": "cccc2fbe",
   "metadata": {},
   "outputs": [
    {
     "name": "stdout",
     "output_type": "stream",
     "text": [
      "1\n",
      "3\n"
     ]
    }
   ],
   "source": [
    "cars = [\"aaa\",\"bbb\",\"ccc\"]\n",
    "c = [1,2,3,4,1,6,1,8,9]\n",
    "print(cars.count(\"bbb\"))\n",
    "print(c.count(1))"
   ]
  },
  {
   "cell_type": "markdown",
   "id": "f4098f4a",
   "metadata": {},
   "source": [
    "## extend() method"
   ]
  },
  {
   "cell_type": "code",
   "execution_count": 12,
   "id": "81a22933",
   "metadata": {},
   "outputs": [
    {
     "name": "stdout",
     "output_type": "stream",
     "text": [
      "['aaa', 'bbb', 'cvb', 'tyu', 1, 2, 3, 4, 'rrr', 'hjk', 'n']\n"
     ]
    }
   ],
   "source": [
    "x = [\"aaa\",\"bbb\",\"cvb\",\"tyu\"]\n",
    "y = [1,2,3,4,\"rrr\",\"hjk\",\"n\"]\n",
    "x.extend(y)\n",
    "print(x)"
   ]
  },
  {
   "cell_type": "markdown",
   "id": "b2dbfbca",
   "metadata": {},
   "source": [
    "## List index() method"
   ]
  },
  {
   "cell_type": "code",
   "execution_count": 13,
   "id": "3958e4f7",
   "metadata": {},
   "outputs": [
    {
     "name": "stdout",
     "output_type": "stream",
     "text": [
      "2\n"
     ]
    }
   ],
   "source": [
    "x = [\"aaa\",\"bbb\",\"cvb\",\"tyu\"]\n",
    "print(x.index(\"cvb\"))"
   ]
  },
  {
   "cell_type": "markdown",
   "id": "ac0e86e0",
   "metadata": {},
   "source": [
    "## Reverse() method"
   ]
  },
  {
   "cell_type": "code",
   "execution_count": 14,
   "id": "f64de81d",
   "metadata": {},
   "outputs": [
    {
     "name": "stdout",
     "output_type": "stream",
     "text": [
      "['tyu', 'cvb', 'bbb', 'aaa']\n"
     ]
    }
   ],
   "source": [
    "x = [\"aaa\",\"bbb\",\"cvb\",\"tyu\"]\n",
    "x.reverse()\n",
    "print(x)"
   ]
  }
 ],
 "metadata": {
  "kernelspec": {
   "display_name": "Python 3",
   "language": "python",
   "name": "python3"
  },
  "language_info": {
   "codemirror_mode": {
    "name": "ipython",
    "version": 3
   },
   "file_extension": ".py",
   "mimetype": "text/x-python",
   "name": "python",
   "nbconvert_exporter": "python",
   "pygments_lexer": "ipython3",
   "version": "3.8.8"
  }
 },
 "nbformat": 4,
 "nbformat_minor": 5
}
