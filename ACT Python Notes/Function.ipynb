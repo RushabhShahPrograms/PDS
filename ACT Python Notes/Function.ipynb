{
 "cells": [
  {
   "cell_type": "markdown",
   "id": "64482f4c",
   "metadata": {},
   "source": [
    "# Functions"
   ]
  },
  {
   "cell_type": "markdown",
   "id": "d185ed6e",
   "metadata": {},
   "source": [
    "A function is a block of code which only runs when it is called.\n",
    "\n",
    "The 'return' is used inside the function body to return the values out of function.\n",
    "Function can return one or more values.\n",
    "\n",
    "If function are called using 'pass by object reference' where the object reference is sent to the function while calling the function.\n",
    "\n",
    "Arguments: Information can be passed into the function as argument."
   ]
  },
  {
   "cell_type": "markdown",
   "id": "87d10c6e",
   "metadata": {},
   "source": [
    "## Without Argument"
   ]
  },
  {
   "cell_type": "code",
   "execution_count": 1,
   "id": "8f6ec252",
   "metadata": {},
   "outputs": [
    {
     "name": "stdout",
     "output_type": "stream",
     "text": [
      "Python\n"
     ]
    }
   ],
   "source": [
    "def hello():              #declaring function\n",
    "    print(\"Python\")       #function body\n",
    "hello()                   #calling function"
   ]
  },
  {
   "cell_type": "markdown",
   "id": "bc7b0000",
   "metadata": {},
   "source": [
    "## With argument"
   ]
  },
  {
   "cell_type": "code",
   "execution_count": 2,
   "id": "e098b12e",
   "metadata": {},
   "outputs": [
    {
     "name": "stdout",
     "output_type": "stream",
     "text": [
      "Addition is:  10\n"
     ]
    }
   ],
   "source": [
    "def add(a,b):\n",
    "    c = a + b\n",
    "    print(\"Addition is: \",c)\n",
    "add(2,8)"
   ]
  },
  {
   "cell_type": "markdown",
   "id": "a6dfd61b",
   "metadata": {},
   "source": [
    "## Using Input"
   ]
  },
  {
   "cell_type": "code",
   "execution_count": 3,
   "id": "bd69d9b3",
   "metadata": {},
   "outputs": [
    {
     "name": "stdout",
     "output_type": "stream",
     "text": [
      "Enter first number: 3\n",
      "Enter second number: 7\n",
      "Addition is:  10\n"
     ]
    }
   ],
   "source": [
    "def add():\n",
    "    a = int(input(\"Enter first number: \"))\n",
    "    b = int(input(\"Enter second number: \"))\n",
    "    c = a + b\n",
    "    print(\"Addition is: \",c)\n",
    "add()"
   ]
  },
  {
   "cell_type": "markdown",
   "id": "bdaa4e98",
   "metadata": {},
   "source": [
    "## Multiple values"
   ]
  },
  {
   "cell_type": "code",
   "execution_count": 4,
   "id": "6f462626",
   "metadata": {},
   "outputs": [
    {
     "name": "stdout",
     "output_type": "stream",
     "text": [
      "Addition is:  10\n",
      "Addition is:  13\n",
      "Addition is:  11.0\n"
     ]
    }
   ],
   "source": [
    "def add(a,b):\n",
    "    c = a + b\n",
    "    print(\"Addition is: \",c)\n",
    "add(2,8)\n",
    "add(4,9)\n",
    "add(2.6,8.4)"
   ]
  },
  {
   "cell_type": "markdown",
   "id": "ab180fb6",
   "metadata": {},
   "source": [
    "## Using argument"
   ]
  },
  {
   "cell_type": "code",
   "execution_count": 5,
   "id": "431db28b",
   "metadata": {},
   "outputs": [
    {
     "name": "stdout",
     "output_type": "stream",
     "text": [
      "Enter the first number: 2\n",
      "Enter the second number: 5\n",
      "Addition is:  7\n"
     ]
    }
   ],
   "source": [
    "#in argument the values are entered during runtime so the input values will be out of the function body.\n",
    "\n",
    "def add(a,b):\n",
    "    c = a + b\n",
    "    print(\"Addition is: \",c)\n",
    "a = int(input(\"Enter the first number: \"))\n",
    "b = int(input(\"Enter the second number: \"))\n",
    "add(a,b)"
   ]
  },
  {
   "cell_type": "markdown",
   "id": "53433e1d",
   "metadata": {},
   "source": [
    "## Using returning statement"
   ]
  },
  {
   "cell_type": "code",
   "execution_count": 6,
   "id": "6b4e20ac",
   "metadata": {},
   "outputs": [
    {
     "data": {
      "text/plain": [
       "'hello'"
      ]
     },
     "execution_count": 6,
     "metadata": {},
     "output_type": "execute_result"
    }
   ],
   "source": [
    "def hello():\n",
    "    return (\"hello\")\n",
    "hello()"
   ]
  },
  {
   "cell_type": "markdown",
   "id": "cf30ad7d",
   "metadata": {},
   "source": [
    "## Without argument"
   ]
  },
  {
   "cell_type": "code",
   "execution_count": 7,
   "id": "5c7e86cc",
   "metadata": {},
   "outputs": [
    {
     "name": "stdout",
     "output_type": "stream",
     "text": [
      "a: 2\n",
      "b: 5\n",
      "Sum is:  7\n"
     ]
    }
   ],
   "source": [
    "def add():\n",
    "    a = int(input(\"a: \"))\n",
    "    b = int(input(\"b: \"))\n",
    "    c = a+b\n",
    "    return c\n",
    "x = add()\n",
    "print(\"Sum is: \",x)"
   ]
  },
  {
   "cell_type": "markdown",
   "id": "bb657a07",
   "metadata": {},
   "source": [
    "## With argument"
   ]
  },
  {
   "cell_type": "code",
   "execution_count": 8,
   "id": "a717164e",
   "metadata": {},
   "outputs": [
    {
     "name": "stdout",
     "output_type": "stream",
     "text": [
      "sum is:  10\n",
      "sum is:  19\n"
     ]
    }
   ],
   "source": [
    "def add(a,b):\n",
    "    c = a+b\n",
    "    return c\n",
    "print(\"sum is: \",add(5,5))\n",
    "print(\"sum is: \",add(7,12))"
   ]
  },
  {
   "cell_type": "markdown",
   "id": "d248b124",
   "metadata": {},
   "source": [
    "## With argument and input"
   ]
  },
  {
   "cell_type": "code",
   "execution_count": 9,
   "id": "037e7e0c",
   "metadata": {},
   "outputs": [
    {
     "name": "stdout",
     "output_type": "stream",
     "text": [
      "a: 4\n",
      "b: 8\n",
      "Sum is:  12\n"
     ]
    }
   ],
   "source": [
    "def add(a,b):\n",
    "    c = a+b\n",
    "    return c\n",
    "a = int(input(\"a: \"))\n",
    "b = int(input(\"b: \"))\n",
    "print(\"Sum is: \",add(a,b))"
   ]
  },
  {
   "cell_type": "markdown",
   "id": "9c7b09f2",
   "metadata": {},
   "source": [
    "### odd and even"
   ]
  },
  {
   "cell_type": "code",
   "execution_count": 3,
   "id": "227aea55",
   "metadata": {},
   "outputs": [
    {
     "name": "stdout",
     "output_type": "stream",
     "text": [
      "Enter the number: 62\n",
      "It is even\n"
     ]
    }
   ],
   "source": [
    "def oddeven(a):\n",
    "    if(a%2==0):\n",
    "        return True\n",
    "    else:\n",
    "        return False\n",
    "\n",
    "a = int(input(\"Enter the number: \"))\n",
    "if(oddeven(a) == True):\n",
    "    print(\"It is even\")\n",
    "else:\n",
    "    print(\"It is odd\")"
   ]
  },
  {
   "cell_type": "markdown",
   "id": "aa2cb8dc",
   "metadata": {},
   "source": [
    "### factorial"
   ]
  },
  {
   "cell_type": "code",
   "execution_count": 5,
   "id": "efb3442a",
   "metadata": {},
   "outputs": [
    {
     "name": "stdout",
     "output_type": "stream",
     "text": [
      "Enter the number to find factorial: 5\n",
      "Factorial is:  120\n"
     ]
    }
   ],
   "source": [
    "def facto(a):\n",
    "    f=1\n",
    "    while(a>0):\n",
    "        f *= a\n",
    "        a -= 1\n",
    "    return f\n",
    "a = int(input(\"Enter the number to find factorial: \"))\n",
    "print(\"Factorial is: \",facto(a))"
   ]
  },
  {
   "cell_type": "markdown",
   "id": "1d382ff6",
   "metadata": {},
   "source": [
    "## Returning multiple value from function"
   ]
  },
  {
   "cell_type": "markdown",
   "id": "43db3880",
   "metadata": {},
   "source": [
    "Case 1: Python program to understand how function returns two values"
   ]
  },
  {
   "cell_type": "code",
   "execution_count": 1,
   "id": "946f4d7e",
   "metadata": {},
   "outputs": [
    {
     "name": "stdout",
     "output_type": "stream",
     "text": [
      "Add is: 15\n",
      "Sub is: 5\n"
     ]
    }
   ],
   "source": [
    "def sum_sub(a,b):\n",
    "    c=a+b\n",
    "    d=a-b\n",
    "    return c,d\n",
    "x,y=sum_sub(10,5)\n",
    "print(\"Add is:\",x)\n",
    "print(\"Sub is:\",y)"
   ]
  },
  {
   "cell_type": "markdown",
   "id": "cc554abf",
   "metadata": {},
   "source": [
    "Case 2: Python program to understand how function returns more than two values"
   ]
  },
  {
   "cell_type": "code",
   "execution_count": 2,
   "id": "8d8a8054",
   "metadata": {},
   "outputs": [
    {
     "name": "stdout",
     "output_type": "stream",
     "text": [
      "Result is: 15\n",
      "Result is: 5\n",
      "Result is: 50\n",
      "Result is: 2.0\n"
     ]
    }
   ],
   "source": [
    "def operation(a,b):\n",
    "    c=a+b\n",
    "    d=a-b\n",
    "    e=a*b\n",
    "    g=a/b\n",
    "    return(c,d,e,g)\n",
    "t=operation(10,5)\n",
    "for i in t:\n",
    "    print(\"Result is:\",i)"
   ]
  },
  {
   "cell_type": "markdown",
   "id": "acd69d5f",
   "metadata": {},
   "source": [
    "## Call by reference"
   ]
  },
  {
   "cell_type": "markdown",
   "id": "3001bfab",
   "metadata": {},
   "source": [
    "Passing immutable -> List"
   ]
  },
  {
   "cell_type": "code",
   "execution_count": 5,
   "id": "d105dd19",
   "metadata": {},
   "outputs": [
    {
     "name": "stdout",
     "output_type": "stream",
     "text": [
      "List inside the function:  [10, 20, 30, 40, 20, 30]\n",
      "List outside the function:  [10, 20, 30, 40, 20, 30]\n"
     ]
    }
   ],
   "source": [
    "def ch_list(list1):\n",
    "    list1.append(20);\n",
    "    list1.append(30);\n",
    "    print(\"List inside the function: \",list1)\n",
    "\n",
    "list1 = [10,20,30,40]\n",
    "ch_list(list1)\n",
    "print(\"List outside the function: \",list1)"
   ]
  },
  {
   "cell_type": "markdown",
   "id": "a54f89fb",
   "metadata": {},
   "source": [
    "Passing mutable -> String"
   ]
  },
  {
   "cell_type": "code",
   "execution_count": 9,
   "id": "382823b8",
   "metadata": {},
   "outputs": [
    {
     "name": "stdout",
     "output_type": "stream",
     "text": [
      "Str: python\n",
      "String is: pythonhello\n"
     ]
    }
   ],
   "source": [
    "def ch_str(str):\n",
    "    str += \"hello\";\n",
    "    print(\"String is:\",str);\n",
    "    \n",
    "str1 = \"python\"\n",
    "print(\"Str:\",str1)\n",
    "ch_str(str1)"
   ]
  },
  {
   "cell_type": "code",
   "execution_count": 4,
   "id": "10ddba85",
   "metadata": {},
   "outputs": [
    {
     "name": "stdout",
     "output_type": "stream",
     "text": [
      "Enter the value1: 10\n",
      "Enter the value2: 10\n",
      "ENter the value3: 10\n",
      "10.0\n"
     ]
    }
   ],
   "source": [
    "#simple interest\n",
    "\n",
    "def si(sim,sim1,sim2):\n",
    "    s = (sim*sim1*sim2)/100\n",
    "    return s\n",
    "\n",
    "sim = int(input(\"Enter the value1: \"))\n",
    "sim1 = int(input(\"Enter the value2: \"))\n",
    "sim3 = int(input(\"ENter the value3: \"))\n",
    "print(si(sim,sim1,sim3))"
   ]
  },
  {
   "cell_type": "code",
   "execution_count": 13,
   "id": "4ed7f521",
   "metadata": {},
   "outputs": [
    {
     "data": {
      "text/plain": [
       "15"
      ]
     },
     "execution_count": 13,
     "metadata": {},
     "output_type": "execute_result"
    }
   ],
   "source": [
    "def calculate(a,b):\n",
    "    return a+b\n",
    "calculate(10,5)"
   ]
  },
  {
   "cell_type": "markdown",
   "id": "ee612534",
   "metadata": {},
   "source": [
    "## Types of Argument"
   ]
  },
  {
   "cell_type": "markdown",
   "id": "dea9e57a",
   "metadata": {},
   "source": [
    "4 types of arguments are their.\n",
    "\n",
    "1) positional argument / required argument\n",
    "\n",
    "2) keyword argument\n",
    "\n",
    "3) default argument\n",
    "\n",
    "4) variable argument"
   ]
  },
  {
   "cell_type": "code",
   "execution_count": 1,
   "id": "0b11f2e6",
   "metadata": {},
   "outputs": [
    {
     "name": "stdout",
     "output_type": "stream",
     "text": [
      "enter name: qwer\n"
     ]
    },
    {
     "data": {
      "text/plain": [
       "'hiqwer'"
      ]
     },
     "execution_count": 1,
     "metadata": {},
     "output_type": "execute_result"
    }
   ],
   "source": [
    "#positional argument\n",
    "\n",
    "def fun(name):\n",
    "    msg = \"hi\"+name;\n",
    "    return msg\n",
    "name = input(\"enter name: \")\n",
    "fun(name)"
   ]
  },
  {
   "cell_type": "code",
   "execution_count": 2,
   "id": "5d8cfd4d",
   "metadata": {},
   "outputs": [
    {
     "name": "stdout",
     "output_type": "stream",
     "text": [
      "printing the msg with tyu and hello\n"
     ]
    }
   ],
   "source": [
    "#keyword argument\n",
    "\n",
    "def fun(name,msg):\n",
    "    print(\"printing the msg with\",name,\"and\",msg)\n",
    "    \n",
    "fun(name=\"tyu\",msg=\"hello\")"
   ]
  },
  {
   "cell_type": "code",
   "execution_count": 3,
   "id": "d6e27d71",
   "metadata": {},
   "outputs": [
    {
     "name": "stdout",
     "output_type": "stream",
     "text": [
      "my name is rushabh and age is 21\n"
     ]
    }
   ],
   "source": [
    "#default argument\n",
    "\n",
    "def p(name,age=21):\n",
    "    print(\"my name is\",name,\"and age is\",age)\n",
    "p(name=\"rushabh\")"
   ]
  },
  {
   "cell_type": "code",
   "execution_count": 1,
   "id": "bfe46e5e",
   "metadata": {},
   "outputs": [
    {
     "name": "stdout",
     "output_type": "stream",
     "text": [
      "types of passed argument is <class 'tuple'>\n",
      "printing the passed arguments\n",
      "('a', 'b', 'c', 'd')\n"
     ]
    }
   ],
   "source": [
    "#variable argument\n",
    "\n",
    "def prints(*names):\n",
    "    print(\"types of passed argument is\",type(names))\n",
    "    print(\"printing the passed arguments\")\n",
    "    for name in names:\n",
    "        print(name)\n",
    "names = (\"a\",\"b\",\"c\",\"d\")\n",
    "prints(names)"
   ]
  },
  {
   "cell_type": "markdown",
   "id": "4e824a1c",
   "metadata": {},
   "source": [
    "## Arbitrary Arguments"
   ]
  },
  {
   "cell_type": "code",
   "execution_count": 2,
   "id": "f16e9990",
   "metadata": {},
   "outputs": [
    {
     "name": "stdout",
     "output_type": "stream",
     "text": [
      "your name:ccc\n"
     ]
    }
   ],
   "source": [
    "def my_fun(*name):\n",
    "    print(\"your name:\"+name[2])\n",
    "my_fun(\"aaa\",\"bbb\",\"ccc\")"
   ]
  },
  {
   "cell_type": "code",
   "execution_count": 4,
   "id": "cd776852",
   "metadata": {},
   "outputs": [
    {
     "ename": "TypeError",
     "evalue": "my_fun() takes 0 positional arguments but 2 were given",
     "output_type": "error",
     "traceback": [
      "\u001b[1;31m---------------------------------------------------------------------------\u001b[0m",
      "\u001b[1;31mTypeError\u001b[0m                                 Traceback (most recent call last)",
      "\u001b[1;32m<ipython-input-4-d4f317b9554f>\u001b[0m in \u001b[0;36m<module>\u001b[1;34m\u001b[0m\n\u001b[0;32m      1\u001b[0m \u001b[1;32mdef\u001b[0m \u001b[0mmy_fun\u001b[0m\u001b[1;33m(\u001b[0m\u001b[1;33m**\u001b[0m\u001b[0mname\u001b[0m\u001b[1;33m)\u001b[0m\u001b[1;33m:\u001b[0m\u001b[1;33m\u001b[0m\u001b[1;33m\u001b[0m\u001b[0m\n\u001b[0;32m      2\u001b[0m     \u001b[0mprint\u001b[0m\u001b[1;33m(\u001b[0m\u001b[1;34m\"your name:\"\u001b[0m\u001b[1;33m,\u001b[0m\u001b[0mname\u001b[0m\u001b[1;33m[\u001b[0m\u001b[0mlname\u001b[0m\u001b[1;33m]\u001b[0m\u001b[1;33m)\u001b[0m\u001b[1;33m\u001b[0m\u001b[1;33m\u001b[0m\u001b[0m\n\u001b[1;32m----> 3\u001b[1;33m \u001b[0mmy_fun\u001b[0m\u001b[1;33m(\u001b[0m\u001b[1;34m\"aaa\"\u001b[0m\u001b[1;33m,\u001b[0m\u001b[1;34m\"bbb\"\u001b[0m\u001b[1;33m,\u001b[0m\u001b[0mlname\u001b[0m\u001b[1;33m=\u001b[0m\u001b[1;34m\"ccc\"\u001b[0m\u001b[1;33m)\u001b[0m\u001b[1;33m\u001b[0m\u001b[1;33m\u001b[0m\u001b[0m\n\u001b[0m",
      "\u001b[1;31mTypeError\u001b[0m: my_fun() takes 0 positional arguments but 2 were given"
     ]
    }
   ],
   "source": [
    "def my_fun(**name):\n",
    "    print(\"your name:\"+name[lname])\n",
    "my_fun(\"aaa\",\"bbb\",lname=\"ccc\")"
   ]
  },
  {
   "cell_type": "markdown",
   "id": "fa624d22",
   "metadata": {},
   "source": [
    "## Recursive function call"
   ]
  },
  {
   "cell_type": "code",
   "execution_count": 7,
   "id": "4f515512",
   "metadata": {},
   "outputs": [
    {
     "data": {
      "text/plain": [
       "120"
      ]
     },
     "execution_count": 7,
     "metadata": {},
     "output_type": "execute_result"
    }
   ],
   "source": [
    "def fact(n):\n",
    "    if(n==0):\n",
    "        result=1\n",
    "    else:\n",
    "        result=n*fact(n-1)\n",
    "    return result\n",
    "fact(n=5)"
   ]
  },
  {
   "cell_type": "markdown",
   "id": "dcd0f7f3",
   "metadata": {},
   "source": [
    "## Lambda Function"
   ]
  },
  {
   "cell_type": "code",
   "execution_count": 8,
   "id": "38ecd550",
   "metadata": {},
   "outputs": [
    {
     "name": "stdout",
     "output_type": "stream",
     "text": [
      "square of 5: 25\n"
     ]
    }
   ],
   "source": [
    "#taking square\n",
    "\n",
    "f = lambda x: x*x\n",
    "value = f(5)\n",
    "print(\"square of 5:\",value)"
   ]
  },
  {
   "cell_type": "code",
   "execution_count": 9,
   "id": "73083796",
   "metadata": {},
   "outputs": [
    {
     "name": "stdout",
     "output_type": "stream",
     "text": [
      "Addition is: 15.12\n"
     ]
    }
   ],
   "source": [
    "#addition\n",
    "\n",
    "f = lambda x,y: x+y\n",
    "value = f(5,10.12)\n",
    "print(\"Addition is:\",value)"
   ]
  },
  {
   "cell_type": "code",
   "execution_count": 10,
   "id": "97c885c8",
   "metadata": {},
   "outputs": [
    {
     "name": "stdout",
     "output_type": "stream",
     "text": [
      "enter two number2 15\n",
      "Bigger is: 15\n"
     ]
    }
   ],
   "source": [
    "#if else in lambda\n",
    "\n",
    "m = lambda x,y: x if x>y else y\n",
    "a,b = [int(n) for n in input(\"enter two number\").split()]\n",
    "print(\"Bigger is:\",m(a,b))"
   ]
  },
  {
   "cell_type": "markdown",
   "id": "3851cd17",
   "metadata": {},
   "source": [
    "### Program to Find Vowels, Consonants and Numbers from Given String"
   ]
  },
  {
   "cell_type": "code",
   "execution_count": 1,
   "id": "0d87c8f7",
   "metadata": {},
   "outputs": [
    {
     "name": "stdout",
     "output_type": "stream",
     "text": [
      "hello Java 123456789 \n",
      "vowel 4\n",
      "consonant 5\n",
      "numbers 9\n"
     ]
    }
   ],
   "source": [
    "def check(li):\n",
    "    cons,vow,num=0,0,0\n",
    "    for i in range(0,len(str)):\n",
    "        if(str[i]!=' '):\n",
    "            if(str[i]=='a'or str[i]=='e' or str[i] == 'i' or str[i]=='o' or \n",
    "               str[i]=='u' or str[i]=='A'or str[i]=='E' or str[i] == 'I' or str[i]=='O' or str[i]=='U'):\n",
    "                vow = vow + 1\n",
    "            elif(str[i] >= '0' and str[i] <= '9'):\n",
    "                num = num + 1\n",
    "            else:\n",
    "                cons = cons + 1\n",
    "    print(\"vowel\",vow)\n",
    "    print(\"consonant\",cons)\n",
    "    print(\"numbers\",num)\n",
    "    \n",
    "str = input()\n",
    "check(str)"
   ]
  },
  {
   "cell_type": "markdown",
   "id": "9b55d455",
   "metadata": {},
   "source": [
    "### Find GCD"
   ]
  },
  {
   "cell_type": "code",
   "execution_count": 5,
   "id": "9e3036a3",
   "metadata": {},
   "outputs": [
    {
     "name": "stdout",
     "output_type": "stream",
     "text": [
      "Enter 1st number: 9\n",
      "Enter 2nd number: 19\n",
      "GCD of two numbers: (9, 10)\n"
     ]
    }
   ],
   "source": [
    "def GCD(a,b):\n",
    "    if(a==0):\n",
    "        return 0\n",
    "    if(b==0):\n",
    "        return 0\n",
    "    if(a>b):\n",
    "        return (a-b,b)\n",
    "    elif(b>a):\n",
    "        return (a,b-a)\n",
    "    else:\n",
    "        return (\"not found GCD number\")\n",
    "\n",
    "a = int(input(\"Enter 1st number: \"))\n",
    "b = int(input(\"Enter 2nd number: \"))\n",
    "print(\"GCD of two numbers:\",GCD(a,b))"
   ]
  },
  {
   "cell_type": "markdown",
   "id": "c9dbface",
   "metadata": {},
   "source": [
    "### Neon Number"
   ]
  },
  {
   "cell_type": "code",
   "execution_count": 1,
   "id": "f0d854e3",
   "metadata": {},
   "outputs": [
    {
     "name": "stdout",
     "output_type": "stream",
     "text": [
      "Enter any one number: 9\n",
      "true\n"
     ]
    }
   ],
   "source": [
    "def neon(a):\n",
    "    b=a*a\n",
    "    sum = 0\n",
    "    for digit in str(b): \n",
    "        sum += int(digit)\n",
    "    return sum\n",
    "\n",
    "a = int(input(\"Enter any one number: \"))\n",
    "if(neon(a)==a):\n",
    "    print(\"true\")\n",
    "else:\n",
    "    print(\"false\")"
   ]
  },
  {
   "cell_type": "markdown",
   "id": "53dd497b",
   "metadata": {},
   "source": [
    "### String Palindrome"
   ]
  },
  {
   "cell_type": "code",
   "execution_count": 2,
   "id": "1d8d6747",
   "metadata": {},
   "outputs": [
    {
     "name": "stdout",
     "output_type": "stream",
     "text": [
      "Enter the string to check it is palindrome or not: aba\n",
      "It is palindrome\n"
     ]
    }
   ],
   "source": [
    "str = input(\"Enter the string to check it is palindrome or not: \")\n",
    "str1 = str[::-1]\n",
    "if(str == str1):\n",
    "    print(\"It is palindrome\")\n",
    "else:\n",
    "    print(\"It is not palindrome\")"
   ]
  },
  {
   "cell_type": "code",
   "execution_count": null,
   "id": "e61a2312",
   "metadata": {},
   "outputs": [],
   "source": []
  }
 ],
 "metadata": {
  "kernelspec": {
   "display_name": "Python 3",
   "language": "python",
   "name": "python3"
  },
  "language_info": {
   "codemirror_mode": {
    "name": "ipython",
    "version": 3
   },
   "file_extension": ".py",
   "mimetype": "text/x-python",
   "name": "python",
   "nbconvert_exporter": "python",
   "pygments_lexer": "ipython3",
   "version": "3.8.8"
  }
 },
 "nbformat": 4,
 "nbformat_minor": 5
}
