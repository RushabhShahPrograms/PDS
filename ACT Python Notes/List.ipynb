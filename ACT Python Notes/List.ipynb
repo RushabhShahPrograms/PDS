{
 "cells": [
  {
   "cell_type": "markdown",
   "id": "10978588",
   "metadata": {},
   "source": [
    "# List[]"
   ]
  },
  {
   "cell_type": "code",
   "execution_count": 1,
   "id": "b87fa1d5",
   "metadata": {},
   "outputs": [
    {
     "name": "stdout",
     "output_type": "stream",
     "text": [
      "[1, 2, 3]\n",
      "['rushabh', 'shah']\n",
      "[1, 2, 'rushabh', 'shah', 34, 'python']\n"
     ]
    }
   ],
   "source": [
    "#list() format\n",
    "\n",
    "a=[1,2,3]\n",
    "b=[\"rushabh\",\"shah\"]\n",
    "c=[1,2,\"rushabh\",\"shah\",34,\"python\"]\n",
    "print(a)\n",
    "print(b)\n",
    "print(c)"
   ]
  },
  {
   "cell_type": "markdown",
   "id": "5f6cd86e",
   "metadata": {},
   "source": [
    "## Access Method"
   ]
  },
  {
   "cell_type": "code",
   "execution_count": 2,
   "id": "4cabab64",
   "metadata": {},
   "outputs": [
    {
     "name": "stdout",
     "output_type": "stream",
     "text": [
      "b\n",
      "c\n"
     ]
    }
   ],
   "source": [
    "#access items\n",
    "\n",
    "a=[\"a\",\"b\",\"c\"]\n",
    "print(a[1])\n",
    "print(a[2])"
   ]
  },
  {
   "cell_type": "markdown",
   "id": "3559ce88",
   "metadata": {},
   "source": [
    "## Negative Indexing"
   ]
  },
  {
   "cell_type": "code",
   "execution_count": 3,
   "id": "f90e08f9",
   "metadata": {},
   "outputs": [
    {
     "name": "stdout",
     "output_type": "stream",
     "text": [
      "aaa\n",
      "xyz\n"
     ]
    }
   ],
   "source": [
    "#negative indexing\n",
    "\n",
    "thislist = [\"abc\",\"xyz\",\"aaa\"]\n",
    "print(thislist[-1])\n",
    "print(thislist[-2])"
   ]
  },
  {
   "cell_type": "markdown",
   "id": "aa62f851",
   "metadata": {},
   "source": [
    "## Range of Index"
   ]
  },
  {
   "cell_type": "code",
   "execution_count": 4,
   "id": "aae81dd4",
   "metadata": {},
   "outputs": [
    {
     "name": "stdout",
     "output_type": "stream",
     "text": [
      "[4, 5, 6, 'a', 'b', 'c', 'd']\n",
      "[3, 4]\n",
      "[1, 2, 3, 4, 5, 6, 'a']\n",
      "['a', 'b', 'c']\n"
     ]
    }
   ],
   "source": [
    "#range of index\n",
    "\n",
    "thislist=[1,2,3,4,5,6,\"a\",'b','c','d']\n",
    "print(thislist[3:])\n",
    "print(thislist[2:4])\n",
    "print(thislist[:7])\n",
    "print(thislist[-4:-1])"
   ]
  },
  {
   "cell_type": "markdown",
   "id": "08eb01b2",
   "metadata": {},
   "source": [
    "## Change Item value"
   ]
  },
  {
   "cell_type": "code",
   "execution_count": 5,
   "id": "fb367d3e",
   "metadata": {},
   "outputs": [
    {
     "name": "stdout",
     "output_type": "stream",
     "text": [
      "['a', 'd', 'c']\n"
     ]
    }
   ],
   "source": [
    "#change item value\n",
    "\n",
    "thislist = [\"a\",\"b\",\"c\"]\n",
    "thislist[1] = \"d\"\n",
    "print(thislist)"
   ]
  },
  {
   "cell_type": "markdown",
   "id": "fde45a4b",
   "metadata": {},
   "source": [
    "## loop through a list"
   ]
  },
  {
   "cell_type": "code",
   "execution_count": 6,
   "id": "edbb2739",
   "metadata": {},
   "outputs": [
    {
     "name": "stdout",
     "output_type": "stream",
     "text": [
      "a\n",
      "b\n",
      "c\n"
     ]
    }
   ],
   "source": [
    "#loop through the list\n",
    "\n",
    "thislist = [\"a\",\"b\",\"c\"]\n",
    "for r in thislist:\n",
    "    print(r)"
   ]
  },
  {
   "cell_type": "markdown",
   "id": "5ed9081b",
   "metadata": {},
   "source": [
    "## Check if them exists"
   ]
  },
  {
   "cell_type": "code",
   "execution_count": 26,
   "id": "4ca7d711",
   "metadata": {},
   "outputs": [
    {
     "name": "stdout",
     "output_type": "stream",
     "text": [
      "Yes, 'a' is in the thislist\n"
     ]
    }
   ],
   "source": [
    "#check if them exists\n",
    "\n",
    "thislist = [\"a\",\"b\",\"c\"]\n",
    "if \"a\" in thislist:\n",
    "    print(\"Yes, 'a' is in the thislist\")"
   ]
  },
  {
   "cell_type": "markdown",
   "id": "31b51965",
   "metadata": {},
   "source": [
    "## List Length"
   ]
  },
  {
   "cell_type": "code",
   "execution_count": 8,
   "id": "2a2ac700",
   "metadata": {},
   "outputs": [
    {
     "name": "stdout",
     "output_type": "stream",
     "text": [
      "Length of List is:  8\n"
     ]
    }
   ],
   "source": [
    "#list length\n",
    "\n",
    "thislist = [\"a\",\"b\",\"c\",1,2,3,4,5]\n",
    "print(\"Length of List is: \",(len(thislist)))"
   ]
  },
  {
   "cell_type": "markdown",
   "id": "cf2c64c9",
   "metadata": {},
   "source": [
    "## Add Items"
   ]
  },
  {
   "cell_type": "code",
   "execution_count": 9,
   "id": "083e7ed1",
   "metadata": {},
   "outputs": [
    {
     "name": "stdout",
     "output_type": "stream",
     "text": [
      "['a', 'b', 'c', 'd']\n"
     ]
    }
   ],
   "source": [
    "#append()\n",
    "\n",
    "thislist = [\"a\",\"b\",\"c\"]\n",
    "thislist.append(\"d\")\n",
    "print(thislist)"
   ]
  },
  {
   "cell_type": "code",
   "execution_count": 10,
   "id": "828d5a3a",
   "metadata": {},
   "outputs": [
    {
     "name": "stdout",
     "output_type": "stream",
     "text": [
      "['a', 'd', 'b', 'c']\n",
      "[1, 2, 'a', 3, 4, 5]\n"
     ]
    }
   ],
   "source": [
    "#insert()\n",
    "\n",
    "thislist = [\"a\",\"b\",\"c\"]\n",
    "thislist.insert(1,\"d\")\n",
    "print(thislist)\n",
    "\n",
    "list1 = [1,2,3,4,5]\n",
    "list1.insert(2,\"a\")\n",
    "print(list1)"
   ]
  },
  {
   "cell_type": "markdown",
   "id": "5bab27a8",
   "metadata": {},
   "source": [
    "## Remove Item"
   ]
  },
  {
   "cell_type": "code",
   "execution_count": 11,
   "id": "03a02a7d",
   "metadata": {},
   "outputs": [
    {
     "name": "stdout",
     "output_type": "stream",
     "text": [
      "['a', 'c']\n"
     ]
    }
   ],
   "source": [
    "#remove()\n",
    "\n",
    "thislist = [\"a\",\"b\",\"c\"]\n",
    "thislist.remove(\"b\")\n",
    "print(thislist)"
   ]
  },
  {
   "cell_type": "code",
   "execution_count": 12,
   "id": "295b923a",
   "metadata": {},
   "outputs": [
    {
     "name": "stdout",
     "output_type": "stream",
     "text": [
      "['a', 'b']\n"
     ]
    }
   ],
   "source": [
    "#pop()\n",
    "\n",
    "thislist = [\"a\",\"b\",\"c\"]\n",
    "thislist.pop()\n",
    "print(thislist)"
   ]
  },
  {
   "cell_type": "code",
   "execution_count": 13,
   "id": "6329dfe6",
   "metadata": {},
   "outputs": [
    {
     "name": "stdout",
     "output_type": "stream",
     "text": [
      "['b', 'c']\n"
     ]
    }
   ],
   "source": [
    "#del()\n",
    "\n",
    "thislist = [\"a\",\"b\",\"c\"]\n",
    "del thislist[0]\n",
    "print(thislist)"
   ]
  },
  {
   "cell_type": "code",
   "execution_count": 14,
   "id": "df15848c",
   "metadata": {},
   "outputs": [],
   "source": [
    "thislist = [1,2,3,4,5]\n",
    "del thislist"
   ]
  },
  {
   "cell_type": "code",
   "execution_count": 15,
   "id": "4e959bac",
   "metadata": {},
   "outputs": [
    {
     "name": "stdout",
     "output_type": "stream",
     "text": [
      "[]\n"
     ]
    }
   ],
   "source": [
    "thislist = [1,2,3,4,5,\"a\",\"b\",\"c\"]\n",
    "thislist.clear()\n",
    "print(thislist)"
   ]
  },
  {
   "cell_type": "markdown",
   "id": "2e545203",
   "metadata": {},
   "source": [
    "## Copy()"
   ]
  },
  {
   "cell_type": "code",
   "execution_count": 16,
   "id": "fa125516",
   "metadata": {},
   "outputs": [
    {
     "name": "stdout",
     "output_type": "stream",
     "text": [
      "['a', 'b', 'c']\n"
     ]
    }
   ],
   "source": [
    "#copy()\n",
    "thislist = [\"a\",\"b\",\"c\"]\n",
    "mylist = thislist.copy()\n",
    "print(mylist)"
   ]
  },
  {
   "cell_type": "code",
   "execution_count": 17,
   "id": "ae1912b8",
   "metadata": {},
   "outputs": [
    {
     "name": "stdout",
     "output_type": "stream",
     "text": [
      "['a', 'b', 'c']\n"
     ]
    }
   ],
   "source": [
    "thislist = [\"a\",\"b\",\"c\"]\n",
    "mylist = list(thislist)\n",
    "print(mylist)"
   ]
  },
  {
   "cell_type": "markdown",
   "id": "fa65294f",
   "metadata": {},
   "source": [
    "## Join two list"
   ]
  },
  {
   "cell_type": "code",
   "execution_count": 18,
   "id": "b9b8b746",
   "metadata": {},
   "outputs": [
    {
     "name": "stdout",
     "output_type": "stream",
     "text": [
      "[1, 2, 3, 'a', 'b', 'c']\n"
     ]
    }
   ],
   "source": [
    "l1 = [1,2,3]\n",
    "l2 = [\"a\",\"b\",\"c\"]\n",
    "l3 = l1 + l2\n",
    "print(l3)"
   ]
  },
  {
   "cell_type": "code",
   "execution_count": 19,
   "id": "2f109542",
   "metadata": {},
   "outputs": [
    {
     "name": "stdout",
     "output_type": "stream",
     "text": [
      "['a', 'b', 'c', 1, 2, 3]\n"
     ]
    }
   ],
   "source": [
    "l1 = [\"a\",\"b\",\"c\"]\n",
    "l2 = [1,2,3]\n",
    "for x in l2:\n",
    "    l1.append(x)\n",
    "print(l1)"
   ]
  },
  {
   "cell_type": "markdown",
   "id": "3bb4c51f",
   "metadata": {},
   "source": [
    "## count()"
   ]
  },
  {
   "cell_type": "code",
   "execution_count": 20,
   "id": "ca530eb5",
   "metadata": {},
   "outputs": [
    {
     "name": "stdout",
     "output_type": "stream",
     "text": [
      "1\n"
     ]
    }
   ],
   "source": [
    "thislist = [\"a\",\"b\",\"c\"]\n",
    "x = thislist.count(\"c\")\n",
    "print(x)"
   ]
  },
  {
   "cell_type": "markdown",
   "id": "cd511597",
   "metadata": {},
   "source": [
    "## index()"
   ]
  },
  {
   "cell_type": "code",
   "execution_count": 21,
   "id": "4707ddf7",
   "metadata": {},
   "outputs": [
    {
     "name": "stdout",
     "output_type": "stream",
     "text": [
      "2\n"
     ]
    }
   ],
   "source": [
    "#index()\n",
    "\n",
    "thislist = [\"a\",\"b\",\"c\",\"d\"]\n",
    "x=thislist.index(\"c\")\n",
    "print(x)"
   ]
  },
  {
   "cell_type": "markdown",
   "id": "3cb8464f",
   "metadata": {},
   "source": [
    "## reverse"
   ]
  },
  {
   "cell_type": "code",
   "execution_count": 22,
   "id": "ac512a5a",
   "metadata": {},
   "outputs": [
    {
     "name": "stdout",
     "output_type": "stream",
     "text": [
      "['c', 'b', 'a']\n"
     ]
    }
   ],
   "source": [
    "#reverse()\n",
    "\n",
    "thislist = [\"a\",\"b\",\"c\"]\n",
    "thislist.reverse()\n",
    "print(thislist)"
   ]
  },
  {
   "cell_type": "markdown",
   "id": "3bd05e19",
   "metadata": {},
   "source": [
    "## sort()"
   ]
  },
  {
   "cell_type": "code",
   "execution_count": 23,
   "id": "950c9449",
   "metadata": {},
   "outputs": [
    {
     "name": "stdout",
     "output_type": "stream",
     "text": [
      "['a', 'b', 'c', 'd']\n"
     ]
    }
   ],
   "source": [
    "#sort()\n",
    "\n",
    "thislist = ['d','c','b','a']\n",
    "thislist.sort()\n",
    "print(thislist)"
   ]
  },
  {
   "cell_type": "markdown",
   "id": "91a00c62",
   "metadata": {},
   "source": [
    "## Max and Min"
   ]
  },
  {
   "cell_type": "code",
   "execution_count": 24,
   "id": "2b16048e",
   "metadata": {},
   "outputs": [
    {
     "name": "stdout",
     "output_type": "stream",
     "text": [
      "Max value:  111\n",
      "Min value:  10\n"
     ]
    }
   ],
   "source": [
    "#max\n",
    "thislist = [111,11,33]\n",
    "lmax = max(thislist)\n",
    "print(\"Max value: \",lmax)\n",
    "\n",
    "#min\n",
    "thislist1 = [23,45,10]\n",
    "lmin = min(thislist1)\n",
    "print(\"Min value: \",lmin)"
   ]
  },
  {
   "cell_type": "code",
   "execution_count": null,
   "id": "404a2bb9",
   "metadata": {},
   "outputs": [],
   "source": []
  }
 ],
 "metadata": {
  "kernelspec": {
   "display_name": "Python 3",
   "language": "python",
   "name": "python3"
  },
  "language_info": {
   "codemirror_mode": {
    "name": "ipython",
    "version": 3
   },
   "file_extension": ".py",
   "mimetype": "text/x-python",
   "name": "python",
   "nbconvert_exporter": "python",
   "pygments_lexer": "ipython3",
   "version": "3.8.8"
  }
 },
 "nbformat": 4,
 "nbformat_minor": 5
}
